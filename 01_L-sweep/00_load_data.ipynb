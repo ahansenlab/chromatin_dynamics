{
 "cells": [
  {
   "cell_type": "code",
   "execution_count": 1,
   "id": "06abfb71",
   "metadata": {},
   "outputs": [],
   "source": [
    "import os\n",
    "os.environ['OMP_NUM_THREADS'] = '1'\n",
    "\n",
    "from pathlib import Path\n",
    "from multiprocessing import Pool\n",
    "from tqdm.auto import tqdm\n",
    "import re\n",
    "\n",
    "import numpy as np\n",
    "from scipy import optimize\n",
    "from matplotlib import pyplot as plt\n",
    "import matplotlib.colors\n",
    "\n",
    "import noctiluca as nl"
   ]
  },
  {
   "cell_type": "code",
   "execution_count": 2,
   "id": "3b74422b",
   "metadata": {},
   "outputs": [],
   "source": [
    "def find_timestep(npy):\n",
    "    tim = npy['tim']\n",
    "    tid = npy['tid']\n",
    "\n",
    "    dt = np.diff(tim)[np.diff(tid) == 0] # exclude steps across different trajectories\n",
    "    if np.any(dt == 0):\n",
    "        raise ValueError(\"Found zero time lag!\")\n",
    "\n",
    "    # Numerics might be better if everything is O(1)\n",
    "    scale = np.min(dt)\n",
    "    dt = dt / scale\n",
    "    mindt = np.min(dt)\n",
    "    \n",
    "    # Step 1: rough estimate through MSE\n",
    "    def mse(step):\n",
    "        ints = np.round(dt/step).astype(int)\n",
    "        return np.sum((dt-step*ints)**2)\n",
    "\n",
    "    res = optimize.minimize(mse, mindt,\n",
    "                            bounds=[(mindt, np.inf)],\n",
    "                           )\n",
    "    if not res.success:\n",
    "        print(res)\n",
    "        raise RuntimeError\n",
    "\n",
    "    step = res.x\n",
    "\n",
    "    # Step 2: identify real integer steps\n",
    "    udts = []\n",
    "    Ns = []\n",
    "    cur = 0.5*step\n",
    "    while cur < np.max(dt):\n",
    "        ind = (dt > cur) & (dt < cur+step)\n",
    "        Ns.append(np.sum(ind))\n",
    "        if Ns[-1] > 0:\n",
    "            udts.append(np.mean(dt[ind]))\n",
    "            cur = udts[-1] + 0.5*step\n",
    "        else:\n",
    "            udts.append(np.nan)\n",
    "            cur += step\n",
    "    udts = np.array(udts)\n",
    "    Ns   = np.array(Ns)\n",
    "\n",
    "    # Step 3: fit actual best lag time\n",
    "    ind = ~np.isnan(udts)\n",
    "    with np.errstate(divide='ignore'):\n",
    "        sigma = 1/np.sqrt(Ns[ind]-1)\n",
    "    res = optimize.curve_fit(lambda x, a: a*x,\n",
    "                             np.arange(len(udts))[ind]+1,\n",
    "                             udts[ind],\n",
    "                             sigma=sigma,\n",
    "                            )\n",
    "\n",
    "    return res[0][0]*scale"
   ]
  },
  {
   "cell_type": "code",
   "execution_count": 3,
   "id": "7e03fd82",
   "metadata": {},
   "outputs": [],
   "source": [
    "def load_file(file, relpath, dt_dict=None):\n",
    "    npy = np.load(file)\n",
    "    dt = find_timestep(npy)\n",
    "    \n",
    "    tim = npy['tim']\n",
    "    tid = npy['tid']\n",
    "    loc = npy['itr'][:, -1]['loc'][:, :2] # (#loc, 2) (we ignore z, since data is 2D)\n",
    "    \n",
    "    utid = np.unique(tid)\n",
    "    \n",
    "    data = nl.TaggedSet()\n",
    "    for my_tid in utid:\n",
    "        ind = tid == my_tid\n",
    "        my_tim = tim[ind]\n",
    "        my_loc = loc[ind]\n",
    "        \n",
    "        lag = np.round(np.diff(my_tim)/dt).astype(int)\n",
    "        t = np.insert(np.cumsum(lag), 0, 0)\n",
    "        \n",
    "        traj = nl.Trajectory(my_loc, t=t, tid=my_tid, dt=dt)\n",
    "        data.add(traj)\n",
    "    \n",
    "    relfile = file.relative_to(relpath)\n",
    "    data.addTags(f'file={str(relfile)}')\n",
    "    data.addTags(filename2tags(relfile))\n",
    "    \n",
    "    if dt_dict is not None:\n",
    "        dt_dict[str(relfile)] = dt\n",
    "    \n",
    "    return data"
   ]
  },
  {
   "cell_type": "code",
   "execution_count": 4,
   "id": "84016f04",
   "metadata": {},
   "outputs": [],
   "source": [
    "def filename2tags(f):\n",
    "    s = str(f)\n",
    "    tags = set()\n",
    "\n",
    "    L = re.search('L\\d+', s)[0]\n",
    "    tags |= {'L='+L[1:]}\n",
    "    \n",
    "    return tags"
   ]
  },
  {
   "cell_type": "code",
   "execution_count": 5,
   "id": "25bf8e9c",
   "metadata": {},
   "outputs": [
    {
     "data": {
      "text/plain": [
       "88"
      ]
     },
     "execution_count": 5,
     "metadata": {},
     "output_type": "execute_result"
    }
   ],
   "source": [
    "path = Path('../raw_data/MINFLUX/L-Sweep/npy')\n",
    "files = []\n",
    "files += list((path).rglob('*.npy'))\n",
    "len(files)"
   ]
  },
  {
   "cell_type": "code",
   "execution_count": 6,
   "id": "c76164e7",
   "metadata": {},
   "outputs": [
    {
     "data": {
      "application/vnd.jupyter.widget-view+json": {
       "model_id": "9ba780737f49460f8c6a80ed83a4da4a",
       "version_major": 2,
       "version_minor": 0
      },
      "text/plain": [
       "  0%|          | 0/88 [00:00<?, ?it/s]"
      ]
     },
     "metadata": {},
     "output_type": "display_data"
    }
   ],
   "source": [
    "dt_dict = {}\n",
    "data = nl.TaggedSet()\n",
    "for f in tqdm(files):\n",
    "    data |= load_file(f, path, dt_dict)"
   ]
  },
  {
   "cell_type": "code",
   "execution_count": 7,
   "id": "d6d51d6a",
   "metadata": {
    "scrolled": true
   },
   "outputs": [
    {
     "data": {
      "image/png": "[encoded data removed]",
      "text/plain": [
       "<Figure size 640x480 with 1 Axes>"
      ]
     },
     "metadata": {},
     "output_type": "display_data"
    },
    {
     "name": "stdout",
     "output_type": "stream",
     "text": [
      "215.0773185126437 L250/240823-153109_minflux.npy\n",
      "215.13243457020815 L250/240823-152724_minflux.npy\n",
      "215.38620963106845 L100/240823-161802_minflux.npy\n",
      "215.42089098175498 L100/240823-124002_minflux.npy\n",
      "215.45295079612924 L250/240823-153327_minflux.npy\n",
      "215.46143824379917 L250/240823-154225_minflux.npy\n",
      "215.49894747845818 L250/240823-154934_minflux.npy\n",
      "215.5002445387105 L250/240823-152847_minflux.npy\n",
      "215.50843939289737 L100/240823-124345_minflux.npy\n",
      "215.54490588648002 L150/240823-160751_minflux.npy\n",
      "215.56701444531916 L100/240823-160957_minflux.npy\n",
      "215.59793899172612 L30/240530-175757_minflux.npy\n",
      "215.6547611441922 L250/240823-153652_minflux.npy\n",
      "215.69367481662735 L30/240530-180408_minflux.npy\n",
      "215.69992675215792 L250/240823-154708_minflux.npy\n",
      "215.70921323640493 L30/240530-175702_minflux.npy\n",
      "215.79647753939463 L100/240823-161401_minflux.npy\n",
      "215.85910951433172 L200/240823-152223_minflux.npy\n",
      "215.90474643093867 L100/240823-124939_minflux.npy\n",
      "215.95376944062508 L30/240531-125220_minflux.npy\n",
      "215.9597527521219 L40/240530-164114_minflux.npy\n",
      "215.9877101806334 L250/240823-152541_minflux.npy\n",
      "216.0323436236258 L30/240531-124457_minflux.npy\n",
      "216.065735051959 L100/240823-125312_minflux.npy\n",
      "216.0900399308083 L40/240530-174505_minflux.npy\n",
      "216.1062878271088 L175/240823-144253_minflux.npy\n",
      "216.14992377986673 L200/240823-155408_minflux.npy\n",
      "216.17136272836143 L40/240531-124331_minflux.npy\n",
      "216.17442712262078 L150/240823-142349_minflux.npy\n",
      "216.18431688000484 L30/240530-163325_minflux.npy\n",
      "216.1965741203974 L150/240823-143625_minflux.npy\n",
      "216.26130190947606 L150/240823-142618_minflux.npy\n",
      "216.26316590992536 L40/240531-123918_minflux.npy\n",
      "216.3655759683969 L40/240530-164608_minflux.npy\n",
      "216.3965634948834 L40/240530-175207_minflux.npy\n",
      "216.4044886119938 L30/240530-163114_minflux.npy\n",
      "216.4224496418416 L175/240823-155717_minflux.npy\n",
      "216.42470675180635 L30/240530-163657_minflux.npy\n",
      "216.45398014559177 L175/240823-145653_minflux.npy\n",
      "216.45626283109863 L100/240823-125856_minflux.npy\n",
      "216.53157869656184 L40/240530-164933_minflux.npy\n",
      "216.54495767782217 L150/240823-144001_minflux.npy\n",
      "216.55345548204022 L200/240823-155222_minflux.npy\n",
      "216.57871451037008 L40/240531-123548_minflux.npy\n",
      "216.59890487161002 L150/240823-160512_minflux.npy\n",
      "216.6112842682516 L150/240823-160147_minflux.npy\n",
      "216.6123638224545 L30/240530-180218_minflux.npy\n",
      "216.63844908075762 L30/240531-125532_minflux.npy\n",
      "216.6421627235816 L100/240823-125636_minflux.npy\n",
      "216.64330085568767 L30/240530-175930_minflux.npy\n",
      "216.6591691661727 L175/240823-145041_minflux.npy\n",
      "216.68654692312106 L200/240823-155554_minflux.npy\n",
      "216.7169512088096 L40/240530-175047_minflux.npy\n",
      "216.7361377332264 L40/240531-124248_minflux.npy\n",
      "216.7479249788055 L30/240531-124651_minflux.npy\n",
      "216.7565110252329 L40/240530-174901_minflux.npy\n",
      "216.85504599257104 L30/240530-175546_minflux.npy\n",
      "216.85993231269254 L30/240531-124959_minflux.npy\n",
      "216.90956916641198 L40/240530-175309_minflux.npy\n",
      "216.92653914506238 L200/240823-150406_minflux.npy\n",
      "216.98364288793823 L30/240531-125712_minflux.npy\n",
      "217.02061951153112 L30/240530-162917_minflux.npy\n",
      "217.0519082553449 L40/240530-175359_minflux.npy\n",
      "217.0559682534824 L40/240531-123331_minflux.npy\n",
      "217.0742695110975 L175/240823-144814_minflux.npy\n",
      "217.08815426414455 L150/240823-142116_minflux.npy\n",
      "217.13082458696087 L175/240823-145942_minflux.npy\n",
      "217.14375473332643 L40/240530-163901_minflux.npy\n",
      "217.15906747494418 L200/240823-150651_minflux.npy\n",
      "217.2686846749447 L175/240823-145438_minflux.npy\n",
      "217.3244404537381 L40/240530-174742_minflux.npy\n",
      "217.33038485654518 L200/240823-151950_minflux.npy\n",
      "217.43587540546253 L40/240531-123739_minflux.npy\n",
      "217.43710812919548 L175/240823-150147_minflux.npy\n",
      "217.47911203665808 L200/240823-151224_minflux.npy\n",
      "217.60769761740477 L40/240530-164321_minflux.npy\n",
      "217.63792938269899 L175/240823-155933_minflux.npy\n",
      "217.71734191083763 L200/240823-150930_minflux.npy\n",
      "217.76715505084164 L30/240531-125744_minflux.npy\n",
      "217.84911266142387 L150/240823-143151_minflux.npy\n",
      "218.02186823062632 L200/240823-151742_minflux.npy\n",
      "218.06390436621533 L150/240823-143004_minflux.npy\n",
      "218.58400497185934 L250/240823-153939_minflux.npy\n",
      "218.5990074894535 L30/240530-163507_minflux.npy\n",
      "218.75153809784584 L40/240530-164855_minflux.npy\n",
      "218.84024141845393 L100/240823-141622_minflux.npy\n",
      "219.0176763992506 L30/240530-180058_minflux.npy\n",
      "222.78635004793273 L175/240823-144609_minflux.npy\n"
     ]
    }
   ],
   "source": [
    "# Check time steps\n",
    "dts = np.array([dt_dict[f] for f in dt_dict])\n",
    "fs  = np.array([f          for f in dt_dict])\n",
    "\n",
    "plt.hist(dts*1e6, bins='auto')\n",
    "\n",
    "plt.yscale('log')\n",
    "plt.xlabel('measured time lag Δt [μs]')\n",
    "plt.ylabel('count')\n",
    "plt.show()\n",
    "\n",
    "ind = np.argsort(dts)\n",
    "for i in ind:\n",
    "    print(dts[i]*1e6, str(fs[i]))"
   ]
  },
  {
   "cell_type": "code",
   "execution_count": 8,
   "id": "5adfab29",
   "metadata": {},
   "outputs": [
    {
     "name": "stdout",
     "output_type": "stream",
     "text": [
      "Deleting 40 trajectories with < 2 localizations\n"
     ]
    }
   ],
   "source": [
    "# Some cleanup\n",
    "data.makeSelection(lambda traj, _: traj.F < 2)\n",
    "print(f\"Deleting {len(data)} trajectories with < 2 localizations\")\n",
    "data.deleteSelection()\n",
    "\n",
    "# Cut off first localization (bc that's the first one, where we have to search for the locus)\n",
    "for traj in data:\n",
    "    i_start = np.nonzero(np.cumsum(~np.isnan(traj.abs()[:][:, 0])) == 2)[0][0]\n",
    "    traj.data = traj.data[:, i_start:, :]"
   ]
  },
  {
   "cell_type": "code",
   "execution_count": 9,
   "id": "dd9232f0",
   "metadata": {},
   "outputs": [
    {
     "name": "stdout",
     "output_type": "stream",
     "text": [
      "#trajs     tags\n",
      "--------------------------------------------------\n",
      "  609      L=30                \n",
      "  545      L=40                \n",
      "  648      L=100               \n",
      "  571      L=150               \n",
      "  569      L=175               \n",
      "  580      L=200               \n",
      "  920      L=250               \n",
      "--------------------------------------------------\n",
      "    0      <none of the above; just to check>\n",
      "--------------------------------------------------\n",
      " 4442      sum of above\n",
      " 4442      total in data set\n"
     ]
    }
   ],
   "source": [
    "tagsets = []\n",
    "data.makeSelection()\n",
    "Ls = sorted({int(tag[2:]) for tag in data.tagset() if tag.startswith('L=')})\n",
    "for L in Ls:\n",
    "    tagsets.append({f'L={L}'})\n",
    "            \n",
    "print('#trajs     tags')\n",
    "print(50*'-')\n",
    "            \n",
    "N_total = 0\n",
    "for tags in tagsets:\n",
    "    data.makeSelection(tags, logic=all)\n",
    "    taglist = []\n",
    "    for ident in ['L']:\n",
    "        tgs = {tag for tag in tags if tag.startswith(ident+'=')}\n",
    "        if len(tgs) > 0:\n",
    "            taglist.append(tgs.pop())\n",
    "            \n",
    "    print(f'{len(data):5d}      '+(len(taglist)*'{:20s}').format(*taglist))\n",
    "    N_total += len(data)\n",
    "\n",
    "print(50*'-')\n",
    "data.makeSelection(lambda _, tags: not any(all(tag in tags for tag in tagset)\n",
    "                                           for tagset in tagsets))\n",
    "print(f'{len(data):5d}      '+'<none of the above; just to check>')\n",
    "\n",
    "print(50*'-')\n",
    "data.makeSelection()\n",
    "print(f'{N_total:5d}      '+'sum of above')\n",
    "print(f'{len(data):5d}      '+'total in data set')"
   ]
  },
  {
   "cell_type": "code",
   "execution_count": 10,
   "id": "29598acf",
   "metadata": {},
   "outputs": [],
   "source": [
    "def tags2label(tags, omit=set()):\n",
    "    taglist = []\n",
    "    for ident in ['L']:\n",
    "        if ident in omit:\n",
    "            continue\n",
    "            \n",
    "        tgs = {tag for tag in tags if tag.startswith(ident+'=')}\n",
    "        if len(tgs) > 0:\n",
    "            tag = tgs.pop()\n",
    "            \n",
    "            val = re.match(ident+'=(.*)', tag)[1]\n",
    "            if ident == 'L':\n",
    "                val = 'L'+val\n",
    "                \n",
    "            taglist.append(val)\n",
    "    \n",
    "    return ', '.join(taglist)"
   ]
  },
  {
   "cell_type": "code",
   "execution_count": 11,
   "id": "2d06facc",
   "metadata": {},
   "outputs": [],
   "source": [
    "conditions = []\n",
    "for tags in tagsets:\n",
    "    data.makeSelection(tags, logic=all)\n",
    "    cond = tags2label(tags)\n",
    "    data.addTags({cond, 'condition='+cond})\n",
    "    conditions.append(cond)"
   ]
  },
  {
   "cell_type": "code",
   "execution_count": 12,
   "id": "69bcf292",
   "metadata": {},
   "outputs": [
    {
     "data": {
      "image/png": "[encoded data removed]",
      "text/plain": [
       "<Figure size 640x480 with 1 Axes>"
      ]
     },
     "metadata": {},
     "output_type": "display_data"
    }
   ],
   "source": [
    "# Check survival curves\n",
    "# --> *need* proper parallelization for MSD calculation, otherwise we're screwed hard\n",
    "for cond in conditions:\n",
    "    data.makeSelection(cond)\n",
    "    \n",
    "    lens = np.flip(np.sort(list(map(len, data))))\n",
    "    Fs   = np.flip(np.sort(list(map(lambda traj : traj.F, data))))\n",
    "\n",
    "    plt.plot(lens, np.arange(len(lens)), label=cond)\n",
    "    # plt.plot(Fs, np.arange(len(Fs)))\n",
    "\n",
    "plt.xscale('log')\n",
    "plt.yscale('log')\n",
    "plt.legend(loc=(1.02, 0.0))\n",
    "\n",
    "plt.show()"
   ]
  },
  {
   "cell_type": "code",
   "execution_count": 13,
   "id": "341c0f3a-1399-4968-9290-c8f8ae1f21cf",
   "metadata": {},
   "outputs": [
    {
     "data": {
      "application/vnd.jupyter.widget-view+json": {
       "model_id": "ac903adc956d4a17acf65aed113f3c3c",
       "version_major": 2,
       "version_minor": 0
      },
      "text/plain": [
       "  0%|          | 0/4442 [00:00<?, ?it/s]"
      ]
     },
     "metadata": {},
     "output_type": "display_data"
    }
   ],
   "source": [
    "# Pre-compute MSDs\n",
    "data.makeSelection()\n",
    "with nl.Parallelize():\n",
    "    _ = nl.analysis.MSD(data, chunksize=1, show_progress=True)"
   ]
  },
  {
   "cell_type": "code",
   "execution_count": 14,
   "id": "6e3a7dc1",
   "metadata": {},
   "outputs": [],
   "source": [
    "data.makeSelection()\n",
    "nl.io.write.hdf5({\n",
    "    'data'       : data,\n",
    "    'conditions' : conditions,\n",
    "    'tagsets'    : tagsets,\n",
    "    'dt_dict'    : dt_dict,\n",
    "    'description' : \"\"\"\n",
    "MINFLUX L-sweep\n",
    "\n",
    "H2B (U2OS) data, raw, with different L.\n",
    "\n",
    "Contents of this file:\n",
    " - 'data'       : the data\n",
    " - 'conditions' : list of strings identifying each of the conditions;\n",
    "                  can be used as tags in 'data'\n",
    " - 'tagsets'    : list of sets of tags into 'data', corresponding to\n",
    "                  'conditions'; might be useful\n",
    " - 'dt_dict'    : lag time extracted from each file. Note that trajectories\n",
    "                  in 'data' also have meta-entries 'dt'. Generally seems\n",
    "                  consistent at 216μs\n",
    "\n",
    "Other notes:\n",
    " - we did not (yet) filter out short trajectories\n",
    " - the first localization of each trajectory has been removed\n",
    " - MSDs are pre-calculated for all trajectories\n",
    "\"\"\"[1:-1],\n",
    "}, '../data/20240825_minflux_L-sweep_raw.h5')"
   ]
  }
 ],
 "metadata": {
  "kernelspec": {
   "display_name": "Python 3 (ipykernel)",
   "language": "python",
   "name": "python3"
  },
  "language_info": {
   "codemirror_mode": {
    "name": "ipython",
    "version": 3
   },
   "file_extension": ".py",
   "mimetype": "text/x-python",
   "name": "python",
   "nbconvert_exporter": "python",
   "pygments_lexer": "ipython3",
   "version": "3.9.9"
  }
 },
 "nbformat": 4,
 "nbformat_minor": 5
}
