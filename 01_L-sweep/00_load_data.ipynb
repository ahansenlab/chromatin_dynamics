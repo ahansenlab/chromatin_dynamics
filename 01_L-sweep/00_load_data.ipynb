{
 "cells": [
  {
   "cell_type": "code",
   "execution_count": 1,
   "id": "06abfb71",
   "metadata": {},
   "outputs": [],
   "source": [
    "import os\n",
    "os.environ['OMP_NUM_THREADS'] = '1'\n",
    "\n",
    "from pathlib import Path\n",
    "from multiprocessing import Pool\n",
    "from tqdm.auto import tqdm\n",
    "import re\n",
    "\n",
    "import numpy as np\n",
    "from scipy import optimize\n",
    "from matplotlib import pyplot as plt\n",
    "import matplotlib.colors\n",
    "\n",
    "import noctiluca as nl"
   ]
  },
  {
   "cell_type": "code",
   "execution_count": 2,
   "id": "3b74422b",
   "metadata": {},
   "outputs": [],
   "source": [
    "def find_timestep(npy):\n",
    "    tim = npy['tim']\n",
    "    tid = npy['tid']\n",
    "\n",
    "    dt = np.diff(tim)[np.diff(tid) == 0] # exclude steps across different trajectories\n",
    "    if np.any(dt == 0):\n",
    "        raise ValueError(\"Found zero time lag!\")\n",
    "\n",
    "    # Numerics might be better if everything is O(1)\n",
    "    scale = np.min(dt)\n",
    "    dt = dt / scale\n",
    "    mindt = np.min(dt)\n",
    "    \n",
    "    # Step 1: rough estimate through MSE\n",
    "    def mse(step):\n",
    "        ints = np.round(dt/step).astype(int)\n",
    "        return np.sum((dt-step*ints)**2)\n",
    "\n",
    "    res = optimize.minimize(mse, mindt,\n",
    "                            bounds=[(mindt, np.inf)],\n",
    "                           )\n",
    "    if not res.success:\n",
    "        print(res)\n",
    "        raise RuntimeError\n",
    "\n",
    "    step = res.x\n",
    "\n",
    "    # Step 2: identify real integer steps\n",
    "    udts = []\n",
    "    Ns = []\n",
    "    cur = 0.5*step\n",
    "    while cur < np.max(dt):\n",
    "        ind = (dt > cur) & (dt < cur+step)\n",
    "        Ns.append(np.sum(ind))\n",
    "        if Ns[-1] > 0:\n",
    "            udts.append(np.mean(dt[ind]))\n",
    "            cur = udts[-1] + 0.5*step\n",
    "        else:\n",
    "            udts.append(np.nan)\n",
    "            cur += step\n",
    "    udts = np.array(udts)\n",
    "    Ns   = np.array(Ns)\n",
    "\n",
    "    # Step 3: fit actual best lag time\n",
    "    ind = ~np.isnan(udts)\n",
    "    with np.errstate(divide='ignore'):\n",
    "        sigma = 1/np.sqrt(Ns[ind]-1)\n",
    "    res = optimize.curve_fit(lambda x, a: a*x,\n",
    "                             np.arange(len(udts))[ind]+1,\n",
    "                             udts[ind],\n",
    "                             sigma=sigma,\n",
    "                            )\n",
    "\n",
    "    return res[0][0]*scale"
   ]
  },
  {
   "cell_type": "code",
   "execution_count": 3,
   "id": "7e03fd82",
   "metadata": {},
   "outputs": [],
   "source": [
    "def load_file(file, relpath, dt_dict=None):\n",
    "    npy = np.load(file)\n",
    "    dt = find_timestep(npy)\n",
    "    \n",
    "    tim = npy['tim']\n",
    "    tid = npy['tid']\n",
    "    loc = npy['itr'][:, -1]['loc'][:, :2] # (#loc, 2) (we ignore z, since data is 2D)\n",
    "    \n",
    "    utid = np.unique(tid)\n",
    "    \n",
    "    data = nl.TaggedSet()\n",
    "    for my_tid in utid:\n",
    "        ind = tid == my_tid\n",
    "        my_tim = tim[ind]\n",
    "        my_loc = loc[ind]\n",
    "        \n",
    "        lag = np.round(np.diff(my_tim)/dt).astype(int)\n",
    "        t = np.insert(np.cumsum(lag), 0, 0)\n",
    "        \n",
    "        traj = nl.Trajectory(my_loc, t=t, tid=my_tid, dt=dt)\n",
    "        data.add(traj)\n",
    "    \n",
    "    relfile = file.relative_to(relpath)\n",
    "    data.addTags(f'file={str(relfile)}')\n",
    "    data.addTags(filename2tags(relfile))\n",
    "    \n",
    "    if dt_dict is not None:\n",
    "        dt_dict[str(relfile)] = dt\n",
    "    \n",
    "    return data"
   ]
  },
  {
   "cell_type": "code",
   "execution_count": 4,
   "id": "84016f04",
   "metadata": {},
   "outputs": [],
   "source": [
    "def filename2tags(f):\n",
    "    s = str(f)\n",
    "    tags = set()\n",
    "    \n",
    "    system = re.search('array|H2B', s)[0]\n",
    "    tags |= {'system='+system, system}\n",
    "\n",
    "    L = re.search('L\\d+', s)[0]\n",
    "    tags |= {'L='+L[1:]}\n",
    "    \n",
    "    return tags"
   ]
  },
  {
   "cell_type": "code",
   "execution_count": 5,
   "id": "25bf8e9c",
   "metadata": {},
   "outputs": [
    {
     "data": {
      "text/plain": [
       "129"
      ]
     },
     "execution_count": 5,
     "metadata": {},
     "output_type": "execute_result"
    }
   ],
   "source": [
    "path = Path('../npy_exported_data/')\n",
    "files = []\n",
    "files += list((path).rglob('*.npy'))\n",
    "len(files)"
   ]
  },
  {
   "cell_type": "code",
   "execution_count": 6,
   "id": "c76164e7",
   "metadata": {},
   "outputs": [
    {
     "data": {
      "application/vnd.jupyter.widget-view+json": {
       "model_id": "a2b20b2dbd0c4ea9b20356412e5dba16",
       "version_major": 2,
       "version_minor": 0
      },
      "text/plain": [
       "  0%|          | 0/129 [00:00<?, ?it/s]"
      ]
     },
     "metadata": {},
     "output_type": "display_data"
    }
   ],
   "source": [
    "dt_dict = {}\n",
    "data = nl.TaggedSet()\n",
    "for f in tqdm(files):\n",
    "    data |= load_file(f, path, dt_dict)"
   ]
  },
  {
   "cell_type": "code",
   "execution_count": 7,
   "id": "d6d51d6a",
   "metadata": {},
   "outputs": [
    {
     "data": {
      "image/png": "[encoded data removed]",
      "text/plain": [
       "<Figure size 432x288 with 1 Axes>"
      ]
     },
     "metadata": {
      "needs_background": "light"
     },
     "output_type": "display_data"
    },
    {
     "name": "stdout",
     "output_type": "stream",
     "text": [
      "185.45400137735837 array/L150 noCFR/240823-122439_minflux.npy\n",
      "185.5225479139219 array/L150 noCFR/240823-122105_minflux.npy\n",
      "185.53228058194614 array/L150 noCFR/240823-122920_minflux.npy\n",
      "185.64096659903038 array/L150 noCFR/240823-123143_minflux.npy\n",
      "185.69679923052877 array/L150 noCFR/240823-122358_minflux.npy\n",
      "185.72384599356326 array/L150 noCFR/240823-122840_minflux.npy\n",
      "185.80920792866644 array/L150 noCFR/240823-123443_minflux.npy\n",
      "185.82519903471402 array/L150 noCFR/240823-122510_minflux.npy\n",
      "185.89480075952497 array/L150 noCFR/240823-123348_minflux.npy\n",
      "185.98487058366024 array/L150 noCFR/240823-122539_minflux.npy\n",
      "185.9875758256328 array/L150 noCFR/240823-122220_minflux.npy\n",
      "186.27749397039943 array/L150 noCFR/240823-122656_minflux.npy\n",
      "186.38001346900748 array/L150 noCFR/240823-121906_minflux.npy\n",
      "187.51647408985914 array/L150 noCFR/240823-122028_minflux.npy\n",
      "189.11846275239327 array/L150 noCFR/240823-121950_minflux.npy\n",
      "214.5631913298919 array/L200/240823-115828_minflux.npy\n",
      "214.69721274470015 array/L200/240823-114252_minflux.npy\n",
      "214.72031480055534 array/L200/240823-101351_minflux.npy\n",
      "214.73255936510765 array/L200/240823-100847_minflux.npy\n",
      "214.91514650768625 array/L200/240823-115313_minflux.npy\n",
      "214.98778768531045 array/L200/240823-103721_minflux.npy\n",
      "215.01572512823918 array/L150/240823-113122_minflux.npy\n",
      "215.0773185126437 H2B/L250/240823-153109_minflux.npy\n",
      "215.0905781892534 array/L200/240823-115143_minflux.npy\n",
      "215.13243457020815 H2B/L250/240823-152724_minflux.npy\n",
      "215.1423053240003 array/L200/240823-103004_minflux.npy\n",
      "215.1565961112569 array/L150/240823-100007_minflux.npy\n",
      "215.16089058697474 array/L200/240823-103759_minflux.npy\n",
      "215.17591194574712 array/L150/240823-095914_minflux.npy\n",
      "215.21048830667297 array/L200/240823-114338_minflux.npy\n",
      "215.26134340047508 array/L150/240823-113024_minflux.npy\n",
      "215.27669894228873 array/L200/240823-115919_minflux.npy\n",
      "215.2796834139798 array/L200/240823-115238_minflux.npy\n",
      "215.325182429346 array/L200/240823-102450_minflux.npy\n",
      "215.38620963106845 H2B/L100/240823-161802_minflux.npy\n",
      "215.39744728810533 array/L200/240823-103938_minflux.npy\n",
      "215.39775591274739 array/L150/240823-095836_minflux.npy\n",
      "215.42089098175498 H2B/L100/240823-124002_minflux.npy\n",
      "215.44347225006078 array/L150/240823-113515_minflux.npy\n",
      "215.45295079612924 H2B/L250/240823-153327_minflux.npy\n",
      "215.45305862917758 array/L100/240823-093810_minflux.npy\n",
      "215.45555411124178 array/L100/240823-094057_minflux.npy\n",
      "215.46143824379917 H2B/L250/240823-154225_minflux.npy\n",
      "215.49894747845818 H2B/L250/240823-154934_minflux.npy\n",
      "215.5002445387105 H2B/L250/240823-152847_minflux.npy\n",
      "215.50843939289737 H2B/L100/240823-124345_minflux.npy\n",
      "215.54490588648002 H2B/L150/240823-160751_minflux.npy\n",
      "215.56682518001122 array/L200/240823-113828_minflux.npy\n",
      "215.56701444531916 H2B/L100/240823-160957_minflux.npy\n",
      "215.58526703696256 array/L100/240823-112422_minflux.npy\n",
      "215.63756189241087 array/L100/240823-112735_minflux.npy\n",
      "215.6547611441922 H2B/L250/240823-153652_minflux.npy\n",
      "215.69992675215792 H2B/L250/240823-154708_minflux.npy\n",
      "215.70083217145438 array/L150/240823-113412_minflux.npy\n",
      "215.70838627967967 array/L150/240823-095610_minflux.npy\n",
      "215.7156909105623 array/L100/240823-092442_minflux.npy\n",
      "215.79170831885372 array/L100/240823-093845_minflux.npy\n",
      "215.79647753939463 H2B/L100/240823-161401_minflux.npy\n",
      "215.85910951433172 H2B/L200/240823-152223_minflux.npy\n",
      "215.90474643093867 H2B/L100/240823-124939_minflux.npy\n",
      "215.92555970633637 array/L100/240823-112300_minflux.npy\n",
      "215.92640206312458 array/L200/240823-104623_minflux.npy\n",
      "215.9357423736456 array/L200/240823-104010_minflux.npy\n",
      "215.95594318324174 array/L150/240823-113559_minflux.npy\n",
      "215.97721745013567 array/L100/240823-093511_minflux.npy\n",
      "215.9877101806334 H2B/L250/240823-152541_minflux.npy\n",
      "216.01203385882482 array/L100/240823-093015_minflux.npy\n",
      "216.03290574821565 array/L100/240823-091939_minflux.npy\n",
      "216.065735051959 H2B/L100/240823-125312_minflux.npy\n",
      "216.0875921235451 array/L150/240823-100039_minflux.npy\n",
      "216.1054730360511 array/L100/240823-094129_minflux.npy\n",
      "216.1062878271088 H2B/L175/240823-144253_minflux.npy\n",
      "216.14992377986673 H2B/L200/240823-155408_minflux.npy\n",
      "216.17442712262078 H2B/L150/240823-142349_minflux.npy\n",
      "216.1965741203974 H2B/L150/240823-143625_minflux.npy\n",
      "216.2386125995906 array/L200/240823-115630_minflux.npy\n",
      "216.26130190947606 H2B/L150/240823-142618_minflux.npy\n",
      "216.4224496418416 H2B/L175/240823-155717_minflux.npy\n",
      "216.45398014559177 H2B/L175/240823-145653_minflux.npy\n",
      "216.45626283109863 H2B/L100/240823-125856_minflux.npy\n",
      "216.47575531839962 array/L100/240823-093432_minflux.npy\n",
      "216.52633574449388 array/L200/240823-104437_minflux.npy\n",
      "216.54495767782217 H2B/L150/240823-144001_minflux.npy\n",
      "216.55345548204022 H2B/L200/240823-155222_minflux.npy\n",
      "216.59890487161002 H2B/L150/240823-160512_minflux.npy\n",
      "216.60079597765446 array/L100/240823-091807_minflux.npy\n",
      "216.6112842682516 H2B/L150/240823-160147_minflux.npy\n",
      "216.6421627235816 H2B/L100/240823-125636_minflux.npy\n",
      "216.6591691661727 H2B/L175/240823-145041_minflux.npy\n",
      "216.68654692312106 H2B/L200/240823-155554_minflux.npy\n",
      "216.8341650076397 array/L200/240823-104544_minflux.npy\n",
      "216.8565967061328 array/L200/240823-105347_minflux.npy\n",
      "216.92653914506238 H2B/L200/240823-150406_minflux.npy\n",
      "216.9626374120382 array/L100/240823-093554_minflux.npy\n",
      "216.9749665504596 array/L100/240823-093334_minflux.npy\n",
      "217.0742695110975 H2B/L175/240823-144814_minflux.npy\n",
      "217.08311462623843 array/L200/240823-102734_minflux.npy\n",
      "217.08815426414455 H2B/L150/240823-142116_minflux.npy\n",
      "217.13082458696087 H2B/L175/240823-145942_minflux.npy\n",
      "217.15906747494418 H2B/L200/240823-150651_minflux.npy\n",
      "217.2686846749447 H2B/L175/240823-145438_minflux.npy\n",
      "217.33038485654518 H2B/L200/240823-151950_minflux.npy\n",
      "217.36005768248287 array/L100/240823-093713_minflux.npy\n",
      "217.43710812919548 H2B/L175/240823-150147_minflux.npy\n",
      "217.47911203665808 H2B/L200/240823-151224_minflux.npy\n",
      "217.4914085473088 array/L100/240823-093946_minflux.npy\n",
      "217.63792938269899 H2B/L175/240823-155933_minflux.npy\n",
      "217.67151845279645 array/L100/240823-092105_minflux.npy\n",
      "217.71734191083763 H2B/L200/240823-150930_minflux.npy\n",
      "217.76232877777412 array/L100/240823-112644_minflux.npy\n",
      "217.84911266142387 H2B/L150/240823-143151_minflux.npy\n",
      "218.02186823062632 H2B/L200/240823-151742_minflux.npy\n",
      "218.06390436621533 H2B/L150/240823-143004_minflux.npy\n",
      "218.09447166011122 array/L200/240823-104956_minflux.npy\n",
      "218.58400497185934 H2B/L250/240823-153939_minflux.npy\n",
      "218.72603392511832 array/L100/240823-094015_minflux.npy\n",
      "218.84024141845393 H2B/L100/240823-141622_minflux.npy\n",
      "221.1095929042294 array/L200/240823-104202_minflux.npy\n",
      "222.7263468532255 array/L150/240823-095640_minflux.npy\n",
      "222.78635004793273 H2B/L175/240823-144609_minflux.npy\n",
      "225.09454103311825 array/L150/240823-094945_minflux.npy\n",
      "226.69188416715394 array/L150/240823-095235_minflux.npy\n",
      "226.72332654919467 array/L150/240823-100236_minflux.npy\n",
      "227.57122137531584 array/L150/240823-094907_minflux.npy\n",
      "227.87699614433254 array/L150/240823-095102_minflux.npy\n",
      "228.39573343313376 array/L150/240823-094832_minflux.npy\n",
      "228.6274904795951 array/L150/240823-095324_minflux.npy\n",
      "229.183875575152 array/L150/240823-095138_minflux.npy\n",
      "229.52919324764653 array/L150/240823-094415_minflux.npy\n"
     ]
    }
   ],
   "source": [
    "# Check time steps\n",
    "dts = np.array([dt_dict[f] for f in dt_dict])\n",
    "fs  = np.array([f          for f in dt_dict])\n",
    "\n",
    "plt.hist(dts[np.array(['array' in f\n",
    "                       for f in dt_dict])],\n",
    "         bins='auto',\n",
    "         label='array',\n",
    "        )\n",
    "plt.hist(dts[np.array(['H2B'   in f\n",
    "                       for f in dt_dict])],\n",
    "         bins='auto',\n",
    "         label='H2B',\n",
    "        )\n",
    "\n",
    "plt.legend()\n",
    "plt.yscale('log')\n",
    "plt.xlabel('measured time lag Δt')\n",
    "plt.ylabel('count')\n",
    "plt.show()\n",
    "\n",
    "ind = np.argsort(dts)\n",
    "for i in ind:\n",
    "    print(dts[i]*1e6, str(fs[i]))"
   ]
  },
  {
   "cell_type": "code",
   "execution_count": 8,
   "id": "5adfab29",
   "metadata": {},
   "outputs": [
    {
     "name": "stdout",
     "output_type": "stream",
     "text": [
      "Deleting 126 trajectories with < 2 localizations\n"
     ]
    }
   ],
   "source": [
    "# Some cleanup\n",
    "data.makeSelection(lambda traj, _: traj.F < 2)\n",
    "print(f\"Deleting {len(data)} trajectories with < 2 localizations\")\n",
    "data.deleteSelection()\n",
    "\n",
    "# Cut off first localization (why? maybe bc that's the first one, where we have to search for the locus)\n",
    "for traj in data:\n",
    "    i_start = np.nonzero(np.cumsum(~np.isnan(traj.abs()[:][:, 0])) == 2)[0][0]\n",
    "    traj.data = traj.data[:, i_start:, :]"
   ]
  },
  {
   "cell_type": "code",
   "execution_count": 9,
   "id": "dd9232f0",
   "metadata": {},
   "outputs": [
    {
     "name": "stdout",
     "output_type": "stream",
     "text": [
      "#trajs     tags\n",
      "--------------------------------------------------\n",
      "  186      system=array        L=100               \n",
      "  907      system=array        L=150               \n",
      "  563      system=array        L=200               \n",
      "  648      system=H2B          L=100               \n",
      "  571      system=H2B          L=150               \n",
      "  569      system=H2B          L=175               \n",
      "  580      system=H2B          L=200               \n",
      "  920      system=H2B          L=250               \n",
      "--------------------------------------------------\n",
      "    0      <none of the above; just to check>\n",
      "--------------------------------------------------\n",
      " 4944      sum of above\n",
      " 4944      total in data set\n"
     ]
    }
   ],
   "source": [
    "tagsets = []\n",
    "for system in ['array', 'H2B']:\n",
    "    data.makeSelection(system)\n",
    "    Ls = sorted({int(tag[2:]) for tag in data.tagset() if tag.startswith('L=')})\n",
    "    for L in Ls:\n",
    "        tagsets.append({f'system={system}',\n",
    "                        f'L={L}',\n",
    "                       })\n",
    "            \n",
    "print('#trajs     tags')\n",
    "print(50*'-')\n",
    "            \n",
    "N_total = 0\n",
    "for tags in tagsets:\n",
    "    data.makeSelection(tags, logic=all)\n",
    "    taglist = []\n",
    "    for ident in ['system', 'L']:\n",
    "        tgs = {tag for tag in tags if tag.startswith(ident+'=')}\n",
    "        if len(tgs) > 0:\n",
    "            taglist.append(tgs.pop())\n",
    "            \n",
    "    print(f'{len(data):5d}      '+(len(taglist)*'{:20s}').format(*taglist))\n",
    "    N_total += len(data)\n",
    "\n",
    "print(50*'-')\n",
    "data.makeSelection(lambda _, tags: not any(all(tag in tags for tag in tagset)\n",
    "                                           for tagset in tagsets))\n",
    "print(f'{len(data):5d}      '+'<none of the above; just to check>')\n",
    "\n",
    "print(50*'-')\n",
    "data.makeSelection()\n",
    "print(f'{N_total:5d}      '+'sum of above')\n",
    "print(f'{len(data):5d}      '+'total in data set')"
   ]
  },
  {
   "cell_type": "code",
   "execution_count": 10,
   "id": "29598acf",
   "metadata": {},
   "outputs": [],
   "source": [
    "def tags2label(tags, omit=set()):\n",
    "    taglist = []\n",
    "    for ident in ['system', 'L']:\n",
    "        if ident in omit:\n",
    "            continue\n",
    "            \n",
    "        tgs = {tag for tag in tags if tag.startswith(ident+'=')}\n",
    "        if len(tgs) > 0:\n",
    "            tag = tgs.pop()\n",
    "            \n",
    "            val = re.match(ident+'=(.*)', tag)[1]\n",
    "            if ident == 'L':\n",
    "                val = 'L'+val\n",
    "                \n",
    "            taglist.append(val)\n",
    "    \n",
    "    return ', '.join(taglist)"
   ]
  },
  {
   "cell_type": "code",
   "execution_count": 11,
   "id": "2d06facc",
   "metadata": {},
   "outputs": [],
   "source": [
    "conditions = []\n",
    "for tags in tagsets:\n",
    "    data.makeSelection(tags, logic=all)\n",
    "    cond = tags2label(tags)\n",
    "    data.addTags({cond, 'condition='+cond})\n",
    "    conditions.append(cond)"
   ]
  },
  {
   "cell_type": "code",
   "execution_count": 12,
   "id": "69bcf292",
   "metadata": {},
   "outputs": [
    {
     "data": {
      "image/png": "[encoded data removed]",
      "text/plain": [
       "<Figure size 432x288 with 1 Axes>"
      ]
     },
     "metadata": {
      "needs_background": "light"
     },
     "output_type": "display_data"
    }
   ],
   "source": [
    "# Check survival curves\n",
    "# --> *need* proper parallelization for MSD calculation, otherwise we're screwed hard\n",
    "for cond in conditions:\n",
    "    data.makeSelection(cond)\n",
    "    \n",
    "    lens = np.flip(np.sort(list(map(len, data))))\n",
    "    Fs   = np.flip(np.sort(list(map(lambda traj : traj.F, data))))\n",
    "\n",
    "    plt.plot(lens, np.arange(len(lens)), label=cond)\n",
    "    # plt.plot(Fs, np.arange(len(Fs)))\n",
    "\n",
    "plt.xscale('log')\n",
    "plt.yscale('log')\n",
    "plt.legend(loc=(1.02, 0.0))\n",
    "\n",
    "plt.show()"
   ]
  },
  {
   "cell_type": "code",
   "execution_count": 13,
   "id": "d65b9d4d",
   "metadata": {
    "scrolled": true
   },
   "outputs": [
    {
     "data": {
      "application/vnd.jupyter.widget-view+json": {
       "model_id": "7f56fc3d1d84496a9249b3b30eb466c7",
       "version_major": 2,
       "version_minor": 0
      },
      "text/plain": [
       "  0%|          | 0/4944 [00:00<?, ?it/s]"
      ]
     },
     "metadata": {},
     "output_type": "display_data"
    },
    {
     "ename": "KeyboardInterrupt",
     "evalue": "",
     "output_type": "error",
     "traceback": [
      "\u001b[0;31m---------------------------------------------------------------------------\u001b[0m",
      "\u001b[0;31mIndexError\u001b[0m                                Traceback (most recent call last)",
      "\u001b[0;32m/usr/lib/python3.10/multiprocessing/pool.py\u001b[0m in \u001b[0;36mnext\u001b[0;34m(self, timeout)\u001b[0m\n\u001b[1;32m    855\u001b[0m             \u001b[0;32mtry\u001b[0m\u001b[0;34m:\u001b[0m\u001b[0;34m\u001b[0m\u001b[0;34m\u001b[0m\u001b[0m\n\u001b[0;32m--> 856\u001b[0;31m                 \u001b[0mitem\u001b[0m \u001b[0;34m=\u001b[0m \u001b[0mself\u001b[0m\u001b[0;34m.\u001b[0m\u001b[0m_items\u001b[0m\u001b[0;34m.\u001b[0m\u001b[0mpopleft\u001b[0m\u001b[0;34m(\u001b[0m\u001b[0;34m)\u001b[0m\u001b[0;34m\u001b[0m\u001b[0;34m\u001b[0m\u001b[0m\n\u001b[0m\u001b[1;32m    857\u001b[0m             \u001b[0;32mexcept\u001b[0m \u001b[0mIndexError\u001b[0m\u001b[0;34m:\u001b[0m\u001b[0;34m\u001b[0m\u001b[0;34m\u001b[0m\u001b[0m\n",
      "\u001b[0;31mIndexError\u001b[0m: pop from an empty deque",
      "\nDuring handling of the above exception, another exception occurred:\n",
      "\u001b[0;31mKeyboardInterrupt\u001b[0m                         Traceback (most recent call last)",
      "\u001b[0;32m/tmp/ipykernel_223070/3332698219.py\u001b[0m in \u001b[0;36m<module>\u001b[0;34m\u001b[0m\n\u001b[1;32m     12\u001b[0m     \u001b[0mimap\u001b[0m \u001b[0;34m=\u001b[0m \u001b[0mmypool\u001b[0m\u001b[0;34m.\u001b[0m\u001b[0mimap_unordered\u001b[0m\u001b[0;34m(\u001b[0m\u001b[0mparfun\u001b[0m\u001b[0;34m,\u001b[0m \u001b[0mtodo\u001b[0m\u001b[0;34m)\u001b[0m\u001b[0;34m\u001b[0m\u001b[0;34m\u001b[0m\u001b[0m\n\u001b[1;32m     13\u001b[0m     \u001b[0mimap\u001b[0m \u001b[0;34m=\u001b[0m \u001b[0mtqdm\u001b[0m\u001b[0;34m(\u001b[0m\u001b[0mimap\u001b[0m\u001b[0;34m,\u001b[0m \u001b[0mtotal\u001b[0m\u001b[0;34m=\u001b[0m\u001b[0mlen\u001b[0m\u001b[0;34m(\u001b[0m\u001b[0mtodo\u001b[0m\u001b[0;34m)\u001b[0m\u001b[0;34m)\u001b[0m\u001b[0;34m\u001b[0m\u001b[0;34m\u001b[0m\u001b[0m\n\u001b[0;32m---> 14\u001b[0;31m     \u001b[0;32mfor\u001b[0m \u001b[0mi\u001b[0m\u001b[0;34m,\u001b[0m \u001b[0mmeta\u001b[0m \u001b[0;32min\u001b[0m \u001b[0mimap\u001b[0m\u001b[0;34m:\u001b[0m\u001b[0;34m\u001b[0m\u001b[0;34m\u001b[0m\u001b[0m\n\u001b[0m\u001b[1;32m     15\u001b[0m         \u001b[0mdata\u001b[0m\u001b[0;34m[\u001b[0m\u001b[0mi\u001b[0m\u001b[0;34m]\u001b[0m\u001b[0;34m.\u001b[0m\u001b[0mmeta\u001b[0m\u001b[0;34m[\u001b[0m\u001b[0;34m'MSD'\u001b[0m\u001b[0;34m]\u001b[0m \u001b[0;34m=\u001b[0m \u001b[0mmeta\u001b[0m\u001b[0;34m\u001b[0m\u001b[0;34m\u001b[0m\u001b[0m\n",
      "\u001b[0;32m~/.local/lib/python3.10/site-packages/tqdm/notebook.py\u001b[0m in \u001b[0;36m__iter__\u001b[0;34m(self)\u001b[0m\n\u001b[1;32m    248\u001b[0m         \u001b[0;32mtry\u001b[0m\u001b[0;34m:\u001b[0m\u001b[0;34m\u001b[0m\u001b[0;34m\u001b[0m\u001b[0m\n\u001b[1;32m    249\u001b[0m             \u001b[0mit\u001b[0m \u001b[0;34m=\u001b[0m \u001b[0msuper\u001b[0m\u001b[0;34m(\u001b[0m\u001b[0;34m)\u001b[0m\u001b[0;34m.\u001b[0m\u001b[0m__iter__\u001b[0m\u001b[0;34m(\u001b[0m\u001b[0;34m)\u001b[0m\u001b[0;34m\u001b[0m\u001b[0;34m\u001b[0m\u001b[0m\n\u001b[0;32m--> 250\u001b[0;31m             \u001b[0;32mfor\u001b[0m \u001b[0mobj\u001b[0m \u001b[0;32min\u001b[0m \u001b[0mit\u001b[0m\u001b[0;34m:\u001b[0m\u001b[0;34m\u001b[0m\u001b[0;34m\u001b[0m\u001b[0m\n\u001b[0m\u001b[1;32m    251\u001b[0m                 \u001b[0;31m# return super(tqdm...) will not catch exception\u001b[0m\u001b[0;34m\u001b[0m\u001b[0;34m\u001b[0m\u001b[0m\n\u001b[1;32m    252\u001b[0m                 \u001b[0;32myield\u001b[0m \u001b[0mobj\u001b[0m\u001b[0;34m\u001b[0m\u001b[0;34m\u001b[0m\u001b[0m\n",
      "\u001b[0;32m~/.local/lib/python3.10/site-packages/tqdm/std.py\u001b[0m in \u001b[0;36m__iter__\u001b[0;34m(self)\u001b[0m\n\u001b[1;32m   1179\u001b[0m \u001b[0;34m\u001b[0m\u001b[0m\n\u001b[1;32m   1180\u001b[0m         \u001b[0;32mtry\u001b[0m\u001b[0;34m:\u001b[0m\u001b[0;34m\u001b[0m\u001b[0;34m\u001b[0m\u001b[0m\n\u001b[0;32m-> 1181\u001b[0;31m             \u001b[0;32mfor\u001b[0m \u001b[0mobj\u001b[0m \u001b[0;32min\u001b[0m \u001b[0miterable\u001b[0m\u001b[0;34m:\u001b[0m\u001b[0;34m\u001b[0m\u001b[0;34m\u001b[0m\u001b[0m\n\u001b[0m\u001b[1;32m   1182\u001b[0m                 \u001b[0;32myield\u001b[0m \u001b[0mobj\u001b[0m\u001b[0;34m\u001b[0m\u001b[0;34m\u001b[0m\u001b[0m\n\u001b[1;32m   1183\u001b[0m                 \u001b[0;31m# Update and possibly print the progressbar.\u001b[0m\u001b[0;34m\u001b[0m\u001b[0;34m\u001b[0m\u001b[0m\n",
      "\u001b[0;32m/usr/lib/python3.10/multiprocessing/pool.py\u001b[0m in \u001b[0;36mnext\u001b[0;34m(self, timeout)\u001b[0m\n\u001b[1;32m    859\u001b[0m                     \u001b[0mself\u001b[0m\u001b[0;34m.\u001b[0m\u001b[0m_pool\u001b[0m \u001b[0;34m=\u001b[0m \u001b[0;32mNone\u001b[0m\u001b[0;34m\u001b[0m\u001b[0;34m\u001b[0m\u001b[0m\n\u001b[1;32m    860\u001b[0m                     \u001b[0;32mraise\u001b[0m \u001b[0mStopIteration\u001b[0m \u001b[0;32mfrom\u001b[0m \u001b[0;32mNone\u001b[0m\u001b[0;34m\u001b[0m\u001b[0;34m\u001b[0m\u001b[0m\n\u001b[0;32m--> 861\u001b[0;31m                 \u001b[0mself\u001b[0m\u001b[0;34m.\u001b[0m\u001b[0m_cond\u001b[0m\u001b[0;34m.\u001b[0m\u001b[0mwait\u001b[0m\u001b[0;34m(\u001b[0m\u001b[0mtimeout\u001b[0m\u001b[0;34m)\u001b[0m\u001b[0;34m\u001b[0m\u001b[0;34m\u001b[0m\u001b[0m\n\u001b[0m\u001b[1;32m    862\u001b[0m                 \u001b[0;32mtry\u001b[0m\u001b[0;34m:\u001b[0m\u001b[0;34m\u001b[0m\u001b[0;34m\u001b[0m\u001b[0m\n\u001b[1;32m    863\u001b[0m                     \u001b[0mitem\u001b[0m \u001b[0;34m=\u001b[0m \u001b[0mself\u001b[0m\u001b[0;34m.\u001b[0m\u001b[0m_items\u001b[0m\u001b[0;34m.\u001b[0m\u001b[0mpopleft\u001b[0m\u001b[0;34m(\u001b[0m\u001b[0;34m)\u001b[0m\u001b[0;34m\u001b[0m\u001b[0;34m\u001b[0m\u001b[0m\n",
      "\u001b[0;32m/usr/lib/python3.10/threading.py\u001b[0m in \u001b[0;36mwait\u001b[0;34m(self, timeout)\u001b[0m\n\u001b[1;32m    318\u001b[0m         \u001b[0;32mtry\u001b[0m\u001b[0;34m:\u001b[0m    \u001b[0;31m# restore state no matter what (e.g., KeyboardInterrupt)\u001b[0m\u001b[0;34m\u001b[0m\u001b[0;34m\u001b[0m\u001b[0m\n\u001b[1;32m    319\u001b[0m             \u001b[0;32mif\u001b[0m \u001b[0mtimeout\u001b[0m \u001b[0;32mis\u001b[0m \u001b[0;32mNone\u001b[0m\u001b[0;34m:\u001b[0m\u001b[0;34m\u001b[0m\u001b[0;34m\u001b[0m\u001b[0m\n\u001b[0;32m--> 320\u001b[0;31m                 \u001b[0mwaiter\u001b[0m\u001b[0;34m.\u001b[0m\u001b[0macquire\u001b[0m\u001b[0;34m(\u001b[0m\u001b[0;34m)\u001b[0m\u001b[0;34m\u001b[0m\u001b[0;34m\u001b[0m\u001b[0m\n\u001b[0m\u001b[1;32m    321\u001b[0m                 \u001b[0mgotit\u001b[0m \u001b[0;34m=\u001b[0m \u001b[0;32mTrue\u001b[0m\u001b[0;34m\u001b[0m\u001b[0;34m\u001b[0m\u001b[0m\n\u001b[1;32m    322\u001b[0m             \u001b[0;32melse\u001b[0m\u001b[0;34m:\u001b[0m\u001b[0;34m\u001b[0m\u001b[0;34m\u001b[0m\u001b[0m\n",
      "\u001b[0;31mKeyboardInterrupt\u001b[0m: "
     ]
    }
   ],
   "source": [
    "# Pre-compute MSDs\n",
    "def parfun(args):\n",
    "    i, traj = args\n",
    "    \n",
    "    _ = nl.analysis.MSD(traj)\n",
    "    \n",
    "    return i, traj.meta['MSD']\n",
    "\n",
    "data.makeSelection()\n",
    "todo = list(enumerate(data))\n",
    "with Pool() as mypool:\n",
    "    imap = mypool.imap_unordered(parfun, todo)\n",
    "    imap = tqdm(imap, total=len(todo))\n",
    "    for i, meta in imap:\n",
    "        data[i].meta['MSD'] = meta"
   ]
  },
  {
   "cell_type": "code",
   "execution_count": 20,
   "id": "c8bf43b1-9bde-478a-b8e8-04d130a6e19a",
   "metadata": {},
   "outputs": [
    {
     "name": "stdout",
     "output_type": "stream",
     "text": [
      "0\n"
     ]
    }
   ],
   "source": [
    "data.makeSelection(lambda traj, _: 'MSD' not in traj.meta)\n",
    "print(len(data))\n",
    "\n",
    "for traj in data:\n",
    "    print(len(traj))"
   ]
  },
  {
   "cell_type": "code",
   "execution_count": 19,
   "id": "faa0d189-3212-4f64-a351-e5be99ac2fc2",
   "metadata": {},
   "outputs": [],
   "source": [
    "# Can use this to do MSD by hand, if the above parallelization doesn't wanna do it\n",
    "_ = nl.analysis.MSD(data[0])"
   ]
  },
  {
   "cell_type": "code",
   "execution_count": 21,
   "id": "6e3a7dc1",
   "metadata": {},
   "outputs": [],
   "source": [
    "data.makeSelection()\n",
    "nl.io.write.hdf5({\n",
    "    'data'       : data,\n",
    "    'conditions' : conditions,\n",
    "    'tagsets'    : tagsets,\n",
    "    'dt_dict'    : dt_dict,\n",
    "    'description' : \"\"\"\n",
    "L-sweep for second try of MINFLUX acquisition\n",
    "\n",
    "array and H2B data, raw, with different L.\n",
    "\n",
    "Contents of this file:\n",
    " - 'data'       : the data\n",
    " - 'conditions' : list of strings identifying each of the conditions;\n",
    "                  can be used as tags in 'data'\n",
    " - 'tagsets'    : list of sets of tags into 'data', corresponding to\n",
    "                  'conditions'; might be useful\n",
    " - 'dt_dict'    : lag time extracted from each file. Note that trajectories\n",
    "                  in 'data' also have meta-entries 'dt'. Note that for proper\n",
    "                  pooling, one might want to pool these time steps as well.\n",
    "                  There seem to be three classes:\n",
    "                   - (array, L150 no CFR) is around 186μs\n",
    "                   - (array, L150) is around 227μs\n",
    "                   - everything else seems consistent, at 216μs\n",
    "\n",
    "Other notes:\n",
    " - The array data still contain background traces, which need to be removed\n",
    " - Likewise, we did not (yet) filter out short trajectories\n",
    " - the first localization of each trajectory has been removed\n",
    " - MSDs are pre-calculated for all trajectories\n",
    "\"\"\"[1:-1],\n",
    "}, '20240825_minflux2_L-sweep_raw.h5')"
   ]
  }
 ],
 "metadata": {
  "kernelspec": {
   "display_name": "Python 3 (ipykernel)",
   "language": "python",
   "name": "python3"
  },
  "language_info": {
   "codemirror_mode": {
    "name": "ipython",
    "version": 3
   },
   "file_extension": ".py",
   "mimetype": "text/x-python",
   "name": "python",
   "nbconvert_exporter": "python",
   "pygments_lexer": "ipython3",
   "version": "3.9.9"
  }
 },
 "nbformat": 4,
 "nbformat_minor": 5
}
