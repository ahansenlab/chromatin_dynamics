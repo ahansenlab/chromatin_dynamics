{
 "cells": [
  {
   "cell_type": "markdown",
   "id": "21527bd6",
   "metadata": {},
   "source": [
    "Let's put together the full data set. Two issues to be manually fixed here:\n",
    "- for minflux mESC TSA, use rep2b instead of rep2\n",
    "- for SPT, kick out movies dead cells. These are:\n",
    "   + in (100ms, mESC, ctrl, rep3) cell  000\n",
    "   + in (100ms, mESC, ICRF, rep3) cell  000\n",
    "   + in (  2s,  mESC, ctrl, rep3) cells 000, 001, 002, 003\n",
    "- remove MINFLUX U2OS stuck fraction and save separately. We do this by tagging the stuck fraction and saving a selection of the full data set using `nl.io.write.hdf5_subTaggedSet`. So the stuck fraction can be loaded from the same file, simply by using `data_withU2OSstuck` instead of `data`."
   ]
  },
  {
   "cell_type": "code",
   "execution_count": 1,
   "id": "61262111",
   "metadata": {},
   "outputs": [],
   "source": [
    "import numpy as np\n",
    "import noctiluca as nl"
   ]
  },
  {
   "cell_type": "markdown",
   "id": "527aac32",
   "metadata": {},
   "source": [
    "# MINFLUX"
   ]
  },
  {
   "cell_type": "code",
   "execution_count": 2,
   "id": "2895126f",
   "metadata": {},
   "outputs": [],
   "source": [
    "filename = 'data/20250302_H2B_clean.h5'\n",
    "tmp = nl.io.load.hdf5(filename)\n",
    "\n",
    "data_mf    = tmp['data']\n",
    "conditions = tmp['conditions']\n",
    "del tmp"
   ]
  },
  {
   "cell_type": "code",
   "execution_count": 3,
   "id": "b0d2a4e6",
   "metadata": {},
   "outputs": [],
   "source": [
    "# Add single-traj mci\n",
    "# this should be done first thing, because the MCIs stored in the file\n",
    "# are matched to the dataset in 20250302_H2B_clean.h5.\n",
    "mcis = nl.io.load.hdf5('data/20250302_single-traj_NPFit_H2B_clean.h5', '/mcis')\n",
    "data_mf.makeSelection()\n",
    "assert len(data_mf) == len(mcis)\n",
    "for traj, mci in zip(data_mf, mcis):\n",
    "    traj.meta['mci'] = mci\n",
    "\n",
    "del mcis"
   ]
  },
  {
   "cell_type": "code",
   "execution_count": 4,
   "id": "7e654596",
   "metadata": {},
   "outputs": [],
   "source": [
    "# Adjust replicate tags for consistency\n",
    "for r in range(10):\n",
    "    data_mf.makeSelection(f'rep={r}')\n",
    "    data_mf.addTags(f'rep{r}')"
   ]
  },
  {
   "cell_type": "code",
   "execution_count": 5,
   "id": "65dfeb68",
   "metadata": {},
   "outputs": [],
   "source": [
    "# Use only mESC TSA2b, not TSA2\n",
    "# But then change name/tags of TSA2b to TSA2, for consistency with the rest\n",
    "data_mf.makeSelection(['mESC', 'TSA2'], logic=all)\n",
    "data_mf.deleteSelection()\n",
    "data_mf.makeSelection(['TSA2b'])\n",
    "data_mf.addTags(['rep2'])"
   ]
  },
  {
   "cell_type": "code",
   "execution_count": 6,
   "id": "46e897b9",
   "metadata": {},
   "outputs": [],
   "source": [
    "# Time lag (for later)\n",
    "data_mf.makeSelection()\n",
    "dt_H2B = np.mean([traj.meta['dt'] for traj in data_mf])"
   ]
  },
  {
   "cell_type": "code",
   "execution_count": 7,
   "id": "652c3fa1",
   "metadata": {},
   "outputs": [],
   "source": [
    "# done\n",
    "data_mf.makeSelection()\n",
    "data_mf.addTags({'minflux', 'H2B', 'minflux-H2B'})"
   ]
  },
  {
   "cell_type": "markdown",
   "id": "5b8ecc0d",
   "metadata": {},
   "source": [
    "# MINFLUX array"
   ]
  },
  {
   "cell_type": "code",
   "execution_count": 8,
   "id": "d6049543",
   "metadata": {},
   "outputs": [],
   "source": [
    "filename = 'data/20250302_array_clean.h5'\n",
    "tmp = nl.io.load.hdf5(filename)\n",
    "\n",
    "data_array = tmp['data']\n",
    "del tmp"
   ]
  },
  {
   "cell_type": "code",
   "execution_count": 9,
   "id": "9f6dc762",
   "metadata": {},
   "outputs": [],
   "source": [
    "# add tags\n",
    "for tag, newtag in [('NT', 'C36'), ('ctrl', 'ΔRAD21 (inactive)'), ('IAA', 'ΔRAD21 (active)')]:\n",
    "    data_array.makeSelection(tag)\n",
    "    data_array.addTags(newtag)"
   ]
  },
  {
   "cell_type": "code",
   "execution_count": 10,
   "id": "8ddf0774",
   "metadata": {},
   "outputs": [],
   "source": [
    "# remove 'ctrl' tag, which is confusing anyways\n",
    "data_array.makeSelection('ctrl')\n",
    "for traj, tags in data_array(giveTags=True):\n",
    "    tags -= {'ctrl'}"
   ]
  },
  {
   "cell_type": "code",
   "execution_count": 11,
   "id": "4311690d",
   "metadata": {},
   "outputs": [],
   "source": [
    "# Adjust replicate tags for consistency\n",
    "for r in range(10):\n",
    "    data_array.makeSelection(f'rep={r}')\n",
    "    data_array.addTags(f'rep{r}')"
   ]
  },
  {
   "cell_type": "code",
   "execution_count": 12,
   "id": "5136c974",
   "metadata": {},
   "outputs": [],
   "source": [
    "# Time lag (for later)\n",
    "data_array.makeSelection()\n",
    "dt_array = np.mean([traj.meta['dt'] for traj in data_array])"
   ]
  },
  {
   "cell_type": "code",
   "execution_count": 13,
   "id": "4903a3a0",
   "metadata": {},
   "outputs": [],
   "source": [
    "# done\n",
    "data_array.makeSelection()\n",
    "data_array.addTags({'minflux', 'array', 'minflux-array', 'mESC'})"
   ]
  },
  {
   "cell_type": "markdown",
   "id": "d29ed0d8",
   "metadata": {},
   "source": [
    "# SPT"
   ]
  },
  {
   "cell_type": "code",
   "execution_count": 14,
   "id": "eca31617",
   "metadata": {},
   "outputs": [],
   "source": [
    "filename = 'data/20250121_data_H2B.h5'\n",
    "data_conv = nl.io.load.hdf5(filename, 'data_twoLocus_acyclic_3um')"
   ]
  },
  {
   "cell_type": "code",
   "execution_count": 15,
   "id": "8b3d9a0d",
   "metadata": {},
   "outputs": [],
   "source": [
    "# add useful tags\n",
    "data_conv.makeSelection('DMSO', logic=any)\n",
    "data_conv.addTags('ctrl')\n",
    "\n",
    "data_conv.makeSelection('150nM-TSA')\n",
    "data_conv.addTags('TSA')\n",
    "\n",
    "for cond in conditions:\n",
    "    data_conv.makeSelection(cond.split(', ')[1:], logic=all)\n",
    "    data_conv.addTags(cond)\n",
    "\n",
    "for dt_tag in ['100ms', '2s']:\n",
    "    data_conv.makeSelection(dt_tag)\n",
    "    data_conv.addTags(f'SPT-{dt_tag}')"
   ]
  },
  {
   "cell_type": "code",
   "execution_count": 16,
   "id": "d53c77c4",
   "metadata": {},
   "outputs": [],
   "source": [
    "# remove what we're not using (500nM-TSA & 1μM-TSA)\n",
    "data_conv.makeSelection(conditions, logic=lambda x: not any(x))\n",
    "data_conv.deleteSelection()"
   ]
  },
  {
   "cell_type": "code",
   "execution_count": 17,
   "id": "201bffba",
   "metadata": {},
   "outputs": [],
   "source": [
    "# remove dead cells\n",
    "def dead_cells(traj, tags):\n",
    "    dead_list = [\n",
    "        ({'100ms', 'mESC', 'ctrl', 'rep3'}, ['000cell']),\n",
    "        ({'100ms', 'mESC', 'ICRF', 'rep3'}, ['000cell']),\n",
    "        ({  '2s',  'mESC', 'ctrl', 'rep3'}, ['000cell', '001cell', '002cell', '003cell']),\n",
    "    ]\n",
    "    \n",
    "    for dtags, cells in dead_list:\n",
    "        if len(tags & dtags) == len(dtags): # all tags contains all dtags\n",
    "            filename = {tag for tag in tags if tag.startswith('file=')}.pop()\n",
    "            return any(c in filename for c in cells)\n",
    "    return False\n",
    "\n",
    "data_conv.makeSelection(dead_cells)\n",
    "data_conv.deleteSelection()"
   ]
  },
  {
   "cell_type": "code",
   "execution_count": 18,
   "id": "e03a1f4a",
   "metadata": {},
   "outputs": [],
   "source": [
    "# done\n",
    "data_conv.makeSelection()\n",
    "data_conv.addTags({'SPT', 'H2B'})"
   ]
  },
  {
   "cell_type": "markdown",
   "id": "0d35d2d7",
   "metadata": {},
   "source": [
    "# SPT (Fbn2)"
   ]
  },
  {
   "cell_type": "code",
   "execution_count": 19,
   "id": "fd12ab1f",
   "metadata": {},
   "outputs": [],
   "source": [
    "filename = 'data/20250411_data_SPT-Fbn2-CTCF.h5'\n",
    "data_conv_Fbn2 = nl.io.load.hdf5(filename, 'data_twoLocus_maxsep-3um')"
   ]
  },
  {
   "cell_type": "code",
   "execution_count": 20,
   "id": "4b67f5d7",
   "metadata": {},
   "outputs": [],
   "source": [
    "# add useful tags\n",
    "data_conv_Fbn2.makeSelection('DMSO')\n",
    "data_conv_Fbn2.addTags('ΔRAD21 (inactive)')\n",
    "\n",
    "data_conv_Fbn2.makeSelection('IAA')\n",
    "data_conv_Fbn2.addTags('ΔRAD21 (active)')\n",
    "\n",
    "for dt_tag in ['100ms', '2s']:\n",
    "    data_conv_Fbn2.makeSelection(dt_tag)\n",
    "    data_conv_Fbn2.addTags(f'SPT-{dt_tag}')"
   ]
  },
  {
   "cell_type": "code",
   "execution_count": 21,
   "id": "2aa76e4c",
   "metadata": {},
   "outputs": [],
   "source": [
    "# done\n",
    "data_conv_Fbn2.makeSelection()\n",
    "data_conv_Fbn2.addTags({'SPT', 'array', 'mESC'})"
   ]
  },
  {
   "cell_type": "markdown",
   "id": "e5d336bb",
   "metadata": {},
   "source": [
    "# Fbn2"
   ]
  },
  {
   "cell_type": "code",
   "execution_count": 22,
   "id": "b17843b6",
   "metadata": {},
   "outputs": [],
   "source": [
    "data_fbn2 = nl.io.load.hdf5('data/2022_Fbn2_full_data.h5')['data']"
   ]
  },
  {
   "cell_type": "code",
   "execution_count": 23,
   "id": "dc0b32ea",
   "metadata": {},
   "outputs": [],
   "source": [
    "# Add a few tags\n",
    "data_fbn2.makeSelection('Rad21_0_hr')\n",
    "data_fbn2.addTags('ΔRAD21 (inactive)')\n",
    "\n",
    "data_fbn2.makeSelection(['Rad21_2_hr', 'Rad21_4_hr'], logic=any)\n",
    "data_fbn2.addTags('ΔRAD21 (active)')\n",
    "\n",
    "data_fbn2.makeSelection(['C36', 'ΔRAD21 (inactive)', 'ΔRAD21 (active)'], logic=lambda x: not any(x))\n",
    "data_fbn2.deleteSelection()"
   ]
  },
  {
   "cell_type": "code",
   "execution_count": 24,
   "id": "1172eb9e",
   "metadata": {},
   "outputs": [],
   "source": [
    "# done\n",
    "data_fbn2.makeSelection()\n",
    "data_fbn2.addTags({'SRLCI', 'array', 'mESC', 'rep1'})"
   ]
  },
  {
   "cell_type": "markdown",
   "id": "5f06190e",
   "metadata": {},
   "source": [
    "# Merge all together"
   ]
  },
  {
   "cell_type": "code",
   "execution_count": 25,
   "id": "25e7680d",
   "metadata": {},
   "outputs": [],
   "source": [
    "data = nl.TaggedSet()\n",
    "data |= data_mf\n",
    "data |= data_array\n",
    "data |= data_conv\n",
    "data |= data_conv_Fbn2\n",
    "data |= data_fbn2"
   ]
  },
  {
   "cell_type": "code",
   "execution_count": 26,
   "id": "05e4bc4e",
   "metadata": {},
   "outputs": [],
   "source": [
    "# Add time lags to everything\n",
    "time_lags = {\n",
    "    'minflux-H2B'   : dt_H2B,\n",
    "    'minflux-array' : dt_array,\n",
    "    'SPT-100ms'     : 0.1,\n",
    "    'SPT-2s'        : 2,\n",
    "    'SRLCI'         : 20,\n",
    "}\n",
    "for tag, dt in time_lags.items():\n",
    "    data.makeSelection(tag)\n",
    "    for traj in data:\n",
    "        traj.meta['Δt'] = dt"
   ]
  },
  {
   "cell_type": "code",
   "execution_count": 27,
   "id": "ee39ac5b",
   "metadata": {},
   "outputs": [],
   "source": [
    "# Remove unnecessary tags\n",
    "data.makeSelection()\n",
    "useful_tags = {\n",
    "    'U2OS', 'mESC', 'H2B', 'array', 'minflux', 'SPT', 'SRLCI',\n",
    "    'ctrl', 'DMSO', 'DRB', 'TSA', 'ICRF',\n",
    "    'minflux-H2B', 'minflux-array', 'SPT-100ms', 'SPT-2s', '100ms', '2s',\n",
    "    *conditions,\n",
    "    'C36', 'ΔRAD21 (inactive)', 'ΔRAD21 (active)',\n",
    "    'rep1', 'rep2', 'rep3',\n",
    "} | {tag for tag in data.tagset() if tag.startswith('file=')}\n",
    "\n",
    "for traj, tags in data(giveTags=True):\n",
    "    tags &= useful_tags"
   ]
  },
  {
   "cell_type": "code",
   "execution_count": 28,
   "id": "1548b7a9",
   "metadata": {},
   "outputs": [],
   "source": [
    "# Add \"stuck\" tag to minflux U2OS\n",
    "data.makeSelection(['minflux', 'U2OS'], logic=all)\n",
    "data.refineSelection(lambda traj, _: traj.meta['mci']['α (dim 0)'][1][1] < 0.1)\n",
    "data.addTags('stuck')"
   ]
  },
  {
   "cell_type": "code",
   "execution_count": 29,
   "id": "cca89b68",
   "metadata": {},
   "outputs": [],
   "source": [
    "# Save\n",
    "# raise NotImplementedError # overwrite protection\n",
    "outfile = 'data/20250411_Hansenlab_chromatin_dynamics_all-data.h5'\n",
    "data.makeSelection()\n",
    "nl.io.write.hdf5({\n",
    "    'data_withU2OSstuck' : data,\n",
    "    'H2B_conditions' : conditions,\n",
    "    'array_conditions' : ['C36', 'ΔRAD21 (inactive)', 'ΔRAD21 (active)'],\n",
    "    'description' : \"\"\"\n",
    "Joint file containing all our chromatin dynamics data\n",
    "\n",
    "The production dataset is stored in 'data'; 'data_withU2OSstuck' is a version of\n",
    "that which also contains the \"stuck\" trajectories of minflux U2OS (labelled as such)\n",
    "\n",
    "Tags:\n",
    " - 'U2OS', 'mESC'\n",
    " - 'H2B', 'array'\n",
    " - 'minflux', 'SPT', 'SRLCI'\n",
    " - 'ctrl', 'DMSO', 'DRB', 'TSA', 'ICRF' ('ctrl' and 'DMSO' are identical)\n",
    " - 'minflux-H2B', 'minflux-array'\n",
    " - 'SPT-100ms', 'SPT-2s', '100ms', '2s'\n",
    " - all combinations: \"H2B, {'U2OS', 'mESC'}, {'ctrl', 'DRB', 'TSA', 'ICRF'}\"\n",
    " - 'C36', 'ΔRAD21 (inactive)', 'ΔRAD21 (active)'\n",
    " - 'rep1', 'rep2', 'rep3' (except SRLCI data)\n",
    " - 'file=<original filename>'\n",
    " - 'stuck' indicates low-α trajectories in minflux U2OS data\n",
    "   (only applicable when loading 'data_withU2OSstuck')\n",
    " \n",
    "Notes:\n",
    " - minflux data is true single particle tracking, in 2D.\n",
    " - SPT H2B data is two-locus, in 2D; inter-locus distance is constrained to <3μm.\n",
    "   The trajectories contain the full 2-locus data, but have MSDs for relative distance pre-calculated.\n",
    " - SPT array data is two-locus, with CTCF as reference; inter-locus distance is <3μm.\n",
    " - SRLCI data is relative position of two loci, in 3D.\n",
    "\"\"\"[1:-1],\n",
    "}, outfile)"
   ]
  },
  {
   "cell_type": "code",
   "execution_count": 30,
   "id": "2ad65ad8",
   "metadata": {},
   "outputs": [],
   "source": [
    "data.makeSelection('stuck', logic=lambda x: not any(x))\n",
    "nl.io.write.hdf5_subTaggedSet(data,\n",
    "                              filename=outfile,\n",
    "                              group='/data',\n",
    "                              refTaggedSet='/data_withU2OSstuck',\n",
    "                             )"
   ]
  },
  {
   "cell_type": "markdown",
   "id": "c65ea616",
   "metadata": {},
   "source": [
    "# Sanity checks"
   ]
  },
  {
   "cell_type": "code",
   "execution_count": 31,
   "id": "666f556e",
   "metadata": {},
   "outputs": [],
   "source": [
    "conditions = [\n",
    "    ['H2B', 'minflux', 'mESC', 'ctrl'],\n",
    "    ['H2B', 'minflux', 'mESC', 'DRB'],\n",
    "    ['H2B', 'minflux', 'mESC', 'TSA'],\n",
    "    ['H2B', 'minflux', 'mESC', 'ICRF'],\n",
    "    ['H2B', 'minflux', 'U2OS', 'ctrl'],\n",
    "    ['H2B', 'minflux', 'U2OS', 'DRB'],\n",
    "    ['H2B', 'minflux', 'U2OS', 'TSA'],\n",
    "    ['H2B', 'minflux', 'U2OS', 'ICRF'],\n",
    "    ['H2B', 'SPT-100ms', 'mESC', 'ctrl'],\n",
    "    ['H2B', 'SPT-100ms', 'mESC', 'DRB'],\n",
    "    ['H2B', 'SPT-100ms', 'mESC', 'TSA'],\n",
    "    ['H2B', 'SPT-100ms', 'mESC', 'ICRF'],\n",
    "    ['H2B', 'SPT-100ms', 'U2OS', 'ctrl'],\n",
    "    ['H2B', 'SPT-100ms', 'U2OS', 'DRB'],\n",
    "    ['H2B', 'SPT-100ms', 'U2OS', 'TSA'],\n",
    "    ['H2B', 'SPT-100ms', 'U2OS', 'ICRF'],\n",
    "    ['H2B', 'SPT-2s', 'mESC', 'ctrl'],\n",
    "    ['H2B', 'SPT-2s', 'mESC', 'DRB'],\n",
    "    ['H2B', 'SPT-2s', 'mESC', 'TSA'],\n",
    "    ['H2B', 'SPT-2s', 'mESC', 'ICRF'],\n",
    "    ['H2B', 'SPT-2s', 'U2OS', 'ctrl'],\n",
    "    ['H2B', 'SPT-2s', 'U2OS', 'DRB'],\n",
    "    ['H2B', 'SPT-2s', 'U2OS', 'TSA'],\n",
    "    ['H2B', 'SPT-2s', 'U2OS', 'ICRF'],\n",
    "    ['array', 'minflux', 'C36'],\n",
    "    ['array', 'minflux', 'ΔRAD21 (inactive)'],\n",
    "    ['array', 'minflux', 'ΔRAD21 (active)'],\n",
    "    ['array', 'SPT-100ms', 'C36'],\n",
    "    ['array', 'SPT-100ms', 'ΔRAD21 (inactive)'],\n",
    "    ['array', 'SPT-100ms', 'ΔRAD21 (active)'],\n",
    "    ['array', 'SPT-2s', 'C36'],\n",
    "    ['array', 'SPT-2s', 'ΔRAD21 (inactive)'],\n",
    "    ['array', 'SPT-2s', 'ΔRAD21 (active)'],\n",
    "    ['array', 'SRLCI', 'C36'],\n",
    "    ['array', 'SRLCI', 'ΔRAD21 (inactive)'],\n",
    "    ['array', 'SRLCI', 'ΔRAD21 (active)'],\n",
    "]"
   ]
  },
  {
   "cell_type": "code",
   "execution_count": 32,
   "id": "56a172e9",
   "metadata": {},
   "outputs": [
    {
     "name": "stdout",
     "output_type": "stream",
     "text": [
      "All trajectories uniquely associated with one condition\n",
      "All trajectories uniquely associated with one repeat within each condition\n"
     ]
    }
   ],
   "source": [
    "# Trajectories are uniquely associated with one of the above conditions\n",
    "data.makeSelection()\n",
    "success = True\n",
    "for _, tags in data(giveTags=True):\n",
    "    cnt = np.sum([all(tag in tags for tag in cond) for cond in conditions])\n",
    "    if cnt != 1:\n",
    "        success = False\n",
    "        print(cnt, tags)\n",
    "\n",
    "if success:\n",
    "    print('All trajectories uniquely associated with one condition')\n",
    "\n",
    "# Same check for reps within conditions\n",
    "for cond in conditions:\n",
    "    data.makeSelection(cond, logic=all)\n",
    "    for _, tags in data(giveTags=True):\n",
    "        cnt = len(tags & {'rep1', 'rep2', 'rep3'})\n",
    "        if cnt != 1:\n",
    "            success = False\n",
    "            print(cnt, tags)\n",
    "\n",
    "if success:\n",
    "    print('All trajectories uniquely associated with one repeat within each condition')"
   ]
  },
  {
   "cell_type": "code",
   "execution_count": 33,
   "id": "ae56b79b",
   "metadata": {},
   "outputs": [
    {
     "name": "stdout",
     "output_type": "stream",
     "text": [
      "['H2B', 'minflux', 'mESC', 'ctrl']           ,      [180, 309, 177]\n",
      "['H2B', 'minflux', 'mESC', 'DRB']            ,      [218, 150, 157]\n",
      "['H2B', 'minflux', 'mESC', 'TSA']            ,      [159, 180, 146]\n",
      "['H2B', 'minflux', 'mESC', 'ICRF']           ,      [162, 233, 190]\n",
      "['H2B', 'minflux', 'U2OS', 'ctrl']           ,      [537, 484, 496]\n",
      "['H2B', 'minflux', 'U2OS', 'DRB']            ,      [465, 395, 443]\n",
      "['H2B', 'minflux', 'U2OS', 'TSA']            ,      [582, 305, 486]\n",
      "['H2B', 'minflux', 'U2OS', 'ICRF']           ,      [487, 410, 498]\n",
      "['H2B', 'SPT-100ms', 'mESC', 'ctrl']         ,      [681, 875, 770]\n",
      "['H2B', 'SPT-100ms', 'mESC', 'DRB']          ,      [541, 940, 933]\n",
      "['H2B', 'SPT-100ms', 'mESC', 'TSA']          ,    [665, 1159, 1200]\n",
      "['H2B', 'SPT-100ms', 'mESC', 'ICRF']         ,     [812, 1162, 746]\n",
      "['H2B', 'SPT-100ms', 'U2OS', 'ctrl']         ,     [376, 706, 1037]\n",
      "['H2B', 'SPT-100ms', 'U2OS', 'DRB']          ,     [720, 1197, 280]\n",
      "['H2B', 'SPT-100ms', 'U2OS', 'TSA']          ,      [429, 784, 297]\n",
      "['H2B', 'SPT-100ms', 'U2OS', 'ICRF']         ,    [606, 1020, 1060]\n",
      "['H2B', 'SPT-2s', 'mESC', 'ctrl']            ,     [786, 1138, 478]\n",
      "['H2B', 'SPT-2s', 'mESC', 'DRB']             ,     [542, 1436, 977]\n",
      "['H2B', 'SPT-2s', 'mESC', 'TSA']             ,   [1060, 1194, 1882]\n",
      "['H2B', 'SPT-2s', 'mESC', 'ICRF']            ,     [601, 1060, 999]\n",
      "['H2B', 'SPT-2s', 'U2OS', 'ctrl']            ,      [391, 673, 985]\n",
      "['H2B', 'SPT-2s', 'U2OS', 'DRB']             ,      [492, 641, 293]\n",
      "['H2B', 'SPT-2s', 'U2OS', 'TSA']             ,      [823, 913, 366]\n",
      "['H2B', 'SPT-2s', 'U2OS', 'ICRF']            ,     [509, 730, 1090]\n",
      "['array', 'minflux', 'C36']                  ,         [42, 48, 59]\n",
      "['array', 'minflux', 'ΔRAD21 (inactive)']    ,         [41, 61, 42]\n",
      "['array', 'minflux', 'ΔRAD21 (active)']      ,         [47, 65, 68]\n",
      "['array', 'SPT-100ms', 'C36']                ,       [143, 49, 188]\n",
      "['array', 'SPT-100ms', 'ΔRAD21 (inactive)']  ,      [103, 113, 141]\n",
      "['array', 'SPT-100ms', 'ΔRAD21 (active)']    ,        [27, 60, 172]\n",
      "['array', 'SPT-2s', 'C36']                   ,       [134, 97, 274]\n",
      "['array', 'SPT-2s', 'ΔRAD21 (inactive)']     ,       [28, 136, 242]\n",
      "['array', 'SPT-2s', 'ΔRAD21 (active)']       ,        [60, 76, 222]\n",
      "['array', 'SRLCI', 'C36']                    ,                [491]\n",
      "['array', 'SRLCI', 'ΔRAD21 (inactive)']      ,                [183]\n",
      "['array', 'SRLCI', 'ΔRAD21 (active)']        ,                [585]\n"
     ]
    }
   ],
   "source": [
    "# Check repeats\n",
    "for cond in conditions:\n",
    "    data.makeSelection(cond, logic=all)\n",
    "    reptags = sorted({tag for tag in data.tagset() if tag.startswith('rep')})\n",
    "    \n",
    "    if len(reptags) == 0:\n",
    "        lens = [len(data)]\n",
    "    else:\n",
    "        lens = []\n",
    "        for tag in reptags:\n",
    "            data.makeSelection(cond, logic=all)\n",
    "            data.refineSelection(tag)\n",
    "            lens.append(len(data))\n",
    "    \n",
    "    # print(f'{str(cond):<45s}, {str(reptags):<30s}, {str(lens):>20s}')\n",
    "    print(f'{str(cond):<45s}, {str(lens):>20s}')"
   ]
  },
  {
   "cell_type": "code",
   "execution_count": null,
   "id": "247d29ee",
   "metadata": {},
   "outputs": [],
   "source": []
  },
  {
   "cell_type": "code",
   "execution_count": null,
   "id": "2b10b9a9",
   "metadata": {},
   "outputs": [],
   "source": []
  },
  {
   "cell_type": "code",
   "execution_count": null,
   "id": "aa68a921",
   "metadata": {},
   "outputs": [],
   "source": []
  },
  {
   "cell_type": "code",
   "execution_count": null,
   "id": "ea52a382",
   "metadata": {},
   "outputs": [],
   "source": []
  },
  {
   "cell_type": "code",
   "execution_count": null,
   "id": "abe9759b",
   "metadata": {},
   "outputs": [],
   "source": []
  },
  {
   "cell_type": "code",
   "execution_count": null,
   "id": "9fcb2267",
   "metadata": {},
   "outputs": [],
   "source": []
  },
  {
   "cell_type": "code",
   "execution_count": null,
   "id": "4f069c17",
   "metadata": {},
   "outputs": [],
   "source": []
  },
  {
   "cell_type": "code",
   "execution_count": null,
   "id": "e0fb7bbd",
   "metadata": {},
   "outputs": [],
   "source": []
  },
  {
   "cell_type": "code",
   "execution_count": null,
   "id": "2c46073b",
   "metadata": {},
   "outputs": [],
   "source": []
  },
  {
   "cell_type": "code",
   "execution_count": null,
   "id": "09936cea",
   "metadata": {},
   "outputs": [],
   "source": []
  },
  {
   "cell_type": "code",
   "execution_count": null,
   "id": "00546b38",
   "metadata": {},
   "outputs": [],
   "source": []
  },
  {
   "cell_type": "code",
   "execution_count": null,
   "id": "db7424bc",
   "metadata": {},
   "outputs": [],
   "source": []
  },
  {
   "cell_type": "code",
   "execution_count": null,
   "id": "618a16d1",
   "metadata": {},
   "outputs": [],
   "source": []
  },
  {
   "cell_type": "code",
   "execution_count": null,
   "id": "c7ffcea0",
   "metadata": {},
   "outputs": [],
   "source": []
  },
  {
   "cell_type": "code",
   "execution_count": null,
   "id": "6539f3ae",
   "metadata": {},
   "outputs": [],
   "source": []
  },
  {
   "cell_type": "code",
   "execution_count": null,
   "id": "589a2f1a",
   "metadata": {},
   "outputs": [],
   "source": []
  },
  {
   "cell_type": "code",
   "execution_count": null,
   "id": "a935af72",
   "metadata": {},
   "outputs": [],
   "source": []
  },
  {
   "cell_type": "code",
   "execution_count": null,
   "id": "3539e28b",
   "metadata": {},
   "outputs": [],
   "source": []
  },
  {
   "cell_type": "code",
   "execution_count": null,
   "id": "25187019",
   "metadata": {},
   "outputs": [],
   "source": []
  },
  {
   "cell_type": "code",
   "execution_count": null,
   "id": "2b7f62ce",
   "metadata": {},
   "outputs": [],
   "source": []
  },
  {
   "cell_type": "code",
   "execution_count": null,
   "id": "8f260f1c",
   "metadata": {},
   "outputs": [],
   "source": []
  },
  {
   "cell_type": "code",
   "execution_count": null,
   "id": "269257d3",
   "metadata": {},
   "outputs": [],
   "source": []
  },
  {
   "cell_type": "code",
   "execution_count": null,
   "id": "7b48b0bd",
   "metadata": {},
   "outputs": [],
   "source": []
  },
  {
   "cell_type": "code",
   "execution_count": null,
   "id": "1a30c5c8",
   "metadata": {},
   "outputs": [],
   "source": []
  },
  {
   "cell_type": "code",
   "execution_count": null,
   "id": "b8dbacd8",
   "metadata": {},
   "outputs": [],
   "source": []
  },
  {
   "cell_type": "code",
   "execution_count": null,
   "id": "8d08e572",
   "metadata": {},
   "outputs": [],
   "source": []
  },
  {
   "cell_type": "code",
   "execution_count": null,
   "id": "82ce4634",
   "metadata": {},
   "outputs": [],
   "source": []
  },
  {
   "cell_type": "code",
   "execution_count": null,
   "id": "a67d2bfe",
   "metadata": {},
   "outputs": [],
   "source": []
  },
  {
   "cell_type": "code",
   "execution_count": null,
   "id": "3cb9091b",
   "metadata": {},
   "outputs": [],
   "source": []
  }
 ],
 "metadata": {
  "kernelspec": {
   "display_name": "Python 3 (ipykernel)",
   "language": "python",
   "name": "python3"
  },
  "language_info": {
   "codemirror_mode": {
    "name": "ipython",
    "version": 3
   },
   "file_extension": ".py",
   "mimetype": "text/x-python",
   "name": "python",
   "nbconvert_exporter": "python",
   "pygments_lexer": "ipython3",
   "version": "3.9.9"
  }
 },
 "nbformat": 4,
 "nbformat_minor": 5
}
