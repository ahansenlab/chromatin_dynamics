{
 "cells": [
  {
   "cell_type": "code",
   "execution_count": 1,
   "id": "4aecde21",
   "metadata": {},
   "outputs": [],
   "source": [
    "import os\n",
    "os.environ['OMP_NUM_THREADS'] = '1'\n",
    "\n",
    "from tqdm.auto import tqdm\n",
    "from pathlib import Path\n",
    "import re\n",
    "from multiprocessing import Pool\n",
    "import itertools\n",
    "\n",
    "import numpy as np\n",
    "from scipy.sparse import csgraph, csr_matrix\n",
    "import xml.etree.ElementTree as et\n",
    "\n",
    "import noctiluca as nl"
   ]
  },
  {
   "cell_type": "code",
   "execution_count": 2,
   "id": "8ff4870e",
   "metadata": {},
   "outputs": [],
   "source": [
    "def coord(s, digit_cutoff=5):\n",
    "    \"\"\"\n",
    "    Convert string to float, nan'ing out everything with low precision\n",
    "    \"\"\"\n",
    "    digits = len(s.split('.')[-1])\n",
    "    return float(s) if digits > digit_cutoff else np.nan\n",
    "\n",
    "def loadXML(file, root='.'):\n",
    "    try:\n",
    "        tree = et.parse(file);\n",
    "    except OSError:\n",
    "        print(f'Failed to read XML file {file}.')\n",
    "        raise\n",
    "    \n",
    "    data = nl.TaggedSet()\n",
    "    \n",
    "    tracks = tree.getroot()\n",
    "    assert tracks.tag == 'Tracks'\n",
    "    \n",
    "    for particle in tracks:\n",
    "        if not particle.tag == 'particle':\n",
    "            continue\n",
    "        \n",
    "        frame  = np.array( [  int(spot.attrib['t']) for spot in particle  ])\n",
    "        xy     = np.array([[coord(spot.attrib[key]) for key  in ['x', 'y']]\n",
    "                           for spot in particle])\n",
    "        \n",
    "        ind   = ~np.any(np.isnan(xy), axis=-1)\n",
    "        if np.sum(ind) == 0:\n",
    "            continue\n",
    "        frame = frame[ind]\n",
    "        xy    = xy[ind]\n",
    "        t     = frame - np.min(frame)\n",
    "        \n",
    "        trajdata = np.empty((np.max(t)+1, 2), dtype=float)\n",
    "        trajdata[:] = np.nan\n",
    "        trajdata[t] = xy\n",
    "        \n",
    "        traj = nl.Trajectory(trajdata)\n",
    "        traj.meta['real frame'] = np.arange(np.min(frame), np.max(frame)+1)\n",
    "        \n",
    "        data.add(traj)\n",
    "    \n",
    "    # get tags\n",
    "    tags = set()\n",
    "    filetag = str(file.relative_to(root))\n",
    "    filetag = re.sub(r'_rep_(\\d)', r'_rep\\1', filetag) # bugfix\n",
    "    tags.add(f'file={filetag}')\n",
    "    \n",
    "    for search, m_name in [('_(rep\\d)/', 'rep'),\n",
    "                          ]:\n",
    "        m = re.search(search, str(file))\n",
    "        if m is None:\n",
    "            print(f\"Warning: could not identify which {m_name} the file '{str(file)}' belongs to\")\n",
    "        else:\n",
    "            tags.add(m[1])\n",
    "    \n",
    "    m = re.match('Tracks_([^_]*)_([^_]*)_([^_]*)_([^_]*)_([^_]*)_(\\d+)_(CTCF|Fbn2).xml', file.name)\n",
    "    if m is None:\n",
    "        raise RuntimeError(f\"Filename {file.name} did not match expected pattern\")\n",
    "    else:\n",
    "        date      = m[1]\n",
    "        cellline  = m[2]\n",
    "        condition = m[3]\n",
    "        framerate = m[4]\n",
    "        cell      = m[5]\n",
    "        roi       = m[6]\n",
    "        channel   = m[7]\n",
    "        \n",
    "        tags |= {f'date={date}', cell, f'roi={roi}', condition, framerate, cellline, channel}\n",
    "    \n",
    "    data.addTags(tags)\n",
    "    return data"
   ]
  },
  {
   "cell_type": "code",
   "execution_count": 3,
   "id": "2241682c",
   "metadata": {},
   "outputs": [
    {
     "data": {
      "text/plain": [
       "742"
      ]
     },
     "execution_count": 3,
     "metadata": {},
     "output_type": "execute_result"
    }
   ],
   "source": [
    "datapath = Path('../../raw_data/SPT/array')\n",
    "files = list(datapath.rglob('*.xml'))\n",
    "len(files)"
   ]
  },
  {
   "cell_type": "code",
   "execution_count": 4,
   "id": "8379684e",
   "metadata": {},
   "outputs": [
    {
     "data": {
      "application/vnd.jupyter.widget-view+json": {
       "model_id": "ebb1ddd494a14de2b6c9070afba11e97",
       "version_major": 2,
       "version_minor": 0
      },
      "text/plain": [
       "  0%|          | 0/742 [00:00<?, ?it/s]"
      ]
     },
     "metadata": {},
     "output_type": "display_data"
    }
   ],
   "source": [
    "# Load all\n",
    "# Files double as cell identifiers\n",
    "data = nl.TaggedSet()\n",
    "for file in tqdm(files):\n",
    "    data |= loadXML(file, datapath)"
   ]
  },
  {
   "cell_type": "code",
   "execution_count": 5,
   "id": "087833b3",
   "metadata": {},
   "outputs": [
    {
     "data": {
      "application/vnd.jupyter.widget-view+json": {
       "model_id": "05ffc0f7a4ba4fc19149af0574916dcf",
       "version_major": 2,
       "version_minor": 0
      },
      "text/plain": [
       "0it [00:00, ?it/s]"
      ]
     },
     "metadata": {},
     "output_type": "display_data"
    },
    {
     "name": "stdout",
     "output_type": "stream",
     "text": [
      "Found Fbn2 file for each CTCF file and assigned 371 IDs\n"
     ]
    }
   ],
   "source": [
    "# Assign situation IDs\n",
    "# each recording gets a unique integer ID that allows us to match Fbn2 and CTCF data\n",
    "data.makeSelection()\n",
    "tags = set(filter(lambda tag: not tag.startswith('file='), data.tagset()))\n",
    "reptags = sorted(tag for tag in tags if re.match('rep\\d', tag))\n",
    "framerates = ['100ms', '2s']\n",
    "treatments = ['NT', 'DMSO', 'IAA']\n",
    "cells = sorted(tag for tag in tags if re.match('\\d+cell', tag))\n",
    "rois = sorted(tag for tag in tags if tag.startswith('roi='))\n",
    "\n",
    "ID = 0\n",
    "bar = tqdm()\n",
    "for sel in itertools.product(reptags, framerates, treatments, cells, rois):\n",
    "    sel = list(sel)\n",
    "    data.makeSelection(sel, logic=all)\n",
    "    data.refineSelection('CTCF')\n",
    "    if len(data) > 0:\n",
    "        filetags = sorted(filter(lambda tag: tag.startswith('file='), data.tagset()))\n",
    "        assert len(filetags) == 1\n",
    "        CTCF_file = filetags.pop()\n",
    "        \n",
    "        data.makeSelection(sel, logic=all)\n",
    "        data.refineSelection('Fbn2')\n",
    "        filetags = sorted(filter(lambda tag: tag.startswith('file='), data.tagset()))\n",
    "        if len(filetags) != 1:\n",
    "            for filetag in filetags:\n",
    "                print(filetag)\n",
    "            raise RuntimeError(f\"Found the above files corresponding to {CTCF_file}\")\n",
    "        \n",
    "        data.makeSelection(sel, logic=all)\n",
    "        data.addTags(f'id={ID}')\n",
    "        ID += 1\n",
    "        bar.update()\n",
    "\n",
    "bar.close()\n",
    "print(f\"Found Fbn2 file for each CTCF file and assigned {ID} IDs\")"
   ]
  },
  {
   "cell_type": "code",
   "execution_count": 6,
   "id": "8d591668",
   "metadata": {},
   "outputs": [
    {
     "name": "stdout",
     "output_type": "stream",
     "text": [
      "All data successfully matched for CTCF/Fbn2\n"
     ]
    }
   ],
   "source": [
    "data.makeSelection()\n",
    "ids = sorted(tag for tag in data.tagset() if tag.startswith('id='))\n",
    "data.makeSelection(ids, logic=lambda x: not any(x))\n",
    "\n",
    "files = sorted(tag[5:] for tag in data.tagset() if tag.startswith('file='))\n",
    "if len(files) > 0:\n",
    "    print(\"Data from the following files could not be CTCF/Fbn2 matched:\")\n",
    "    for f in files:\n",
    "        print('  ', f)\n",
    "else:\n",
    "    print(\"All data successfully matched for CTCF/Fbn2\")"
   ]
  },
  {
   "cell_type": "markdown",
   "id": "8337534c",
   "metadata": {},
   "source": [
    "# Get pairwise trajectories"
   ]
  },
  {
   "cell_type": "code",
   "execution_count": 7,
   "id": "719fb749",
   "metadata": {},
   "outputs": [
    {
     "data": {
      "application/vnd.jupyter.widget-view+json": {
       "model_id": "8e9068ae62c14f0fb139faa728551973",
       "version_major": 2,
       "version_minor": 0
      },
      "text/plain": [
       "  0%|          | 0/371 [00:00<?, ?it/s]"
      ]
     },
     "metadata": {},
     "output_type": "display_data"
    },
    {
     "name": "stdout",
     "output_type": "stream",
     "text": [
      "11334\n"
     ]
    }
   ],
   "source": [
    "def SD(xm, xn): # for MSD calculation\n",
    "    return np.sum((xm-xn)**2, axis=-1)\n",
    "\n",
    "def parfun(id_tag):\n",
    "    data.makeSelection([id_tag, 'Fbn2'], logic=all)\n",
    "    data_fbn2 = data.copySelection()\n",
    "    data.makeSelection([id_tag, 'CTCF'], logic=all)\n",
    "    data.refineSelection(lambda traj, _: traj.F >= 20)\n",
    "    if '100ms' in data.tagset(): # tighter filter to get rid of unbound CTCFs\n",
    "        data.refineSelection(lambda traj, _: traj.F >= 50)\n",
    "    data_out = nl.TaggedSet()\n",
    "\n",
    "    for i, (traj0, tags) in enumerate(data_fbn2(giveTags=True)):\n",
    "        rf0 = traj0.meta['real frame']\n",
    "        rf0 = rf0[~np.any(np.isnan(traj0[:]), axis=-1)]\n",
    "        for j in range(len(data)):\n",
    "            traj1 = data[j]\n",
    "            rf1 = traj1.meta['real frame']\n",
    "            rf1 = rf1[~np.any(np.isnan(traj1[:]), axis=-1)]\n",
    "\n",
    "            rf_min = min(rf0.min(), rf1.min())\n",
    "            rf_max = max(rf0.max(), rf1.max())\n",
    "            cnt = np.zeros(rf_max+1-rf_min, dtype=int)\n",
    "            cnt[rf0-rf_min] += 1\n",
    "            cnt[rf1-rf_min] += 2\n",
    "            \n",
    "            valid = np.nonzero(cnt == 3)[0]\n",
    "            if len(valid) < 20: # the original data is also cut to >= 20 valid frames\n",
    "                continue\n",
    "                \n",
    "            valid_rf = valid + rf_min\n",
    "                \n",
    "            traj_dat = np.empty((2, valid_rf[-1]+1-valid_rf[0], traj0.d), dtype=float)\n",
    "            traj_dat[:] = np.nan\n",
    "            traj_dat[0, valid_rf - valid_rf[0]] = traj0[valid_rf - rf0.min()]\n",
    "            traj_dat[1, valid_rf - valid_rf[0]] = traj1[valid_rf - rf1.min()]\n",
    "            \n",
    "            traj = nl.Trajectory(traj_dat)\n",
    "            traj.meta['real frame'] = np.arange(valid_rf[0], valid_rf[-1]+1)\n",
    "            traj.meta['original data index Fbn2'] = i\n",
    "            traj.meta['original data index CTCF'] = j\n",
    "            \n",
    "            # Precompute MSDs\n",
    "            # Note the use of preproc=... to calculate the correct MSD for the two-locus trajectories\n",
    "            # This will allow us to naively use nl.analysis.MSD in the future\n",
    "            # Do this here (instead of later), because it works nicely with parallelization\n",
    "            _ = nl.analysis.p2.P2(traj, function=SD, writeto='MSD', preproc=lambda traj: traj.relative())\n",
    "            \n",
    "            data_out.add(traj, tags.copy())\n",
    "            \n",
    "    return data_out\n",
    "\n",
    "data.makeSelection()\n",
    "id_tags = {tag for tag in data.tagset() if tag.startswith('id=')}\n",
    "\n",
    "data2 = nl.TaggedSet()\n",
    "todo = id_tags\n",
    "with Pool() as mypool:\n",
    "    imap = mypool.imap_unordered(parfun, todo)\n",
    "    imap = tqdm(imap, total=len(todo))\n",
    "    for dat in imap:\n",
    "        data2 |= dat\n",
    "\n",
    "print(len(data2))"
   ]
  },
  {
   "cell_type": "code",
   "execution_count": 9,
   "id": "110e74a8",
   "metadata": {},
   "outputs": [],
   "source": [
    "out_filename = '../../data/20250411_SPT_array_CTCF.h5'\n",
    "\n",
    "data.makeSelection()\n",
    "nl.io.write.hdf5({\n",
    "    'data' : data,\n",
    "    'conditions' : ['NT', 'DMSO', 'IAA'],\n",
    "    'description' : \"\"\"\n",
    "SPT tracking for Fbn2 cell lines\n",
    "\n",
    "    NT     C36\n",
    "    DMSO   ΔRAD21 (inactive)\n",
    "    IAA    ΔRAD21 (active)\n",
    "    \n",
    "Framerates are 100ms or 2s, exposure is 86.71ms for all data.\n",
    "\n",
    "For all conditions we have three biological replicates, tagged 'rep1/2/3'.\n",
    "\"\"\"[1:-1]}, out_filename)\n",
    "\n",
    "data2.makeSelection()\n",
    "nl.io.write.hdf5(data2, out_filename, '/data_twoLocus_all')\n",
    "nl.io.write.hdf5(nl.io.load.hdf5(out_filename, 'description') + r\"\"\"\n",
    "\n",
    "The group 'data_twoLocus_all' contains pairwise trajectories between the\n",
    "Fbn2 locus and CTCF tracks.\n",
    "\"\"\"[1:], out_filename, 'description')\n",
    "\n",
    "for sep in [1, 3, 5]:\n",
    "    data2.makeSelection(lambda traj, _:\n",
    "                        np.nanmean(traj.relative().abs()[:][:, 0]) < sep,\n",
    "                       )\n",
    "    nl.io.write.hdf5_subTaggedSet(data2, out_filename,\n",
    "                                  f'/data_twoLocus_maxsep-{sep}um',\n",
    "                                  refTaggedSet='/data_twoLocus_all',\n",
    "                                 )\n",
    "nl.io.write.hdf5(nl.io.load.hdf5(out_filename, 'description') + r\"\"\"\n",
    "\n",
    "The groups 'data_twoLocus_maxsep_Xum' are subsets of the two-locus data with\n",
    "distance cutoffs 1, 3, 5 μm, respectively.\n",
    "\"\"\"[1:], out_filename, 'description')"
   ]
  }
 ],
 "metadata": {
  "kernelspec": {
   "display_name": "Python 3 (ipykernel)",
   "language": "python",
   "name": "python3"
  },
  "language_info": {
   "codemirror_mode": {
    "name": "ipython",
    "version": 3
   },
   "file_extension": ".py",
   "mimetype": "text/x-python",
   "name": "python",
   "nbconvert_exporter": "python",
   "pygments_lexer": "ipython3",
   "version": "3.9.9"
  }
 },
 "nbformat": 4,
 "nbformat_minor": 5
}
