{
 "cells": [
  {
   "cell_type": "code",
   "execution_count": 1,
   "id": "61262111",
   "metadata": {},
   "outputs": [],
   "source": [
    "import os\n",
    "os.environ['OMP_NUM_THREADS'] = '1'\n",
    "\n",
    "import time\n",
    "from multiprocessing import Pool\n",
    "from tqdm.auto import tqdm\n",
    "import re\n",
    "from copy import deepcopy\n",
    "\n",
    "import numpy as np\n",
    "from scipy import integrate\n",
    "from matplotlib import pyplot as plt\n",
    "\n",
    "import noctiluca as nl\n",
    "import bayesmsd"
   ]
  },
  {
   "cell_type": "code",
   "execution_count": 2,
   "id": "41d09c6d",
   "metadata": {},
   "outputs": [],
   "source": [
    "filename = '../data/20250411_chromatin_dynamics_all_data.h5'\n",
    "data       = nl.io.load.hdf5(filename)['data']"
   ]
  },
  {
   "cell_type": "code",
   "execution_count": 3,
   "id": "69cbf592",
   "metadata": {},
   "outputs": [],
   "source": [
    "n_subsample = 4 # cut off the \"kink\" at the beginning of MINFLUX data\n",
    "def subsample(traj):\n",
    "    out = nl.Trajectory(traj[::n_subsample])\n",
    "    out.meta['Δt'] = n_subsample*traj.meta['Δt']\n",
    "    return out"
   ]
  },
  {
   "cell_type": "code",
   "execution_count": 4,
   "id": "984e632f",
   "metadata": {},
   "outputs": [],
   "source": [
    "data.makeSelection('minflux')\n",
    "data.apply(subsample, inplace=True)"
   ]
  },
  {
   "cell_type": "markdown",
   "id": "8dac2a44",
   "metadata": {},
   "source": [
    "# Fits"
   ]
  },
  {
   "cell_type": "code",
   "execution_count": 5,
   "id": "6afab8a7",
   "metadata": {},
   "outputs": [],
   "source": [
    "def chop(traj, dt=None, L=200, Fmin=2):\n",
    "    if dt is None:\n",
    "        dt = traj.meta['Δt']\n",
    "    \n",
    "    def chop_traj(traj, dt=dt):\n",
    "        if 'Δt' in traj.meta:\n",
    "            dt = traj.meta['Δt']\n",
    "            \n",
    "        chops = []\n",
    "        i0 = 0\n",
    "        while i0 < len(traj):\n",
    "            i1 = i0+L\n",
    "            chop = traj.data[:, i0:min(i1, len(traj)), :]\n",
    "            try:\n",
    "                t_start = np.nonzero(~np.any(np.isnan(chop), axis=(0, 2)))[0][0]\n",
    "            except IndexError: # no valid entries in this chop\n",
    "                new_traj = nl.Trajectory(chop[:, [0]])\n",
    "            else:\n",
    "                new_traj = nl.Trajectory(chop[:, t_start:])\n",
    "                \n",
    "            new_traj.meta['Δt'] = dt\n",
    "            chops.append(new_traj)\n",
    "\n",
    "            i0 = i1\n",
    "            \n",
    "        return chops\n",
    "    \n",
    "    chops = chop_traj(traj)\n",
    "    out = nl.TaggedSet(chops, hasTags=False)\n",
    "    while len(chops) > 1:\n",
    "        cg_traj = nl.Trajectory(np.stack([traj.data[:, 0] for traj in chops], axis=1))\n",
    "        cg_traj.meta['Δt'] = L*chops[0].meta['Δt']\n",
    "        chops = chop_traj(cg_traj)\n",
    "        for traj in chops:\n",
    "            out.add(traj)\n",
    "    \n",
    "    # Clean out useless trajectories\n",
    "    out.makeSelection(lambda traj, _: traj.F < Fmin)\n",
    "    out.deleteSelection()\n",
    "    return out"
   ]
  },
  {
   "cell_type": "code",
   "execution_count": 6,
   "id": "3937db00",
   "metadata": {},
   "outputs": [
    {
     "data": {
      "application/vnd.jupyter.widget-view+json": {
       "model_id": "fc352ca0716546fdbbc6f53a5aa26686",
       "version_major": 2,
       "version_minor": 0
      },
      "text/plain": [
       "0it [00:00, ?it/s]"
      ]
     },
     "metadata": {},
     "output_type": "display_data"
    },
    {
     "data": {
      "application/vnd.jupyter.widget-view+json": {
       "model_id": "e3d20e59c18541d5a866a4822e99eb49",
       "version_major": 2,
       "version_minor": 0
      },
      "text/plain": [
       "  0%|          | 0/5035 [00:00<?, ?it/s]"
      ]
     },
     "metadata": {},
     "output_type": "display_data"
    },
    {
     "data": {
      "application/vnd.jupyter.widget-view+json": {
       "model_id": "1eb1bf3a998344418cc7d90b11192cca",
       "version_major": 2,
       "version_minor": 0
      },
      "text/plain": [
       "  0%|          | 0/4146 [00:00<?, ?it/s]"
      ]
     },
     "metadata": {},
     "output_type": "display_data"
    },
    {
     "data": {
      "application/vnd.jupyter.widget-view+json": {
       "model_id": "508770232f2f43de9f2e6c0a3c44f97a",
       "version_major": 2,
       "version_minor": 0
      },
      "text/plain": [
       "  0%|          | 0/4002 [00:00<?, ?it/s]"
      ]
     },
     "metadata": {},
     "output_type": "display_data"
    },
    {
     "data": {
      "application/vnd.jupyter.widget-view+json": {
       "model_id": "5bf946b384b94a9987dac6752615fad3",
       "version_major": 2,
       "version_minor": 0
      },
      "text/plain": [
       "  0%|          | 0/4858 [00:00<?, ?it/s]"
      ]
     },
     "metadata": {},
     "output_type": "display_data"
    }
   ],
   "source": [
    "ct = 'mESC'\n",
    "bar = tqdm()\n",
    "\n",
    "fits = {}\n",
    "for treatment in ['ctrl', 'DRB', 'TSA', 'ICRF']:\n",
    "\n",
    "    cond = ', '.join(['H2B', ct, treatment])\n",
    "    fits[treatment] = {\n",
    "        'single' : {},\n",
    "        'joints' : {},\n",
    "    }\n",
    "\n",
    "    # Minflux\n",
    "    data.makeSelection(['minflux', cond], logic=all)\n",
    "    dt = data[0].meta['Δt']\n",
    "\n",
    "    fitdata = nl.TaggedSet()\n",
    "    for traj in data:\n",
    "        fitdata |= chop(traj.rescale(1e6, keepmeta=['Δt']))\n",
    "\n",
    "    with nl.Parallelize():\n",
    "        _ = nl.analysis.MSD(fitdata, chunksize=10, show_progress=True)\n",
    "\n",
    "    fit = bayesmsd.lib.NPFit(fitdata, motion_blur_f=dt/n_subsample, parametrization='(log(αΓ), α)')\n",
    "    fit.parameters['log(σ²) (dim 1)'].fix_to = 'log(σ²) (dim 0)'\n",
    "    fit.likelihood_chunksize = 200\n",
    "\n",
    "    fits[treatment]['single'][f'minflux'] = fit\n",
    "\n",
    "    bar.update()\n",
    "\n",
    "    # Conventional\n",
    "    for dt_tag in ['100ms', '2s']:\n",
    "        data.makeSelection(['SPT', dt_tag, cond], logic=all)\n",
    "        dt = data[0].meta['Δt']\n",
    "        tau_e = 0.08671 # same exposure for both conditions\n",
    "\n",
    "        fitdata = data.apply(lambda traj : traj.relative(keepmeta=['MSD', 'Δt']), inplace=False)\n",
    "\n",
    "        fit = bayesmsd.lib.NPFit(fitdata, motion_blur_f=tau_e, parametrization='(log(αΓ), α)')\n",
    "        fit.parameters['log(σ²) (dim 1)'].fix_to = 'log(σ²) (dim 0)'\n",
    "        fit.likelihood_chunksize = 100\n",
    "\n",
    "        fits[treatment]['single'][f'SPT-{dt_tag}'] = fit\n",
    "\n",
    "        bar.update()\n",
    "\n",
    "    # Assemble list of fit(group)s to run\n",
    "    groups = {\n",
    "        'minflux'       : ['minflux'],\n",
    "        'SPT 100ms'     : ['SPT-100ms'],\n",
    "        'SPT 2s'        : ['SPT-2s'],\n",
    "        'SPT'           : ['SPT-100ms', 'SPT-2s'],\n",
    "        'minflux + SPT' : ['minflux', 'SPT-100ms', 'SPT-2s'],\n",
    "    }\n",
    "\n",
    "    for groupname in groups:\n",
    "        fits_dict = fits[treatment]['single']\n",
    "\n",
    "        fit = bayesmsd.FitGroup({name : fits_dict[name] for name in groups[groupname]})\n",
    "        fit.parameters['α']       = deepcopy(fits_dict['minflux'].parameters[      'α (dim 0)'])\n",
    "        fit.parameters['log(αΓ)'] = deepcopy(fits_dict['minflux'].parameters['log(αΓ) (dim 0)'])\n",
    "\n",
    "        # hacky...\n",
    "        def patch_initial_params(self=fit):\n",
    "            params = type(self).initial_params(self)\n",
    "            a    = [val for key, val in params.items() if      'α' in key][0]\n",
    "            logG = [val for key, val in params.items() if 'log(αΓ)' in key][0]\n",
    "            params['α'] = a\n",
    "            params['log(αΓ)'] = logG\n",
    "            return params\n",
    "        fit.initial_params = patch_initial_params\n",
    "\n",
    "        for fitname in fit.fits_dict:\n",
    "            fit.parameters[fitname+f' α (dim 0)'].fix_to = 'α'\n",
    "            if fitname == 'minflux':\n",
    "                fit.parameters[fitname+f' log(αΓ) (dim 0)'].fix_to = 'log(αΓ)'\n",
    "            else: # not minflux, so correct for 2-loc\n",
    "                def twoGref(params): return params['log(αΓ)']+np.log(2)\n",
    "                fit.parameters[fitname+f' log(αΓ) (dim 0)'].fix_to = twoGref\n",
    "\n",
    "        fits[treatment]['joints'][groupname] = fit\n",
    "\n",
    "        bar.update()\n",
    "\n",
    "bar.close()"
   ]
  },
  {
   "cell_type": "code",
   "execution_count": 7,
   "id": "3ba04e23",
   "metadata": {},
   "outputs": [
    {
     "name": "stdout",
     "output_type": "stream",
     "text": [
      "\n",
      "=================\n",
      "||  mESC ctrl  ||\n",
      "=================\n",
      "\n",
      "minflux\n",
      "====================\n"
     ]
    },
    {
     "data": {
      "application/vnd.jupyter.widget-view+json": {
       "model_id": "0c633d09f0d8436b9b19f141da99995f",
       "version_major": 2,
       "version_minor": 0
      },
      "text/plain": [
       "fit iterations: 0it [00:00, ?it/s]"
      ]
     },
     "metadata": {},
     "output_type": "display_data"
    },
    {
     "name": "stdout",
     "output_type": "stream",
     "text": [
      "minflux log(σ²) (dim 0) -8.06473909569683\n",
      "α 0.3237536208843953\n",
      "log(αΓ) -6.5626791822568755\n",
      "minflux α (dim 0) 0.3237536208843953\n",
      "minflux log(αΓ) (dim 0) -6.5626791822568755\n",
      "\n",
      "SPT 100ms\n",
      "====================\n"
     ]
    },
    {
     "data": {
      "application/vnd.jupyter.widget-view+json": {
       "model_id": "4db7e222a42a446ca6c92abbe9ae8483",
       "version_major": 2,
       "version_minor": 0
      },
      "text/plain": [
       "fit iterations: 0it [00:00, ?it/s]"
      ]
     },
     "metadata": {},
     "output_type": "display_data"
    },
    {
     "name": "stdout",
     "output_type": "stream",
     "text": [
      "SPT-100ms log(σ²) (dim 0) -6.738444513640547\n",
      "α 0.422197956029141\n",
      "log(αΓ) -6.27721445857177\n",
      "SPT-100ms α (dim 0) 0.422197956029141\n",
      "SPT-100ms log(αΓ) (dim 0) -5.584067278011824\n",
      "\n",
      "SPT 2s\n",
      "====================\n"
     ]
    },
    {
     "data": {
      "application/vnd.jupyter.widget-view+json": {
       "model_id": "2a9c601ee5664c8f881f41f955beb4a5",
       "version_major": 2,
       "version_minor": 0
      },
      "text/plain": [
       "fit iterations: 0it [00:00, ?it/s]"
      ]
     },
     "metadata": {},
     "output_type": "display_data"
    },
    {
     "name": "stdout",
     "output_type": "stream",
     "text": [
      "SPT-2s log(σ²) (dim 0) -5.891007459784242\n",
      "α 0.5960185166059928\n",
      "log(αΓ) -6.5007578459964765\n",
      "SPT-2s α (dim 0) 0.5960185166059928\n",
      "SPT-2s log(αΓ) (dim 0) -5.807610665436531\n",
      "\n",
      "SPT\n",
      "====================\n"
     ]
    },
    {
     "data": {
      "application/vnd.jupyter.widget-view+json": {
       "model_id": "9f76a0324f4f46da9d84acbdce34c4fe",
       "version_major": 2,
       "version_minor": 0
      },
      "text/plain": [
       "fit iterations: 0it [00:00, ?it/s]"
      ]
     },
     "metadata": {},
     "output_type": "display_data"
    },
    {
     "name": "stdout",
     "output_type": "stream",
     "text": [
      "SPT-100ms log(σ²) (dim 0) -6.6945225801284955\n",
      "SPT-2s log(σ²) (dim 0) -6.707645108094548\n",
      "α 0.45609135467456435\n",
      "log(αΓ) -6.244445211071193\n",
      "SPT-100ms α (dim 0) 0.45609135467456435\n",
      "SPT-2s α (dim 0) 0.45609135467456435\n",
      "SPT-100ms log(αΓ) (dim 0) -5.551298030511248\n",
      "SPT-2s log(αΓ) (dim 0) -5.551298030511248\n",
      "\n",
      "minflux + SPT\n",
      "====================\n"
     ]
    },
    {
     "data": {
      "application/vnd.jupyter.widget-view+json": {
       "model_id": "be8f1d6c41cf47f5a920f9936a894217",
       "version_major": 2,
       "version_minor": 0
      },
      "text/plain": [
       "fit iterations: 0it [00:00, ?it/s]"
      ]
     },
     "metadata": {},
     "output_type": "display_data"
    },
    {
     "name": "stdout",
     "output_type": "stream",
     "text": [
      "minflux log(σ²) (dim 0) -7.975232255247852\n",
      "SPT-100ms log(σ²) (dim 0) -6.840906041432038\n",
      "SPT-2s log(σ²) (dim 0) -7.079005955077314\n",
      "α 0.39016199166754567\n",
      "log(αΓ) -6.231948966167968\n",
      "minflux α (dim 0) 0.39016199166754567\n",
      "minflux log(αΓ) (dim 0) -6.231948966167968\n",
      "SPT-100ms α (dim 0) 0.39016199166754567\n",
      "SPT-2s α (dim 0) 0.39016199166754567\n",
      "SPT-100ms log(αΓ) (dim 0) -5.5388017856080225\n",
      "SPT-2s log(αΓ) (dim 0) -5.5388017856080225\n",
      "\n",
      "\n",
      "=================\n",
      "||  mESC DRB   ||\n",
      "=================\n",
      "\n",
      "minflux\n",
      "====================\n"
     ]
    },
    {
     "data": {
      "application/vnd.jupyter.widget-view+json": {
       "model_id": "82855c71bdf54e14ab7b2982c154a42a",
       "version_major": 2,
       "version_minor": 0
      },
      "text/plain": [
       "fit iterations: 0it [00:00, ?it/s]"
      ]
     },
     "metadata": {},
     "output_type": "display_data"
    },
    {
     "name": "stdout",
     "output_type": "stream",
     "text": [
      "minflux log(σ²) (dim 0) -8.135505686114527\n",
      "α 0.3112012363170198\n",
      "log(αΓ) -6.472226188969962\n",
      "minflux α (dim 0) 0.3112012363170198\n",
      "minflux log(αΓ) (dim 0) -6.472226188969962\n",
      "\n",
      "SPT 100ms\n",
      "====================\n"
     ]
    },
    {
     "data": {
      "application/vnd.jupyter.widget-view+json": {
       "model_id": "32cb170fbdb64e6c914275e7bbb3a7d2",
       "version_major": 2,
       "version_minor": 0
      },
      "text/plain": [
       "fit iterations: 0it [00:00, ?it/s]"
      ]
     },
     "metadata": {},
     "output_type": "display_data"
    },
    {
     "name": "stdout",
     "output_type": "stream",
     "text": [
      "SPT-100ms log(σ²) (dim 0) -6.6826503417906835\n",
      "α 0.40328062644317353\n",
      "log(αΓ) -6.135039720118119\n",
      "SPT-100ms α (dim 0) 0.40328062644317353\n",
      "SPT-100ms log(αΓ) (dim 0) -5.441892539558173\n",
      "\n",
      "SPT 2s\n",
      "====================\n"
     ]
    },
    {
     "data": {
      "application/vnd.jupyter.widget-view+json": {
       "model_id": "fee034b4a3e7445a83b0862724df0e92",
       "version_major": 2,
       "version_minor": 0
      },
      "text/plain": [
       "fit iterations: 0it [00:00, ?it/s]"
      ]
     },
     "metadata": {},
     "output_type": "display_data"
    },
    {
     "name": "stdout",
     "output_type": "stream",
     "text": [
      "SPT-2s log(σ²) (dim 0) -5.855187803119444\n",
      "α 0.5309409470055377\n",
      "log(αΓ) -6.481926281833539\n",
      "SPT-2s α (dim 0) 0.5309409470055377\n",
      "SPT-2s log(αΓ) (dim 0) -5.788779101273594\n",
      "\n",
      "SPT\n",
      "====================\n"
     ]
    },
    {
     "data": {
      "application/vnd.jupyter.widget-view+json": {
       "model_id": "60da6ce1b7414d83b20b9d17334b6de2",
       "version_major": 2,
       "version_minor": 0
      },
      "text/plain": [
       "fit iterations: 0it [00:00, ?it/s]"
      ]
     },
     "metadata": {},
     "output_type": "display_data"
    },
    {
     "name": "stdout",
     "output_type": "stream",
     "text": [
      "SPT-100ms log(σ²) (dim 0) -6.688021148215798\n",
      "SPT-2s log(σ²) (dim 0) -7.029112595150025\n",
      "α 0.38477787331019786\n",
      "log(αΓ) -6.185827161605495\n",
      "SPT-100ms α (dim 0) 0.38477787331019786\n",
      "SPT-2s α (dim 0) 0.38477787331019786\n",
      "SPT-100ms log(αΓ) (dim 0) -5.4926799810455496\n",
      "SPT-2s log(αΓ) (dim 0) -5.4926799810455496\n",
      "\n",
      "minflux + SPT\n",
      "====================\n"
     ]
    },
    {
     "data": {
      "application/vnd.jupyter.widget-view+json": {
       "model_id": "31d940604a1e4b04b197a5a781fe96eb",
       "version_major": 2,
       "version_minor": 0
      },
      "text/plain": [
       "fit iterations: 0it [00:00, ?it/s]"
      ]
     },
     "metadata": {},
     "output_type": "display_data"
    },
    {
     "name": "stdout",
     "output_type": "stream",
     "text": [
      "minflux log(σ²) (dim 0) -8.052644593586157\n",
      "SPT-100ms log(σ²) (dim 0) -6.736923732386401\n",
      "SPT-2s log(σ²) (dim 0) -7.161478230333096\n",
      "α 0.36446991957762515\n",
      "log(αΓ) -6.186759464389324\n",
      "minflux α (dim 0) 0.36446991957762515\n",
      "minflux log(αΓ) (dim 0) -6.186759464389324\n",
      "SPT-100ms α (dim 0) 0.36446991957762515\n",
      "SPT-2s α (dim 0) 0.36446991957762515\n",
      "SPT-100ms log(αΓ) (dim 0) -5.493612283829378\n",
      "SPT-2s log(αΓ) (dim 0) -5.493612283829378\n",
      "\n",
      "\n",
      "=================\n",
      "||  mESC TSA   ||\n",
      "=================\n",
      "\n",
      "minflux\n",
      "====================\n"
     ]
    },
    {
     "data": {
      "application/vnd.jupyter.widget-view+json": {
       "model_id": "cd487bedc9814e3ab7d1fcda2369175a",
       "version_major": 2,
       "version_minor": 0
      },
      "text/plain": [
       "fit iterations: 0it [00:00, ?it/s]"
      ]
     },
     "metadata": {},
     "output_type": "display_data"
    },
    {
     "name": "stdout",
     "output_type": "stream",
     "text": [
      "minflux log(σ²) (dim 0) -8.229248029066703\n",
      "α 0.27710943469518456\n",
      "log(αΓ) -6.549132219503516\n",
      "minflux α (dim 0) 0.27710943469518456\n",
      "minflux log(αΓ) (dim 0) -6.549132219503516\n",
      "\n",
      "SPT 100ms\n",
      "====================\n"
     ]
    },
    {
     "data": {
      "application/vnd.jupyter.widget-view+json": {
       "model_id": "6be6aeae48424194b170de3460cd8bb2",
       "version_major": 2,
       "version_minor": 0
      },
      "text/plain": [
       "fit iterations: 0it [00:00, ?it/s]"
      ]
     },
     "metadata": {},
     "output_type": "display_data"
    },
    {
     "name": "stdout",
     "output_type": "stream",
     "text": [
      "SPT-100ms log(σ²) (dim 0) -6.695818827343953\n",
      "α 0.40496639277087326\n",
      "log(αΓ) -6.261994299015724\n",
      "SPT-100ms α (dim 0) 0.40496639277087326\n",
      "SPT-100ms log(αΓ) (dim 0) -5.568847118455778\n",
      "\n",
      "SPT 2s\n",
      "====================\n"
     ]
    },
    {
     "data": {
      "application/vnd.jupyter.widget-view+json": {
       "model_id": "a8a60444acc64a30be54b183ce719402",
       "version_major": 2,
       "version_minor": 0
      },
      "text/plain": [
       "fit iterations: 0it [00:00, ?it/s]"
      ]
     },
     "metadata": {},
     "output_type": "display_data"
    },
    {
     "name": "stdout",
     "output_type": "stream",
     "text": [
      "SPT-2s log(σ²) (dim 0) -5.902062232085948\n",
      "α 0.5377968400713273\n",
      "log(αΓ) -6.5682737576787\n",
      "SPT-2s α (dim 0) 0.5377968400713273\n",
      "SPT-2s log(αΓ) (dim 0) -5.875126577118754\n",
      "\n",
      "SPT\n",
      "====================\n"
     ]
    },
    {
     "data": {
      "application/vnd.jupyter.widget-view+json": {
       "model_id": "cf8021d94961486ebacc6d895cba1c60",
       "version_major": 2,
       "version_minor": 0
      },
      "text/plain": [
       "fit iterations: 0it [00:00, ?it/s]"
      ]
     },
     "metadata": {},
     "output_type": "display_data"
    },
    {
     "name": "stdout",
     "output_type": "stream",
     "text": [
      "SPT-100ms log(σ²) (dim 0) -6.682884692772803\n",
      "SPT-2s log(σ²) (dim 0) -6.815210230696745\n",
      "α 0.40065943956442196\n",
      "log(αΓ) -6.295134578986808\n",
      "SPT-100ms α (dim 0) 0.40065943956442196\n",
      "SPT-2s α (dim 0) 0.40065943956442196\n",
      "SPT-100ms log(αΓ) (dim 0) -5.601987398426862\n",
      "SPT-2s log(αΓ) (dim 0) -5.601987398426862\n",
      "\n",
      "minflux + SPT\n",
      "====================\n"
     ]
    },
    {
     "data": {
      "application/vnd.jupyter.widget-view+json": {
       "model_id": "4f0d0face3e94ba28799b49545975906",
       "version_major": 2,
       "version_minor": 0
      },
      "text/plain": [
       "fit iterations: 0it [00:00, ?it/s]"
      ]
     },
     "metadata": {},
     "output_type": "display_data"
    },
    {
     "name": "stdout",
     "output_type": "stream",
     "text": [
      "minflux log(σ²) (dim 0) -8.079896270354133\n",
      "SPT-100ms log(σ²) (dim 0) -6.857259946700292\n",
      "SPT-2s log(σ²) (dim 0) -7.422323164309047\n",
      "α 0.33787086863783067\n",
      "log(αΓ) -6.262739738805113\n",
      "minflux α (dim 0) 0.33787086863783067\n",
      "minflux log(αΓ) (dim 0) -6.262739738805113\n",
      "SPT-100ms α (dim 0) 0.33787086863783067\n",
      "SPT-2s α (dim 0) 0.33787086863783067\n",
      "SPT-100ms log(αΓ) (dim 0) -5.5695925582451675\n",
      "SPT-2s log(αΓ) (dim 0) -5.5695925582451675\n",
      "\n",
      "\n",
      "=================\n",
      "||  mESC ICRF  ||\n",
      "=================\n",
      "\n",
      "minflux\n",
      "====================\n"
     ]
    },
    {
     "data": {
      "application/vnd.jupyter.widget-view+json": {
       "model_id": "013d17fae73c4f0ebff665bbea0cf204",
       "version_major": 2,
       "version_minor": 0
      },
      "text/plain": [
       "fit iterations: 0it [00:00, ?it/s]"
      ]
     },
     "metadata": {},
     "output_type": "display_data"
    },
    {
     "name": "stdout",
     "output_type": "stream",
     "text": [
      "minflux log(σ²) (dim 0) -8.135496966210102\n",
      "α 0.27465137606369855\n",
      "log(αΓ) -6.925434592919514\n",
      "minflux α (dim 0) 0.27465137606369855\n",
      "minflux log(αΓ) (dim 0) -6.925434592919514\n",
      "\n",
      "SPT 100ms\n",
      "====================\n"
     ]
    },
    {
     "data": {
      "application/vnd.jupyter.widget-view+json": {
       "model_id": "9e67f7c57020477fb9302bd21052a34c",
       "version_major": 2,
       "version_minor": 0
      },
      "text/plain": [
       "fit iterations: 0it [00:00, ?it/s]"
      ]
     },
     "metadata": {},
     "output_type": "display_data"
    },
    {
     "name": "stdout",
     "output_type": "stream",
     "text": [
      "SPT-100ms log(σ²) (dim 0) -6.701098954382351\n",
      "α 0.3980555102020379\n",
      "log(αΓ) -6.406021405624678\n",
      "SPT-100ms α (dim 0) 0.3980555102020379\n",
      "SPT-100ms log(αΓ) (dim 0) -5.712874225064732\n",
      "\n",
      "SPT 2s\n",
      "====================\n"
     ]
    },
    {
     "data": {
      "application/vnd.jupyter.widget-view+json": {
       "model_id": "853a06d9d41348e1909172197d668931",
       "version_major": 2,
       "version_minor": 0
      },
      "text/plain": [
       "fit iterations: 0it [00:00, ?it/s]"
      ]
     },
     "metadata": {},
     "output_type": "display_data"
    },
    {
     "name": "stdout",
     "output_type": "stream",
     "text": [
      "SPT-2s log(σ²) (dim 0) -5.8722633458619296\n",
      "α 0.5624040703441333\n",
      "log(αΓ) -6.620494628208836\n",
      "SPT-2s α (dim 0) 0.5624040703441333\n",
      "SPT-2s log(αΓ) (dim 0) -5.9273474476488905\n",
      "\n",
      "SPT\n",
      "====================\n"
     ]
    },
    {
     "data": {
      "application/vnd.jupyter.widget-view+json": {
       "model_id": "c1c321dd382d4ef2a5a8613a019d7bc1",
       "version_major": 2,
       "version_minor": 0
      },
      "text/plain": [
       "fit iterations: 0it [00:00, ?it/s]"
      ]
     },
     "metadata": {},
     "output_type": "display_data"
    },
    {
     "name": "stdout",
     "output_type": "stream",
     "text": [
      "SPT-100ms log(σ²) (dim 0) -6.663071663939398\n",
      "SPT-2s log(σ²) (dim 0) -6.532471617057527\n",
      "α 0.4297869219421949\n",
      "log(αΓ) -6.374474285869804\n",
      "SPT-100ms α (dim 0) 0.4297869219421949\n",
      "SPT-2s α (dim 0) 0.4297869219421949\n",
      "SPT-100ms log(αΓ) (dim 0) -5.681327105309858\n",
      "SPT-2s log(αΓ) (dim 0) -5.681327105309858\n",
      "\n",
      "minflux + SPT\n",
      "====================\n"
     ]
    },
    {
     "data": {
      "application/vnd.jupyter.widget-view+json": {
       "model_id": "6de247a8b21f400599dbd10356803085",
       "version_major": 2,
       "version_minor": 0
      },
      "text/plain": [
       "fit iterations: 0it [00:00, ?it/s]"
      ]
     },
     "metadata": {},
     "output_type": "display_data"
    },
    {
     "name": "stdout",
     "output_type": "stream",
     "text": [
      "minflux log(σ²) (dim 0) -7.997825670216551\n",
      "SPT-100ms log(σ²) (dim 0) -6.755373110811076\n",
      "SPT-2s log(σ²) (dim 0) -6.68301948025095\n",
      "α 0.3802994957154255\n",
      "log(αΓ) -6.375910621736829\n",
      "minflux α (dim 0) 0.3802994957154255\n",
      "minflux log(αΓ) (dim 0) -6.375910621736829\n",
      "SPT-100ms α (dim 0) 0.3802994957154255\n",
      "SPT-2s α (dim 0) 0.3802994957154255\n",
      "SPT-100ms log(αΓ) (dim 0) -5.682763441176884\n",
      "SPT-2s log(αΓ) (dim 0) -5.682763441176884\n",
      "\n"
     ]
    }
   ],
   "source": [
    "fitres = {}\n",
    "for treatment in ['ctrl', 'DRB', 'TSA', 'ICRF']:\n",
    "    print()\n",
    "    print(17*'=')\n",
    "    print(f'|| {ct:>5s} {treatment:<5s} ||')\n",
    "    print(17*'=')\n",
    "    print()\n",
    "    \n",
    "    fitres[treatment] = {}\n",
    "    for name in fits[treatment]['joints']:\n",
    "        print(name)\n",
    "        print('='*20)\n",
    "\n",
    "        with nl.Parallelize():\n",
    "            fitres[treatment][name] = fits[treatment]['joints'][name].run(show_progress=True)\n",
    "\n",
    "        for key in fitres[treatment][name]['params']:\n",
    "            print(key, fitres[treatment][name]['params'][key])\n",
    "        print()"
   ]
  },
  {
   "cell_type": "code",
   "execution_count": 8,
   "id": "5daa4512",
   "metadata": {},
   "outputs": [],
   "source": [
    "nl.io.write.hdf5(fitres, f'../data/20250327_fitres_NPFit-aGparam_{ct}.h5')"
   ]
  },
  {
   "cell_type": "markdown",
   "id": "bab98dbd",
   "metadata": {},
   "source": [
    "## Profiler\n",
    "Estimate credible intervals for point estimates from profile likelihood. __Attention: computationally expensive__\n",
    "\n",
    "This can also move the point estimate, if we find better parameters while exploring"
   ]
  },
  {
   "cell_type": "code",
   "execution_count": null,
   "id": "9f94c5de",
   "metadata": {},
   "outputs": [
    {
     "name": "stdout",
     "output_type": "stream",
     "text": [
      "\n",
      "=================\n",
      "||  mESC ctrl  ||\n",
      "=================\n",
      "\n",
      "minflux\n",
      "====================\n"
     ]
    },
    {
     "data": {
      "application/vnd.jupyter.widget-view+json": {
       "model_id": "19f2904c3f664025a189ccec06b8902f",
       "version_major": 2,
       "version_minor": 0
      },
      "text/plain": [
       "profiler iterations: 0it [00:00, ?it/s]"
      ]
     },
     "metadata": {},
     "output_type": "display_data"
    },
    {
     "name": "stdout",
     "output_type": "stream",
     "text": [
      "  minflux log(σ²) (dim 0) = -8.065 [-8.077, -8.053]\n",
      "                        α =  0.324 [ 0.316,  0.331]\n",
      "                  log(αΓ) = -6.563 [-6.603, -6.522]\n",
      "\n",
      "SPT 100ms\n",
      "====================\n"
     ]
    },
    {
     "data": {
      "application/vnd.jupyter.widget-view+json": {
       "model_id": "9bb71a83e96d4cdcbf0a2c55a8d602d3",
       "version_major": 2,
       "version_minor": 0
      },
      "text/plain": [
       "profiler iterations: 0it [00:00, ?it/s]"
      ]
     },
     "metadata": {},
     "output_type": "display_data"
    },
    {
     "name": "stdout",
     "output_type": "stream",
     "text": [
      "SPT-100ms log(σ²) (dim 0) = -6.738 [-6.756, -6.721]\n",
      "                        α =  0.422 [ 0.411,  0.434]\n",
      "                  log(αΓ) = -6.277 [-6.295, -6.258]\n",
      "\n",
      "SPT 2s\n",
      "====================\n"
     ]
    },
    {
     "data": {
      "application/vnd.jupyter.widget-view+json": {
       "model_id": "25efb96b1e9948cf83be5d8f1b63b180",
       "version_major": 2,
       "version_minor": 0
      },
      "text/plain": [
       "profiler iterations: 0it [00:00, ?it/s]"
      ]
     },
     "metadata": {},
     "output_type": "display_data"
    },
    {
     "name": "stdout",
     "output_type": "stream",
     "text": [
      "   SPT-2s log(σ²) (dim 0) = -5.891 [-5.935, -5.841]\n",
      "                        α =  0.596 [ 0.579,  0.613]\n",
      "                  log(αΓ) = -6.501 [-6.532, -6.469]\n",
      "\n",
      "SPT\n",
      "====================\n"
     ]
    },
    {
     "data": {
      "application/vnd.jupyter.widget-view+json": {
       "model_id": "9af8e24e973f4f08a0cd7d20365139b0",
       "version_major": 2,
       "version_minor": 0
      },
      "text/plain": [
       "profiler iterations: 0it [00:00, ?it/s]"
      ]
     },
     "metadata": {},
     "output_type": "display_data"
    },
    {
     "name": "stdout",
     "output_type": "stream",
     "text": [
      "SPT-100ms log(σ²) (dim 0) = -6.695 [-6.706, -6.684]\n",
      "   SPT-2s log(σ²) (dim 0) = -6.708 [-6.758, -6.660]\n",
      "                        α =  0.456 [ 0.451,  0.461]\n",
      "                  log(αΓ) = -6.244 [-6.253, -6.236]\n",
      "\n",
      "minflux + SPT\n",
      "====================\n"
     ]
    },
    {
     "data": {
      "application/vnd.jupyter.widget-view+json": {
       "model_id": "76818512e17f49f49ab62dcc544f3d89",
       "version_major": 2,
       "version_minor": 0
      },
      "text/plain": [
       "profiler iterations: 0it [00:00, ?it/s]"
      ]
     },
     "metadata": {},
     "output_type": "display_data"
    },
    {
     "name": "stdout",
     "output_type": "stream",
     "text": [
      "  minflux log(σ²) (dim 0) = -7.975 [-7.982, -7.969]\n",
      "SPT-100ms log(σ²) (dim 0) = -6.841 [-6.851, -6.831]\n",
      "   SPT-2s log(σ²) (dim 0) = -7.079 [-7.147, -7.016]\n",
      "                        α =  0.390 [ 0.388,  0.392]\n",
      "                  log(αΓ) = -6.232 [-6.238, -6.226]\n",
      "\n",
      "\n",
      "=================\n",
      "||  mESC DRB   ||\n",
      "=================\n",
      "\n",
      "minflux\n",
      "====================\n"
     ]
    },
    {
     "data": {
      "application/vnd.jupyter.widget-view+json": {
       "model_id": "4d23459a2f5b48d395c48c7ba29721c2",
       "version_major": 2,
       "version_minor": 0
      },
      "text/plain": [
       "profiler iterations: 0it [00:00, ?it/s]"
      ]
     },
     "metadata": {},
     "output_type": "display_data"
    },
    {
     "name": "stdout",
     "output_type": "stream",
     "text": [
      "  minflux log(σ²) (dim 0) = -8.136 [-8.151, -8.121]\n",
      "                        α =  0.311 [ 0.304,  0.319]\n",
      "                  log(αΓ) = -6.472 [-6.515, -6.430]\n",
      "\n",
      "SPT 100ms\n",
      "====================\n"
     ]
    },
    {
     "data": {
      "application/vnd.jupyter.widget-view+json": {
       "model_id": "5cb34cbca5204b58b1c02ca184672024",
       "version_major": 2,
       "version_minor": 0
      },
      "text/plain": [
       "profiler iterations: 0it [00:00, ?it/s]"
      ]
     },
     "metadata": {},
     "output_type": "display_data"
    },
    {
     "name": "stdout",
     "output_type": "stream",
     "text": [
      "SPT-100ms log(σ²) (dim 0) = -6.683 [-6.701, -6.665]\n",
      "                        α =  0.403 [ 0.392,  0.414]\n",
      "                  log(αΓ) = -6.135 [-6.153, -6.117]\n",
      "\n",
      "SPT 2s\n",
      "====================\n"
     ]
    },
    {
     "data": {
      "application/vnd.jupyter.widget-view+json": {
       "model_id": "5db3c11df58c433daa9f4933588606f6",
       "version_major": 2,
       "version_minor": 0
      },
      "text/plain": [
       "profiler iterations: 0it [00:00, ?it/s]"
      ]
     },
     "metadata": {},
     "output_type": "display_data"
    },
    {
     "name": "stdout",
     "output_type": "stream",
     "text": [
      "SPT-100ms log(σ²) (dim 0) = -6.688 [-6.700, -6.676]\n",
      "   SPT-2s log(σ²) (dim 0) = -7.029 [-7.102, -6.962]\n",
      "                        α =  0.385 [ 0.380,  0.389]\n",
      "                  log(αΓ) = -6.186 [-6.194, -6.179]\n",
      "\n",
      "minflux + SPT\n",
      "====================\n"
     ]
    },
    {
     "data": {
      "application/vnd.jupyter.widget-view+json": {
       "model_id": "0be1b3273f47465695e29d9ccc3fd45f",
       "version_major": 2,
       "version_minor": 0
      },
      "text/plain": [
       "profiler iterations: 0it [00:00, ?it/s]"
      ]
     },
     "metadata": {},
     "output_type": "display_data"
    }
   ],
   "source": [
    "fitres = nl.io.load.hdf5(f'../data/20250327_fitres_NPFit-aGparam_{ct}.h5')\n",
    "mci = {}\n",
    "for treatment in ['ctrl', 'DRB', 'TSA', 'ICRF']:\n",
    "    print()\n",
    "    print(17*'=')\n",
    "    print(f'|| {ct:>5s} {treatment:<5s} ||')\n",
    "    print(17*'=')\n",
    "    print()\n",
    "    \n",
    "    mci[treatment] = {}\n",
    "    for name in fits[treatment]['joints']:\n",
    "        print(name)\n",
    "        print('='*20)\n",
    "        \n",
    "        profiler = bayesmsd.Profiler(fits[treatment]['joints'][name], max_restarts=50)\n",
    "        profiler.point_estimate = fitres[treatment][name]\n",
    "\n",
    "        with nl.Parallelize():\n",
    "            mci[treatment][name] = profiler.find_MCI(show_progress=True)\n",
    "\n",
    "        for key in mci[treatment][name]:\n",
    "            m, (cil, cih) = mci[treatment][name][key]\n",
    "            print(f\"{key:>25s} = {m:>6.3f} [{cil:>6.3f}, {cih:>6.3f}]\")\n",
    "        print()"
   ]
  },
  {
   "cell_type": "code",
   "execution_count": null,
   "id": "f4938771",
   "metadata": {},
   "outputs": [],
   "source": [
    "nl.io.write.hdf5(mci, f'../data/20250327_mci_NPFit-aGparam_{ct}.h5')"
   ]
  },
  {
   "cell_type": "code",
   "execution_count": null,
   "id": "01f3cb83",
   "metadata": {},
   "outputs": [],
   "source": []
  },
  {
   "cell_type": "code",
   "execution_count": null,
   "id": "1c9229ce",
   "metadata": {},
   "outputs": [],
   "source": []
  },
  {
   "cell_type": "code",
   "execution_count": null,
   "id": "ffb6c4ea",
   "metadata": {},
   "outputs": [],
   "source": []
  },
  {
   "cell_type": "code",
   "execution_count": null,
   "id": "9feffc3d",
   "metadata": {},
   "outputs": [],
   "source": []
  },
  {
   "cell_type": "code",
   "execution_count": null,
   "id": "e5ff2248",
   "metadata": {},
   "outputs": [],
   "source": []
  },
  {
   "cell_type": "code",
   "execution_count": null,
   "id": "930707ea",
   "metadata": {},
   "outputs": [],
   "source": []
  },
  {
   "cell_type": "code",
   "execution_count": null,
   "id": "cd2025b9",
   "metadata": {},
   "outputs": [],
   "source": []
  },
  {
   "cell_type": "code",
   "execution_count": null,
   "id": "5f674e0f",
   "metadata": {},
   "outputs": [],
   "source": []
  },
  {
   "cell_type": "code",
   "execution_count": null,
   "id": "d70b16f4",
   "metadata": {},
   "outputs": [],
   "source": []
  },
  {
   "cell_type": "code",
   "execution_count": null,
   "id": "5afa3df7",
   "metadata": {},
   "outputs": [],
   "source": []
  },
  {
   "cell_type": "code",
   "execution_count": null,
   "id": "eb0da561",
   "metadata": {},
   "outputs": [],
   "source": []
  },
  {
   "cell_type": "code",
   "execution_count": null,
   "id": "30c60357",
   "metadata": {},
   "outputs": [],
   "source": []
  },
  {
   "cell_type": "code",
   "execution_count": null,
   "id": "f95d94d9",
   "metadata": {},
   "outputs": [],
   "source": []
  },
  {
   "cell_type": "code",
   "execution_count": null,
   "id": "8ae34757",
   "metadata": {},
   "outputs": [],
   "source": []
  },
  {
   "cell_type": "code",
   "execution_count": null,
   "id": "68e62433",
   "metadata": {},
   "outputs": [],
   "source": []
  },
  {
   "cell_type": "code",
   "execution_count": null,
   "id": "58dca76d",
   "metadata": {},
   "outputs": [],
   "source": []
  },
  {
   "cell_type": "code",
   "execution_count": null,
   "id": "002ed37c",
   "metadata": {},
   "outputs": [],
   "source": []
  },
  {
   "cell_type": "code",
   "execution_count": null,
   "id": "cca89b68",
   "metadata": {},
   "outputs": [],
   "source": []
  },
  {
   "cell_type": "code",
   "execution_count": null,
   "id": "fdeaf3ae",
   "metadata": {},
   "outputs": [],
   "source": []
  },
  {
   "cell_type": "code",
   "execution_count": null,
   "id": "666f556e",
   "metadata": {},
   "outputs": [],
   "source": []
  },
  {
   "cell_type": "code",
   "execution_count": null,
   "id": "92c1ad3b",
   "metadata": {},
   "outputs": [],
   "source": []
  },
  {
   "cell_type": "code",
   "execution_count": null,
   "id": "56a172e9",
   "metadata": {},
   "outputs": [],
   "source": []
  },
  {
   "cell_type": "code",
   "execution_count": null,
   "id": "ae56b79b",
   "metadata": {},
   "outputs": [],
   "source": []
  },
  {
   "cell_type": "code",
   "execution_count": null,
   "id": "d0ef1136",
   "metadata": {},
   "outputs": [],
   "source": []
  },
  {
   "cell_type": "code",
   "execution_count": null,
   "id": "212d9170-53c8-494b-b2bf-f6d984dc84d9",
   "metadata": {},
   "outputs": [],
   "source": []
  }
 ],
 "metadata": {
  "kernelspec": {
   "display_name": "Python 3 (ipykernel)",
   "language": "python",
   "name": "python3"
  },
  "language_info": {
   "codemirror_mode": {
    "name": "ipython",
    "version": 3
   },
   "file_extension": ".py",
   "mimetype": "text/x-python",
   "name": "python",
   "nbconvert_exporter": "python",
   "pygments_lexer": "ipython3",
   "version": "3.9.9"
  }
 },
 "nbformat": 4,
 "nbformat_minor": 5
}
