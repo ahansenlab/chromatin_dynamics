{
 "cells": [
  {
   "cell_type": "code",
   "execution_count": 1,
   "id": "61262111",
   "metadata": {},
   "outputs": [],
   "source": [
    "import os\n",
    "os.environ['OMP_NUM_THREADS'] = '1'\n",
    "\n",
    "import time\n",
    "from multiprocessing import Pool\n",
    "from tqdm.auto import tqdm\n",
    "import re\n",
    "from copy import deepcopy\n",
    "\n",
    "import numpy as np\n",
    "from scipy import integrate\n",
    "from matplotlib import pyplot as plt\n",
    "\n",
    "import noctiluca as nl\n",
    "import bayesmsd"
   ]
  },
  {
   "cell_type": "code",
   "execution_count": 2,
   "id": "41d09c6d",
   "metadata": {},
   "outputs": [],
   "source": [
    "filename = '../data/20250304_Hansenlab_chromatin_dynamics_all-data.h5'\n",
    "data       = nl.io.load.hdf5(filename)['data']"
   ]
  },
  {
   "cell_type": "code",
   "execution_count": 3,
   "id": "5866528c",
   "metadata": {},
   "outputs": [],
   "source": [
    "data.makeSelection('minflux')\n",
    "data_minflux_save = data.copySelection()"
   ]
  },
  {
   "cell_type": "code",
   "execution_count": 4,
   "id": "ddf1b85e",
   "metadata": {},
   "outputs": [],
   "source": [
    "# To restore\n",
    "data.makeSelection('minflux')\n",
    "data.deleteSelection()\n",
    "data_minflux_save.makeSelection()\n",
    "data |= data_minflux_save"
   ]
  },
  {
   "cell_type": "code",
   "execution_count": 5,
   "id": "69cbf592",
   "metadata": {},
   "outputs": [],
   "source": [
    "n_subsample = 4\n",
    "def subsample(traj):\n",
    "    out = nl.Trajectory(traj[::n_subsample])\n",
    "    out.meta['Δt'] = n_subsample*traj.meta['Δt']\n",
    "    return out"
   ]
  },
  {
   "cell_type": "code",
   "execution_count": 6,
   "id": "984e632f",
   "metadata": {},
   "outputs": [],
   "source": [
    "data.makeSelection('minflux')\n",
    "data.apply(subsample, inplace=True)"
   ]
  },
  {
   "cell_type": "markdown",
   "id": "8dac2a44",
   "metadata": {},
   "source": [
    "# Fits"
   ]
  },
  {
   "cell_type": "code",
   "execution_count": 7,
   "id": "6afab8a7",
   "metadata": {},
   "outputs": [],
   "source": [
    "def chop(traj, dt=None, L=200, Fmin=2):\n",
    "    if dt is None:\n",
    "        dt = traj.meta['Δt']\n",
    "    \n",
    "    def chop_traj(traj, dt=dt):\n",
    "        if 'Δt' in traj.meta:\n",
    "            dt = traj.meta['Δt']\n",
    "            \n",
    "        chops = []\n",
    "        i0 = 0\n",
    "        while i0 < len(traj):\n",
    "            i1 = i0+L\n",
    "            chop = traj.data[:, i0:min(i1, len(traj)), :]\n",
    "            try:\n",
    "                t_start = np.nonzero(~np.any(np.isnan(chop), axis=(0, 2)))[0][0]\n",
    "            except IndexError: # no valid entries in this chop\n",
    "                new_traj = nl.Trajectory(chop[:, [0]])\n",
    "            else:\n",
    "                new_traj = nl.Trajectory(chop[:, t_start:])\n",
    "                \n",
    "            new_traj.meta['Δt'] = dt\n",
    "            chops.append(new_traj)\n",
    "\n",
    "            i0 = i1\n",
    "            \n",
    "        return chops\n",
    "    \n",
    "    chops = chop_traj(traj)\n",
    "    out = nl.TaggedSet(chops, hasTags=False)\n",
    "    while len(chops) > 1:\n",
    "        cg_traj = nl.Trajectory(np.stack([traj.data[:, 0] for traj in chops], axis=1))\n",
    "        cg_traj.meta['Δt'] = L*chops[0].meta['Δt']\n",
    "        chops = chop_traj(cg_traj)\n",
    "        for traj in chops:\n",
    "            out.add(traj)\n",
    "    \n",
    "    # Clean out useless trajectories\n",
    "    out.makeSelection(lambda traj, _: traj.F < Fmin)\n",
    "    out.deleteSelection()\n",
    "    return out"
   ]
  },
  {
   "cell_type": "code",
   "execution_count": 8,
   "id": "3937db00",
   "metadata": {},
   "outputs": [
    {
     "data": {
      "application/vnd.jupyter.widget-view+json": {
       "model_id": "97ad9b99b74c43b8b20f0796513ad245",
       "version_major": 2,
       "version_minor": 0
      },
      "text/plain": [
       "0it [00:00, ?it/s]"
      ]
     },
     "metadata": {},
     "output_type": "display_data"
    },
    {
     "data": {
      "application/vnd.jupyter.widget-view+json": {
       "model_id": "92cf40fb41cd400390a68a2a14d4c4ee",
       "version_major": 2,
       "version_minor": 0
      },
      "text/plain": [
       "  0%|          | 0/7352 [00:00<?, ?it/s]"
      ]
     },
     "metadata": {},
     "output_type": "display_data"
    },
    {
     "data": {
      "application/vnd.jupyter.widget-view+json": {
       "model_id": "8d2d9b781bd0465c9431b28ca389ee32",
       "version_major": 2,
       "version_minor": 0
      },
      "text/plain": [
       "  0%|          | 0/6199 [00:00<?, ?it/s]"
      ]
     },
     "metadata": {},
     "output_type": "display_data"
    },
    {
     "data": {
      "application/vnd.jupyter.widget-view+json": {
       "model_id": "70e5627948a8429290104182bf32c751",
       "version_major": 2,
       "version_minor": 0
      },
      "text/plain": [
       "  0%|          | 0/7096 [00:00<?, ?it/s]"
      ]
     },
     "metadata": {},
     "output_type": "display_data"
    },
    {
     "data": {
      "application/vnd.jupyter.widget-view+json": {
       "model_id": "8df776c5bc56448bb72f59963ea55e8a",
       "version_major": 2,
       "version_minor": 0
      },
      "text/plain": [
       "  0%|          | 0/6534 [00:00<?, ?it/s]"
      ]
     },
     "metadata": {},
     "output_type": "display_data"
    }
   ],
   "source": [
    "ct = 'U2OS'\n",
    "bar = tqdm()\n",
    "\n",
    "fits = {}\n",
    "for treatment in ['ctrl', 'DRB', 'TSA', 'ICRF']:\n",
    "\n",
    "    cond = ', '.join(['H2B', ct, treatment])\n",
    "    fits[treatment] = {\n",
    "        'single' : {},\n",
    "        'joints' : {},\n",
    "    }\n",
    "\n",
    "    # Minflux\n",
    "    data.makeSelection(['minflux', cond], logic=all)\n",
    "    dt = data[0].meta['Δt']\n",
    "\n",
    "    fitdata = nl.TaggedSet()\n",
    "    for traj in data:\n",
    "        fitdata |= chop(traj.rescale(1e6, keepmeta=['Δt']))\n",
    "\n",
    "    with nl.Parallelize():\n",
    "        _ = nl.analysis.MSD(fitdata, chunksize=10, show_progress=True)\n",
    "\n",
    "    fit = bayesmsd.lib.NPFit(fitdata, motion_blur_f=dt/n_subsample, parametrization='(log(αΓ), α)')\n",
    "    fit.parameters['log(σ²) (dim 1)'].fix_to = 'log(σ²) (dim 0)'\n",
    "    fit.likelihood_chunksize = 200\n",
    "\n",
    "    fits[treatment]['single'][f'minflux'] = fit\n",
    "\n",
    "    bar.update()\n",
    "\n",
    "    # Conventional\n",
    "    for dt_tag in ['100ms', '2s']:\n",
    "        data.makeSelection(['SPT', dt_tag, cond], logic=all)\n",
    "        dt = data[0].meta['Δt']\n",
    "        tau_e = 0.08671 # same exposure for both conditions\n",
    "\n",
    "        fitdata = data.apply(lambda traj : traj.relative(keepmeta=['MSD', 'Δt']), inplace=False)\n",
    "\n",
    "        fit = bayesmsd.lib.NPFit(fitdata, motion_blur_f=tau_e, parametrization='(log(αΓ), α)')\n",
    "        fit.parameters['log(σ²) (dim 1)'].fix_to = 'log(σ²) (dim 0)'\n",
    "        fit.likelihood_chunksize = 100\n",
    "\n",
    "        fits[treatment]['single'][f'SPT-{dt_tag}'] = fit\n",
    "\n",
    "        bar.update()\n",
    "\n",
    "    # Assemble list of fit(group)s to run\n",
    "    groups = {\n",
    "        'minflux'       : ['minflux'],\n",
    "        'SPT 100ms'     : ['SPT-100ms'],\n",
    "        'SPT 2s'        : ['SPT-2s'],\n",
    "        'SPT'           : ['SPT-100ms', 'SPT-2s'],\n",
    "        'minflux + SPT' : ['minflux', 'SPT-100ms', 'SPT-2s'],\n",
    "    }\n",
    "\n",
    "    for groupname in groups:\n",
    "        fits_dict = fits[treatment]['single']\n",
    "\n",
    "        fit = bayesmsd.FitGroup({name : fits_dict[name] for name in groups[groupname]})\n",
    "        fit.parameters['α']       = deepcopy(fits_dict['minflux'].parameters[      'α (dim 0)'])\n",
    "        fit.parameters['log(αΓ)'] = deepcopy(fits_dict['minflux'].parameters['log(αΓ) (dim 0)'])\n",
    "\n",
    "        # hacky...\n",
    "        def patch_initial_params(self=fit):\n",
    "            params = type(self).initial_params(self)\n",
    "            a    = [val for key, val in params.items() if      'α' in key][0]\n",
    "            logG = [val for key, val in params.items() if 'log(αΓ)' in key][0]\n",
    "            params['α'] = a\n",
    "            params['log(αΓ)'] = logG\n",
    "            return params\n",
    "        fit.initial_params = patch_initial_params\n",
    "\n",
    "        for fitname in fit.fits_dict:\n",
    "            fit.parameters[fitname+f' α (dim 0)'].fix_to = 'α'\n",
    "            if fitname == 'minflux':\n",
    "                fit.parameters[fitname+f' log(αΓ) (dim 0)'].fix_to = 'log(αΓ)'\n",
    "            else: # not minflux, so correct for 2-loc\n",
    "                def twoGref(params): return params['log(αΓ)']+np.log(2)\n",
    "                fit.parameters[fitname+f' log(αΓ) (dim 0)'].fix_to = twoGref\n",
    "\n",
    "        fits[treatment]['joints'][groupname] = fit\n",
    "\n",
    "        bar.update()\n",
    "\n",
    "bar.close()"
   ]
  },
  {
   "cell_type": "code",
   "execution_count": 9,
   "id": "3ba04e23",
   "metadata": {},
   "outputs": [
    {
     "name": "stdout",
     "output_type": "stream",
     "text": [
      "\n",
      "=================\n",
      "||  U2OS ctrl  ||\n",
      "=================\n",
      "\n",
      "minflux\n",
      "====================\n"
     ]
    },
    {
     "data": {
      "application/vnd.jupyter.widget-view+json": {
       "model_id": "388c384dabf64fae91e3953ed3f27281",
       "version_major": 2,
       "version_minor": 0
      },
      "text/plain": [
       "fit iterations: 0it [00:00, ?it/s]"
      ]
     },
     "metadata": {},
     "output_type": "display_data"
    },
    {
     "name": "stdout",
     "output_type": "stream",
     "text": [
      "minflux log(σ²) (dim 0) -8.568080618413742\n",
      "α 0.3290621973683439\n",
      "log(αΓ) -5.6140300321076015\n",
      "minflux α (dim 0) 0.3290621973683439\n",
      "minflux log(αΓ) (dim 0) -5.6140300321076015\n",
      "\n",
      "SPT 100ms\n",
      "====================\n"
     ]
    },
    {
     "data": {
      "application/vnd.jupyter.widget-view+json": {
       "model_id": "94cf05c0d8a74ae4b49ee518f99314ef",
       "version_major": 2,
       "version_minor": 0
      },
      "text/plain": [
       "fit iterations: 0it [00:00, ?it/s]"
      ]
     },
     "metadata": {},
     "output_type": "display_data"
    },
    {
     "name": "stdout",
     "output_type": "stream",
     "text": [
      "SPT-100ms log(σ²) (dim 0) -7.419809886386737\n",
      "α 0.35189445537692055\n",
      "log(αΓ) -5.7440698017163445\n",
      "SPT-100ms α (dim 0) 0.35189445537692055\n",
      "SPT-100ms log(αΓ) (dim 0) -5.050922621156399\n",
      "\n",
      "SPT 2s\n",
      "====================\n"
     ]
    },
    {
     "data": {
      "application/vnd.jupyter.widget-view+json": {
       "model_id": "5730cfa16ace4a85bb66c40eb21a132a",
       "version_major": 2,
       "version_minor": 0
      },
      "text/plain": [
       "fit iterations: 0it [00:00, ?it/s]"
      ]
     },
     "metadata": {},
     "output_type": "display_data"
    },
    {
     "name": "stdout",
     "output_type": "stream",
     "text": [
      "SPT-2s log(σ²) (dim 0) -6.580923283903928\n",
      "α 0.33457564292556724\n",
      "log(αΓ) -5.943490576080706\n",
      "SPT-2s α (dim 0) 0.33457564292556724\n",
      "SPT-2s log(αΓ) (dim 0) -5.250343395520761\n",
      "\n",
      "SPT\n",
      "====================\n"
     ]
    },
    {
     "data": {
      "application/vnd.jupyter.widget-view+json": {
       "model_id": "45c9cc026ee74738afcb06a39f3ad31f",
       "version_major": 2,
       "version_minor": 0
      },
      "text/plain": [
       "fit iterations: 0it [00:00, ?it/s]"
      ]
     },
     "metadata": {},
     "output_type": "display_data"
    },
    {
     "name": "stdout",
     "output_type": "stream",
     "text": [
      "SPT-100ms log(σ²) (dim 0) -7.631419355609327\n",
      "SPT-2s log(σ²) (dim 0) -8.406247819684586\n",
      "α 0.29823379300245006\n",
      "log(αΓ) -5.84288753018707\n",
      "SPT-100ms α (dim 0) 0.29823379300245006\n",
      "SPT-2s α (dim 0) 0.29823379300245006\n",
      "SPT-100ms log(αΓ) (dim 0) -5.149740349627125\n",
      "SPT-2s log(αΓ) (dim 0) -5.149740349627125\n",
      "\n",
      "minflux + SPT\n",
      "====================\n"
     ]
    },
    {
     "data": {
      "application/vnd.jupyter.widget-view+json": {
       "model_id": "7519da53201f4c2ca15f2dbcf4bb9d35",
       "version_major": 2,
       "version_minor": 0
      },
      "text/plain": [
       "fit iterations: 0it [00:00, ?it/s]"
      ]
     },
     "metadata": {},
     "output_type": "display_data"
    },
    {
     "name": "stdout",
     "output_type": "stream",
     "text": [
      "minflux log(σ²) (dim 0) -8.731302120803768\n",
      "SPT-100ms log(σ²) (dim 0) -7.740276128371782\n",
      "SPT-2s log(σ²) (dim 0) -12.946667856344217\n",
      "α 0.2939633728941035\n",
      "log(αΓ) -5.822654687382995\n",
      "minflux α (dim 0) 0.2939633728941035\n",
      "minflux log(αΓ) (dim 0) -5.822654687382995\n",
      "SPT-100ms α (dim 0) 0.2939633728941035\n",
      "SPT-2s α (dim 0) 0.2939633728941035\n",
      "SPT-100ms log(αΓ) (dim 0) -5.12950750682305\n",
      "SPT-2s log(αΓ) (dim 0) -5.12950750682305\n",
      "\n",
      "\n",
      "=================\n",
      "||  U2OS DRB   ||\n",
      "=================\n",
      "\n",
      "minflux\n",
      "====================\n"
     ]
    },
    {
     "data": {
      "application/vnd.jupyter.widget-view+json": {
       "model_id": "fa2daae382aa4220b0cea5120d21dfd9",
       "version_major": 2,
       "version_minor": 0
      },
      "text/plain": [
       "fit iterations: 0it [00:00, ?it/s]"
      ]
     },
     "metadata": {},
     "output_type": "display_data"
    },
    {
     "name": "stdout",
     "output_type": "stream",
     "text": [
      "minflux log(σ²) (dim 0) -8.6304840804662\n",
      "α 0.35185703844024085\n",
      "log(αΓ) -5.353760882859745\n",
      "minflux α (dim 0) 0.35185703844024085\n",
      "minflux log(αΓ) (dim 0) -5.353760882859745\n",
      "\n",
      "SPT 100ms\n",
      "====================\n"
     ]
    },
    {
     "data": {
      "application/vnd.jupyter.widget-view+json": {
       "model_id": "995be765ea554a2ab6ef6dafb545b285",
       "version_major": 2,
       "version_minor": 0
      },
      "text/plain": [
       "fit iterations: 0it [00:00, ?it/s]"
      ]
     },
     "metadata": {},
     "output_type": "display_data"
    },
    {
     "name": "stdout",
     "output_type": "stream",
     "text": [
      "SPT-100ms log(σ²) (dim 0) -7.495122298255143\n",
      "α 0.3151283341027713\n",
      "log(αΓ) -5.490651399101109\n",
      "SPT-100ms α (dim 0) 0.3151283341027713\n",
      "SPT-100ms log(αΓ) (dim 0) -4.797504218541164\n",
      "\n",
      "SPT 2s\n",
      "====================\n"
     ]
    },
    {
     "data": {
      "application/vnd.jupyter.widget-view+json": {
       "model_id": "4b11f3afcf5646c598b12d197f1aace6",
       "version_major": 2,
       "version_minor": 0
      },
      "text/plain": [
       "fit iterations: 0it [00:00, ?it/s]"
      ]
     },
     "metadata": {},
     "output_type": "display_data"
    },
    {
     "name": "stdout",
     "output_type": "stream",
     "text": [
      "SPT-2s log(σ²) (dim 0) -6.137293453897925\n",
      "α 0.3431881848348738\n",
      "log(αΓ) -5.828673378017315\n",
      "SPT-2s α (dim 0) 0.3431881848348738\n",
      "SPT-2s log(αΓ) (dim 0) -5.13552619745737\n",
      "\n",
      "SPT\n",
      "====================\n"
     ]
    },
    {
     "data": {
      "application/vnd.jupyter.widget-view+json": {
       "model_id": "39153b4215504426bafc57a979fdc1a4",
       "version_major": 2,
       "version_minor": 0
      },
      "text/plain": [
       "fit iterations: 0it [00:00, ?it/s]"
      ]
     },
     "metadata": {},
     "output_type": "display_data"
    },
    {
     "name": "stdout",
     "output_type": "stream",
     "text": [
      "SPT-100ms log(σ²) (dim 0) -7.638439689414303\n",
      "SPT-2s log(σ²) (dim 0) -19.23026113045964\n",
      "α 0.25744192082615935\n",
      "log(αΓ) -5.649720156458092\n",
      "SPT-100ms α (dim 0) 0.25744192082615935\n",
      "SPT-2s α (dim 0) 0.25744192082615935\n",
      "SPT-100ms log(αΓ) (dim 0) -4.956572975898147\n",
      "SPT-2s log(αΓ) (dim 0) -4.956572975898147\n",
      "\n",
      "minflux + SPT\n",
      "====================\n"
     ]
    },
    {
     "data": {
      "application/vnd.jupyter.widget-view+json": {
       "model_id": "30d88109c007425198b3effe5e17843f",
       "version_major": 2,
       "version_minor": 0
      },
      "text/plain": [
       "fit iterations: 0it [00:00, ?it/s]"
      ]
     },
     "metadata": {},
     "output_type": "display_data"
    },
    {
     "name": "stdout",
     "output_type": "stream",
     "text": [
      "minflux log(σ²) (dim 0) -8.882697308445117\n",
      "SPT-100ms log(σ²) (dim 0) -7.2382632094399995\n",
      "SPT-2s log(σ²) (dim 0) -18.313674196931604\n",
      "α 0.30979368692239373\n",
      "log(αΓ) -5.595878647648554\n",
      "minflux α (dim 0) 0.30979368692239373\n",
      "minflux log(αΓ) (dim 0) -5.595878647648554\n",
      "SPT-100ms α (dim 0) 0.30979368692239373\n",
      "SPT-2s α (dim 0) 0.30979368692239373\n",
      "SPT-100ms log(αΓ) (dim 0) -4.902731467088609\n",
      "SPT-2s log(αΓ) (dim 0) -4.902731467088609\n",
      "\n",
      "\n",
      "=================\n",
      "||  U2OS TSA   ||\n",
      "=================\n",
      "\n",
      "minflux\n",
      "====================\n"
     ]
    },
    {
     "data": {
      "application/vnd.jupyter.widget-view+json": {
       "model_id": "0e69378bca134030b72dc8b4056c701b",
       "version_major": 2,
       "version_minor": 0
      },
      "text/plain": [
       "fit iterations: 0it [00:00, ?it/s]"
      ]
     },
     "metadata": {},
     "output_type": "display_data"
    },
    {
     "name": "stdout",
     "output_type": "stream",
     "text": [
      "minflux log(σ²) (dim 0) -8.633831539474476\n",
      "α 0.3160850856984596\n",
      "log(αΓ) -5.678456700389107\n",
      "minflux α (dim 0) 0.3160850856984596\n",
      "minflux log(αΓ) (dim 0) -5.678456700389107\n",
      "\n",
      "SPT 100ms\n",
      "====================\n"
     ]
    },
    {
     "data": {
      "application/vnd.jupyter.widget-view+json": {
       "model_id": "c02de5c0e9cc44abbd9ba33a6b85f1d0",
       "version_major": 2,
       "version_minor": 0
      },
      "text/plain": [
       "fit iterations: 0it [00:00, ?it/s]"
      ]
     },
     "metadata": {},
     "output_type": "display_data"
    },
    {
     "name": "stdout",
     "output_type": "stream",
     "text": [
      "SPT-100ms log(σ²) (dim 0) -7.4652625292309835\n",
      "α 0.31715434806107784\n",
      "log(αΓ) -5.758675899757447\n",
      "SPT-100ms α (dim 0) 0.31715434806107784\n",
      "SPT-100ms log(αΓ) (dim 0) -5.065528719197502\n",
      "\n",
      "SPT 2s\n",
      "====================\n"
     ]
    },
    {
     "data": {
      "application/vnd.jupyter.widget-view+json": {
       "model_id": "b2d8a3e0040f4f618a41496ad62a6d80",
       "version_major": 2,
       "version_minor": 0
      },
      "text/plain": [
       "fit iterations: 0it [00:00, ?it/s]"
      ]
     },
     "metadata": {},
     "output_type": "display_data"
    },
    {
     "name": "stdout",
     "output_type": "stream",
     "text": [
      "SPT-2s log(σ²) (dim 0) -5.9463720030538365\n",
      "α 0.40554444783250665\n",
      "log(αΓ) -5.983107338105641\n",
      "SPT-2s α (dim 0) 0.40554444783250665\n",
      "SPT-2s log(αΓ) (dim 0) -5.289960157545695\n",
      "\n",
      "SPT\n",
      "====================\n"
     ]
    },
    {
     "data": {
      "application/vnd.jupyter.widget-view+json": {
       "model_id": "1cc1b378d03e4549b7eb989ef17ed031",
       "version_major": 2,
       "version_minor": 0
      },
      "text/plain": [
       "fit iterations: 0it [00:00, ?it/s]"
      ]
     },
     "metadata": {},
     "output_type": "display_data"
    },
    {
     "name": "stdout",
     "output_type": "stream",
     "text": [
      "SPT-100ms log(σ²) (dim 0) -7.485594096228442\n",
      "SPT-2s log(σ²) (dim 0) -8.308355325803014\n",
      "α 0.3057138017654273\n",
      "log(αΓ) -5.78938867439177\n",
      "SPT-100ms α (dim 0) 0.3057138017654273\n",
      "SPT-2s α (dim 0) 0.3057138017654273\n",
      "SPT-100ms log(αΓ) (dim 0) -5.096241493831824\n",
      "SPT-2s log(αΓ) (dim 0) -5.096241493831824\n",
      "\n",
      "minflux + SPT\n",
      "====================\n"
     ]
    },
    {
     "data": {
      "application/vnd.jupyter.widget-view+json": {
       "model_id": "3f70d6052bf147b5b3880374609837d0",
       "version_major": 2,
       "version_minor": 0
      },
      "text/plain": [
       "fit iterations: 0it [00:00, ?it/s]"
      ]
     },
     "metadata": {},
     "output_type": "display_data"
    },
    {
     "name": "stdout",
     "output_type": "stream",
     "text": [
      "minflux log(σ²) (dim 0) -8.712317682660343\n",
      "SPT-100ms log(σ²) (dim 0) -7.578844757459832\n",
      "SPT-2s log(σ²) (dim 0) -9.591049222307001\n",
      "α 0.2996147015445656\n",
      "log(αΓ) -5.7771214418805705\n",
      "minflux α (dim 0) 0.2996147015445656\n",
      "minflux log(αΓ) (dim 0) -5.7771214418805705\n",
      "SPT-100ms α (dim 0) 0.2996147015445656\n",
      "SPT-2s α (dim 0) 0.2996147015445656\n",
      "SPT-100ms log(αΓ) (dim 0) -5.083974261320625\n",
      "SPT-2s log(αΓ) (dim 0) -5.083974261320625\n",
      "\n",
      "\n",
      "=================\n",
      "||  U2OS ICRF  ||\n",
      "=================\n",
      "\n",
      "minflux\n",
      "====================\n"
     ]
    },
    {
     "data": {
      "application/vnd.jupyter.widget-view+json": {
       "model_id": "b1c4da320c4048c4b735473171f0a9b0",
       "version_major": 2,
       "version_minor": 0
      },
      "text/plain": [
       "fit iterations: 0it [00:00, ?it/s]"
      ]
     },
     "metadata": {},
     "output_type": "display_data"
    },
    {
     "name": "stdout",
     "output_type": "stream",
     "text": [
      "minflux log(σ²) (dim 0) -8.608466122005193\n",
      "α 0.31025174706847924\n",
      "log(αΓ) -5.7794295890575995\n",
      "minflux α (dim 0) 0.31025174706847924\n",
      "minflux log(αΓ) (dim 0) -5.7794295890575995\n",
      "\n",
      "SPT 100ms\n",
      "====================\n"
     ]
    },
    {
     "data": {
      "application/vnd.jupyter.widget-view+json": {
       "model_id": "b76a88f31fdb47918119bb25acd40021",
       "version_major": 2,
       "version_minor": 0
      },
      "text/plain": [
       "fit iterations: 0it [00:00, ?it/s]"
      ]
     },
     "metadata": {},
     "output_type": "display_data"
    },
    {
     "name": "stdout",
     "output_type": "stream",
     "text": [
      "SPT-100ms log(σ²) (dim 0) -7.423759462961598\n",
      "α 0.32864902354200753\n",
      "log(αΓ) -6.044421011538409\n",
      "SPT-100ms α (dim 0) 0.32864902354200753\n",
      "SPT-100ms log(αΓ) (dim 0) -5.351273830978464\n",
      "\n",
      "SPT 2s\n",
      "====================\n"
     ]
    },
    {
     "data": {
      "application/vnd.jupyter.widget-view+json": {
       "model_id": "88f47629da8f401888775fd0c3bfd70d",
       "version_major": 2,
       "version_minor": 0
      },
      "text/plain": [
       "fit iterations: 0it [00:00, ?it/s]"
      ]
     },
     "metadata": {},
     "output_type": "display_data"
    },
    {
     "name": "stdout",
     "output_type": "stream",
     "text": [
      "SPT-2s log(σ²) (dim 0) -6.799328583888659\n",
      "α 0.32190774970591574\n",
      "log(αΓ) -6.219392555155256\n",
      "SPT-2s α (dim 0) 0.32190774970591574\n",
      "SPT-2s log(αΓ) (dim 0) -5.526245374595311\n",
      "\n",
      "SPT\n",
      "====================\n"
     ]
    },
    {
     "data": {
      "application/vnd.jupyter.widget-view+json": {
       "model_id": "3dbfbad6f41348cfbc44ea2ff409f8b2",
       "version_major": 2,
       "version_minor": 0
      },
      "text/plain": [
       "fit iterations: 0it [00:00, ?it/s]"
      ]
     },
     "metadata": {},
     "output_type": "display_data"
    },
    {
     "name": "stdout",
     "output_type": "stream",
     "text": [
      "SPT-100ms log(σ²) (dim 0) -7.556135134243421\n",
      "SPT-2s log(σ²) (dim 0) -8.346976067072045\n",
      "α 0.2862262373153821\n",
      "log(αΓ) -6.121496914703187\n",
      "SPT-100ms α (dim 0) 0.2862262373153821\n",
      "SPT-2s α (dim 0) 0.2862262373153821\n",
      "SPT-100ms log(αΓ) (dim 0) -5.428349734143241\n",
      "SPT-2s log(αΓ) (dim 0) -5.428349734143241\n",
      "\n",
      "minflux + SPT\n",
      "====================\n"
     ]
    },
    {
     "data": {
      "application/vnd.jupyter.widget-view+json": {
       "model_id": "3196292073ed4d789e5a49a9cd0e8fd3",
       "version_major": 2,
       "version_minor": 0
      },
      "text/plain": [
       "fit iterations: 0it [00:00, ?it/s]"
      ]
     },
     "metadata": {},
     "output_type": "display_data"
    },
    {
     "name": "stdout",
     "output_type": "stream",
     "text": [
      "minflux log(σ²) (dim 0) -8.87807574687922\n",
      "SPT-100ms log(σ²) (dim 0) -7.856396950533037\n",
      "SPT-2s log(σ²) (dim 0) -17.493412855447602\n",
      "α 0.25513873828257716\n",
      "log(αΓ) -6.114631891813091\n",
      "minflux α (dim 0) 0.25513873828257716\n",
      "minflux log(αΓ) (dim 0) -6.114631891813091\n",
      "SPT-100ms α (dim 0) 0.25513873828257716\n",
      "SPT-2s α (dim 0) 0.25513873828257716\n",
      "SPT-100ms log(αΓ) (dim 0) -5.421484711253146\n",
      "SPT-2s log(αΓ) (dim 0) -5.421484711253146\n",
      "\n"
     ]
    }
   ],
   "source": [
    "fitres = {}\n",
    "for treatment in ['ctrl', 'DRB', 'TSA', 'ICRF']:\n",
    "    print()\n",
    "    print(17*'=')\n",
    "    print(f'|| {ct:>5s} {treatment:<5s} ||')\n",
    "    print(17*'=')\n",
    "    print()\n",
    "    \n",
    "    fitres[treatment] = {}\n",
    "    for name in fits[treatment]['joints']:\n",
    "        print(name)\n",
    "        print('='*20)\n",
    "\n",
    "        with nl.Parallelize():\n",
    "            fitres[treatment][name] = fits[treatment]['joints'][name].run(show_progress=True)\n",
    "\n",
    "        for key in fitres[treatment][name]['params']:\n",
    "            print(key, fitres[treatment][name]['params'][key])\n",
    "        print()"
   ]
  },
  {
   "cell_type": "code",
   "execution_count": 10,
   "id": "5daa4512",
   "metadata": {},
   "outputs": [],
   "source": [
    "nl.io.write.hdf5(fitres, f'20250327_no-kink_fitres_NPFit-aGparam_{ct}.h5')"
   ]
  },
  {
   "cell_type": "markdown",
   "id": "889e287e",
   "metadata": {},
   "source": [
    "## Profiler"
   ]
  },
  {
   "cell_type": "code",
   "execution_count": null,
   "id": "02867791",
   "metadata": {
    "scrolled": false
   },
   "outputs": [
    {
     "name": "stdout",
     "output_type": "stream",
     "text": [
      "\n",
      "=================\n",
      "||  U2OS ctrl  ||\n",
      "=================\n",
      "\n",
      "minflux\n",
      "====================\n"
     ]
    },
    {
     "data": {
      "application/vnd.jupyter.widget-view+json": {
       "model_id": "ba12a237f07e4b949e49fd50d3f26180",
       "version_major": 2,
       "version_minor": 0
      },
      "text/plain": [
       "profiler iterations: 0it [00:00, ?it/s]"
      ]
     },
     "metadata": {},
     "output_type": "display_data"
    },
    {
     "name": "stdout",
     "output_type": "stream",
     "text": [
      "  minflux log(σ²) (dim 0) = -8.568 [-8.594, -8.542]\n",
      "                        α =  0.329 [ 0.324,  0.334]\n",
      "                  log(αΓ) = -5.614 [-5.643, -5.585]\n",
      "\n",
      "SPT 100ms\n",
      "====================\n"
     ]
    },
    {
     "data": {
      "application/vnd.jupyter.widget-view+json": {
       "model_id": "f6934596f17d400089d33ede0993bdc7",
       "version_major": 2,
       "version_minor": 0
      },
      "text/plain": [
       "profiler iterations: 0it [00:00, ?it/s]"
      ]
     },
     "metadata": {},
     "output_type": "display_data"
    },
    {
     "name": "stdout",
     "output_type": "stream",
     "text": [
      "SPT-100ms log(σ²) (dim 0) = -7.420 [-7.479, -7.365]\n",
      "                        α =  0.352 [ 0.340,  0.364]\n",
      "                  log(αΓ) = -5.744 [-5.766, -5.722]\n",
      "\n",
      "SPT 2s\n",
      "====================\n"
     ]
    },
    {
     "data": {
      "application/vnd.jupyter.widget-view+json": {
       "model_id": "11d17134b01a495a9753f9ad533f2eca",
       "version_major": 2,
       "version_minor": 0
      },
      "text/plain": [
       "profiler iterations: 0it [00:00, ?it/s]"
      ]
     },
     "metadata": {},
     "output_type": "display_data"
    },
    {
     "name": "stdout",
     "output_type": "stream",
     "text": [
      "   SPT-2s log(σ²) (dim 0) = -6.581 [-7.033, -6.293]\n",
      "                        α =  0.335 [ 0.313,  0.356]\n",
      "                  log(αΓ) = -5.943 [-5.984, -5.903]\n",
      "\n",
      "SPT\n",
      "====================\n"
     ]
    },
    {
     "data": {
      "application/vnd.jupyter.widget-view+json": {
       "model_id": "b15fa2362b354c1f823d997b4509430d",
       "version_major": 2,
       "version_minor": 0
      },
      "text/plain": [
       "profiler iterations: 0it [00:00, ?it/s]"
      ]
     },
     "metadata": {},
     "output_type": "display_data"
    },
    {
     "name": "stdout",
     "output_type": "stream",
     "text": [
      "SPT-100ms log(σ²) (dim 0) = -7.631 [-7.680, -7.585]\n",
      "   SPT-2s log(σ²) (dim 0) = -8.406 [-8.948, -8.052]\n",
      "                        α =  0.298 [ 0.293,  0.304]\n",
      "                  log(αΓ) = -5.843 [-5.850, -5.835]\n",
      "\n",
      "minflux + SPT\n",
      "====================\n"
     ]
    },
    {
     "data": {
      "application/vnd.jupyter.widget-view+json": {
       "model_id": "d5053b1d9b97446c9e57cc4fcdb5e75f",
       "version_major": 2,
       "version_minor": 0
      },
      "text/plain": [
       "profiler iterations: 0it [00:00, ?it/s]"
      ]
     },
     "metadata": {},
     "output_type": "display_data"
    },
    {
     "name": "stdout",
     "output_type": "stream",
     "text": [
      "[bayesmsd.Profiler @ 1]  Warning: Found a better point estimate (3508443.9000617154 > 3508443.8987627607)\n",
      "[bayesmsd.Profiler @ 1]  Will restart from there (50 remaining)\n"
     ]
    },
    {
     "data": {
      "application/vnd.jupyter.widget-view+json": {
       "model_id": "0561a6f3bcac4686b79acf2198f80a2c",
       "version_major": 2,
       "version_minor": 0
      },
      "text/plain": [
       "fit iterations: 0it [00:00, ?it/s]"
      ]
     },
     "metadata": {},
     "output_type": "display_data"
    },
    {
     "name": "stdout",
     "output_type": "stream",
     "text": [
      "  minflux log(σ²) (dim 0) = -8.731 [-8.752, -8.711]\n",
      "SPT-100ms log(σ²) (dim 0) = -7.740 [-7.770, -7.711]\n",
      "   SPT-2s log(σ²) (dim 0) = -13.947 [  -inf, -9.328]\n",
      "                        α =  0.294 [ 0.293,  0.295]\n",
      "                  log(αΓ) = -5.823 [-5.829, -5.816]\n",
      "\n",
      "\n",
      "=================\n",
      "||  U2OS DRB   ||\n",
      "=================\n",
      "\n",
      "minflux\n",
      "====================\n"
     ]
    },
    {
     "data": {
      "application/vnd.jupyter.widget-view+json": {
       "model_id": "95f56843ac614a339729d974f33e8c91",
       "version_major": 2,
       "version_minor": 0
      },
      "text/plain": [
       "profiler iterations: 0it [00:00, ?it/s]"
      ]
     },
     "metadata": {},
     "output_type": "display_data"
    },
    {
     "name": "stdout",
     "output_type": "stream",
     "text": [
      "  minflux log(σ²) (dim 0) = -8.630 [-8.662, -8.601]\n",
      "                        α =  0.352 [ 0.347,  0.357]\n",
      "                  log(αΓ) = -5.354 [-5.385, -5.322]\n",
      "\n",
      "SPT 100ms\n",
      "====================\n"
     ]
    },
    {
     "data": {
      "application/vnd.jupyter.widget-view+json": {
       "model_id": "2039eefbec984742aa4e474411a0256b",
       "version_major": 2,
       "version_minor": 0
      },
      "text/plain": [
       "profiler iterations: 0it [00:00, ?it/s]"
      ]
     },
     "metadata": {},
     "output_type": "display_data"
    },
    {
     "name": "stdout",
     "output_type": "stream",
     "text": [
      "SPT-100ms log(σ²) (dim 0) = -7.495 [-7.588, -7.411]\n",
      "                        α =  0.315 [ 0.303,  0.327]\n",
      "                  log(αΓ) = -5.491 [-5.513, -5.468]\n",
      "\n",
      "SPT 2s\n",
      "====================\n"
     ]
    },
    {
     "data": {
      "application/vnd.jupyter.widget-view+json": {
       "model_id": "becc335e17d14de39aafb9e37b3755ad",
       "version_major": 2,
       "version_minor": 0
      },
      "text/plain": [
       "profiler iterations: 0it [00:00, ?it/s]"
      ]
     },
     "metadata": {},
     "output_type": "display_data"
    },
    {
     "name": "stdout",
     "output_type": "stream",
     "text": [
      "   SPT-2s log(σ²) (dim 0) = -6.137 [-6.543, -5.872]\n",
      "                        α =  0.343 [ 0.315,  0.371]\n",
      "                  log(αΓ) = -5.829 [-5.880, -5.777]\n",
      "\n",
      "SPT\n",
      "====================\n"
     ]
    },
    {
     "data": {
      "application/vnd.jupyter.widget-view+json": {
       "model_id": "4ef6ddc5221d4cc8b0817f46985c8a62",
       "version_major": 2,
       "version_minor": 0
      },
      "text/plain": [
       "profiler iterations: 0it [00:00, ?it/s]"
      ]
     },
     "metadata": {},
     "output_type": "display_data"
    },
    {
     "name": "stdout",
     "output_type": "stream",
     "text": [
      "SPT-100ms log(σ²) (dim 0) = -7.638 [-7.713, -7.569]\n",
      "   SPT-2s log(σ²) (dim 0) = -19.230 [  -inf, -11.527]\n",
      "                        α =  0.257 [ 0.252,  0.263]\n",
      "                  log(αΓ) = -5.650 [-5.659, -5.641]\n",
      "\n",
      "minflux + SPT\n",
      "====================\n"
     ]
    },
    {
     "data": {
      "application/vnd.jupyter.widget-view+json": {
       "model_id": "30ba0114be764849983e6e93090125e7",
       "version_major": 2,
       "version_minor": 0
      },
      "text/plain": [
       "profiler iterations: 0it [00:00, ?it/s]"
      ]
     },
     "metadata": {},
     "output_type": "display_data"
    },
    {
     "name": "stdout",
     "output_type": "stream",
     "text": [
      "[bayesmsd.Profiler @ 1]  Warning: Found a better point estimate (2961726.6248087487 > 2961726.6230789674)\n",
      "[bayesmsd.Profiler @ 1]  Will restart from there (50 remaining)\n"
     ]
    },
    {
     "data": {
      "application/vnd.jupyter.widget-view+json": {
       "model_id": "c8a6afd2ed984488ba3301bac307abbf",
       "version_major": 2,
       "version_minor": 0
      },
      "text/plain": [
       "fit iterations: 0it [00:00, ?it/s]"
      ]
     },
     "metadata": {},
     "output_type": "display_data"
    },
    {
     "name": "stdout",
     "output_type": "stream",
     "text": [
      "[bayesmsd.Profiler @ 4]  Warning: Found a better point estimate (2961726.626056942 > 2961726.6248108735)\n",
      "[bayesmsd.Profiler @ 4]  Will restart from there (49 remaining)\n"
     ]
    },
    {
     "data": {
      "application/vnd.jupyter.widget-view+json": {
       "model_id": "5680e77957eb4e71a62067dd06e3ed61",
       "version_major": 2,
       "version_minor": 0
      },
      "text/plain": [
       "fit iterations: 0it [00:00, ?it/s]"
      ]
     },
     "metadata": {},
     "output_type": "display_data"
    },
    {
     "name": "stdout",
     "output_type": "stream",
     "text": [
      "  minflux log(σ²) (dim 0) = -8.883 [-8.910, -8.856]\n",
      "SPT-100ms log(σ²) (dim 0) = -7.238 [-7.262, -7.215]\n",
      "   SPT-2s log(σ²) (dim 0) = -26.314 [  -inf, -11.435]\n",
      "                        α =  0.310 [ 0.308,  0.311]\n",
      "                  log(αΓ) = -5.596 [-5.603, -5.588]\n",
      "\n",
      "\n",
      "=================\n",
      "||  U2OS TSA   ||\n",
      "=================\n",
      "\n",
      "minflux\n",
      "====================\n"
     ]
    },
    {
     "data": {
      "application/vnd.jupyter.widget-view+json": {
       "model_id": "0ce682deeaeb457aa4649aa37e6fdd55",
       "version_major": 2,
       "version_minor": 0
      },
      "text/plain": [
       "profiler iterations: 0it [00:00, ?it/s]"
      ]
     },
     "metadata": {},
     "output_type": "display_data"
    },
    {
     "name": "stdout",
     "output_type": "stream",
     "text": [
      "  minflux log(σ²) (dim 0) = -8.634 [-8.662, -8.605]\n",
      "                        α =  0.316 [ 0.311,  0.321]\n",
      "                  log(αΓ) = -5.678 [-5.708, -5.649]\n",
      "\n",
      "SPT 100ms\n",
      "====================\n"
     ]
    },
    {
     "data": {
      "application/vnd.jupyter.widget-view+json": {
       "model_id": "75f6ebc350a0457aad9609c3505265a8",
       "version_major": 2,
       "version_minor": 0
      },
      "text/plain": [
       "profiler iterations: 0it [00:00, ?it/s]"
      ]
     },
     "metadata": {},
     "output_type": "display_data"
    },
    {
     "name": "stdout",
     "output_type": "stream",
     "text": [
      "SPT-100ms log(σ²) (dim 0) = -7.465 [-7.546, -7.391]\n",
      "                        α =  0.317 [ 0.303,  0.331]\n",
      "                  log(αΓ) = -5.759 [-5.784, -5.733]\n",
      "\n",
      "SPT 2s\n",
      "====================\n"
     ]
    },
    {
     "data": {
      "application/vnd.jupyter.widget-view+json": {
       "model_id": "c678e86730194f7d821a9011b982c6bf",
       "version_major": 2,
       "version_minor": 0
      },
      "text/plain": [
       "profiler iterations: 0it [00:00, ?it/s]"
      ]
     },
     "metadata": {},
     "output_type": "display_data"
    },
    {
     "name": "stdout",
     "output_type": "stream",
     "text": [
      "   SPT-2s log(σ²) (dim 0) = -5.946 [-6.085, -5.830]\n",
      "                        α =  0.406 [ 0.384,  0.426]\n",
      "                  log(αΓ) = -5.983 [-6.016, -5.947]\n",
      "\n",
      "SPT\n",
      "====================\n"
     ]
    },
    {
     "data": {
      "application/vnd.jupyter.widget-view+json": {
       "model_id": "f612f555a081401abdd4557a83214bfa",
       "version_major": 2,
       "version_minor": 0
      },
      "text/plain": [
       "profiler iterations: 0it [00:00, ?it/s]"
      ]
     },
     "metadata": {},
     "output_type": "display_data"
    }
   ],
   "source": [
    "fitres = nl.io.load.hdf5(f'20250327_no-kink_fitres_NPFit-aGparam_{ct}.h5')\n",
    "mci = {}\n",
    "for treatment in ['ctrl', 'DRB', 'TSA', 'ICRF']:\n",
    "    print()\n",
    "    print(17*'=')\n",
    "    print(f'|| {ct:>5s} {treatment:<5s} ||')\n",
    "    print(17*'=')\n",
    "    print()\n",
    "    \n",
    "    mci[treatment] = {}\n",
    "    for name in fits[treatment]['joints']:\n",
    "        print(name)\n",
    "        print('='*20)\n",
    "        \n",
    "        profiler = bayesmsd.Profiler(fits[treatment]['joints'][name], max_restarts=50)\n",
    "        profiler.point_estimate = fitres[treatment][name]\n",
    "\n",
    "        with nl.Parallelize():\n",
    "            mci[treatment][name] = profiler.find_MCI(show_progress=True)\n",
    "\n",
    "        for key in mci[treatment][name]:\n",
    "            m, (cil, cih) = mci[treatment][name][key]\n",
    "            print(f\"{key:>25s} = {m:>6.3f} [{cil:>6.3f}, {cih:>6.3f}]\")\n",
    "        print()"
   ]
  },
  {
   "cell_type": "code",
   "execution_count": null,
   "id": "8d1852c6",
   "metadata": {},
   "outputs": [],
   "source": [
    "nl.io.write.hdf5(mci, f'20250327_no-kink_mci_NPFit-aGparam_{ct}.h5')"
   ]
  },
  {
   "cell_type": "markdown",
   "id": "607f346e",
   "metadata": {},
   "source": [
    "## Archive: re-running individual fits"
   ]
  },
  {
   "cell_type": "code",
   "execution_count": 64,
   "id": "923375cc",
   "metadata": {},
   "outputs": [
    {
     "name": "stderr",
     "output_type": "stream",
     "text": [
      "/home/sgh/.local/lib/python3.9/site-packages/scipy/optimize/_minpack_py.py:1010: OptimizeWarning: Covariance of the parameters could not be estimated\n",
      "  warnings.warn('Covariance of the parameters could not be estimated',\n",
      "/home/sgh/.local/lib/python3.9/site-packages/scipy/optimize/_minpack_py.py:1010: OptimizeWarning: Covariance of the parameters could not be estimated\n",
      "  warnings.warn('Covariance of the parameters could not be estimated',\n",
      "/home/sgh/.local/lib/python3.9/site-packages/scipy/optimize/_minpack_py.py:1010: OptimizeWarning: Covariance of the parameters could not be estimated\n",
      "  warnings.warn('Covariance of the parameters could not be estimated',\n"
     ]
    },
    {
     "data": {
      "application/vnd.jupyter.widget-view+json": {
       "model_id": "71ac2562878e4a1680152bcea257729e",
       "version_major": 2,
       "version_minor": 0
      },
      "text/plain": [
       "fit iterations: 0it [00:00, ?it/s]"
      ]
     },
     "metadata": {},
     "output_type": "display_data"
    },
    {
     "data": {
      "application/vnd.jupyter.widget-view+json": {
       "model_id": "f69595867df9424da611025fc7e96508",
       "version_major": 2,
       "version_minor": 0
      },
      "text/plain": [
       "fit iterations: 0it [00:00, ?it/s]"
      ]
     },
     "metadata": {},
     "output_type": "display_data"
    },
    {
     "data": {
      "text/plain": [
       "{'params': {'minflux_cgdt0 log(σ²) (dim 0)': -8.869284267941664,\n",
       "  'conventional_100ms log(σ²) (dim 0)': -7.136720536120231,\n",
       "  'conventional_2s log(σ²) (dim 0)': -17.006986347197845,\n",
       "  'α': 0.26142995639362443,\n",
       "  'log(Γ)': -4.919833444790012,\n",
       "  'minflux_cgdt0 log(Γ) (dim 0)': -4.919833444790012,\n",
       "  'minflux_cgdt0 α (dim 0)': 0.26142995639362443,\n",
       "  'minflux_cgdt1 log(σ²) (dim 0)': -8.869284267941664,\n",
       "  'minflux_cgdt1 log(Γ) (dim 0)': -4.919833444790012,\n",
       "  'minflux_cgdt1 α (dim 0)': 0.26142995639362443,\n",
       "  'minflux_cgdt2 log(σ²) (dim 0)': -8.869284267941664,\n",
       "  'minflux_cgdt2 log(Γ) (dim 0)': -4.919833444790012,\n",
       "  'minflux_cgdt2 α (dim 0)': 0.26142995639362443,\n",
       "  'conventional_100ms α (dim 0)': 0.26142995639362443,\n",
       "  'conventional_2s α (dim 0)': 0.26142995639362443,\n",
       "  'conventional_100ms log(Γ) (dim 0)': -4.226686264230066,\n",
       "  'conventional_2s log(Γ) (dim 0)': -4.226686264230066},\n",
       " 'marginalized': {},\n",
       " 'logL': 17401201.89600301}"
      ]
     },
     "execution_count": 64,
     "metadata": {},
     "output_type": "execute_result"
    }
   ],
   "source": [
    "# Check SPT 2s: can we bound localization error?\n",
    "fit = fits[ct]['joints']['minflux + SPT']\n",
    "\n",
    "with nl.Parallelize():\n",
    "    fit.parameters['conventional_100ms log(σ²) (dim 0)'].fix_to = -10\n",
    "    fit.parameters['conventional_2s log(σ²) (dim 0)'].fix_to = -10\n",
    "    res = fit.run(show_progress=True)\n",
    "    fit.parameters['conventional_100ms log(σ²) (dim 0)'].fix_to = None\n",
    "    fit.parameters['conventional_2s log(σ²) (dim 0)'].fix_to = None\n",
    "    res = fit.run(show_progress=True, init_from=res)\n",
    "res"
   ]
  },
  {
   "cell_type": "code",
   "execution_count": 65,
   "id": "45ae87e3",
   "metadata": {},
   "outputs": [],
   "source": [
    "fitres['minflux + SPT (vanilla)'] = fitres['minflux + SPT']\n",
    "fitres['minflux + SPT'] = res"
   ]
  },
  {
   "cell_type": "markdown",
   "id": "64ce4836",
   "metadata": {},
   "source": [
    "# Plotting"
   ]
  },
  {
   "cell_type": "code",
   "execution_count": 47,
   "id": "397f3a99",
   "metadata": {
    "scrolled": false
   },
   "outputs": [
    {
     "data": {
      "image/png": "[encoded data removed]",
      "text/plain": [
       "<Figure size 432x288 with 1 Axes>"
      ]
     },
     "metadata": {
      "needs_background": "light"
     },
     "output_type": "display_data"
    },
    {
     "data": {
      "image/png": "[encoded data removed]",
      "text/plain": [
       "<Figure size 432x288 with 1 Axes>"
      ]
     },
     "metadata": {
      "needs_background": "light"
     },
     "output_type": "display_data"
    },
    {
     "data": {
      "image/png": "[encoded data removed]",
      "text/plain": [
       "<Figure size 432x288 with 1 Axes>"
      ]
     },
     "metadata": {
      "needs_background": "light"
     },
     "output_type": "display_data"
    },
    {
     "data": {
      "image/png": "[encoded data removed]",
      "text/plain": [
       "<Figure size 432x288 with 1 Axes>"
      ]
     },
     "metadata": {
      "needs_background": "light"
     },
     "output_type": "display_data"
    },
    {
     "data": {
      "image/png": "[encoded data removed]",
      "text/plain": [
       "<Figure size 432x288 with 1 Axes>"
      ]
     },
     "metadata": {
      "needs_background": "light"
     },
     "output_type": "display_data"
    }
   ],
   "source": [
    "treatment = 'ICRF'\n",
    "\n",
    "tmax = {\n",
    "    'minflux'   : 5001,\n",
    "    'SPT 100ms' : 101,\n",
    "    'SPT 2s'    : 101,\n",
    "    'Fbn2'      : 101,\n",
    "}\n",
    "\n",
    "data.makeSelection('minflux')\n",
    "dts = {\n",
    "    'minflux'   : data[0].meta['Δt'],\n",
    "    'SPT 100ms' : 0.1,\n",
    "    'SPT 2s'    : 2,\n",
    "}\n",
    "\n",
    "highlight_color = 'tab:green'\n",
    "cond = ', '.join(['H2B', ct, treatment])\n",
    "\n",
    "for resname in fitres[treatment]:\n",
    "    fitnames = [name\n",
    "                for name in fits[treatment]['single']\n",
    "                if any([key.startswith(name) for key in fitres[treatment][resname]['params']])\n",
    "               ]\n",
    "    \n",
    "    # minflux\n",
    "    color = highlight_color if any(['minflux' in name for name in fitnames]) else 'gray'\n",
    "    data.makeSelection(['minflux', cond], logic=all)\n",
    "    dt = data[0].meta['Δt']\n",
    "\n",
    "    msd = nl.analysis.MSD(data)\n",
    "    msd *= 1e18 # nm²\n",
    "    plt.plot(dt*np.arange(1, tmax['minflux']), msd[1:tmax['minflux']],\n",
    "             color=color, linewidth=2,\n",
    "            )\n",
    "\n",
    "    # SPT\n",
    "    for dt_tag in ['100ms', '2s']:\n",
    "        color = highlight_color if 'SPT-'+dt_tag in fitnames else 'gray'\n",
    "        \n",
    "        data.makeSelection(['SPT', dt_tag, cond], logic=all)\n",
    "        dt = data[0].meta['Δt']\n",
    "\n",
    "        msd = nl.analysis.MSD(data)\n",
    "        msd /= 2   # 2-loc\n",
    "        msd *= 1e6 # nm²\n",
    "        plt.plot(dt*np.arange(1, tmax['SPT '+dt_tag]), msd[1:tmax['SPT '+dt_tag]],\n",
    "                 color=color, linewidth=2,\n",
    "                )\n",
    "\n",
    "    # fitres singles\n",
    "    for fitname in fitnames:\n",
    "        fit = fits[treatment]['single'][fitname]\n",
    "        params = {key[(len(fitname)+1):] : val\n",
    "                  for key, val in fitres[treatment][resname]['params'].items()\n",
    "                  if key.startswith(fitname)\n",
    "                 }\n",
    "        params = fit.fill_dependent_params(params)\n",
    "        \n",
    "        key = 'minflux'\n",
    "        if fitname.startswith('SPT'):\n",
    "            dt_tag = fitname[len('SPT-'):]\n",
    "            key = 'SPT '+dt_tag\n",
    "        \n",
    "        xplot = dts[key] * np.logspace(0, np.log10(tmax[key]), 100)\n",
    "        msd = fit.MSD(params, dt=xplot)\n",
    "        msd *= 1e6     # nm²\n",
    "        if key != 'minflux':\n",
    "            msd /= 2   # 2-loc\n",
    "        \n",
    "        plt.plot(xplot, msd,\n",
    "                 color='r',\n",
    "                )\n",
    "    \n",
    "    # fitres law\n",
    "    a    = np.array([fitres[treatment][resname]['params'][f'α_{i}'] for i in range(n_powerlaws)])\n",
    "    logG = np.array([fitres[treatment][resname]['params'][f'log(Γ_{i})'] for i in range(n_powerlaws)])\n",
    "\n",
    "    G_1D = np.exp(logG)\n",
    "    G_1D *= 1e6 # nm²\n",
    "\n",
    "    xplot = np.logspace(-3.8, 3.3, 100)\n",
    "    for i in range(n_powerlaws):\n",
    "        plt.plot(xplot, 2*G_1D[i]*xplot**a[i], color='tab:purple')\n",
    "    xplot = xplot[:, None] # ensure correct broadcasting with G, a\n",
    "    plt.plot(xplot, np.sum(2*G_1D*xplot**a, axis=-1))\n",
    "\n",
    "    # Plotting stuff\n",
    "    plt.title(resname)\n",
    "    plt.xscale('log')\n",
    "    plt.yscale('log')\n",
    "    plt.xlabel('lag time [sec]')\n",
    "    plt.ylabel('MSD [nm²]')\n",
    "    plt.ylim([7e2, 1e5])\n",
    "\n",
    "    plt.show()"
   ]
  },
  {
   "cell_type": "code",
   "execution_count": null,
   "id": "8083b563",
   "metadata": {},
   "outputs": [],
   "source": []
  },
  {
   "cell_type": "code",
   "execution_count": null,
   "id": "01f3cb83",
   "metadata": {},
   "outputs": [],
   "source": []
  },
  {
   "cell_type": "code",
   "execution_count": null,
   "id": "1c9229ce",
   "metadata": {},
   "outputs": [],
   "source": []
  },
  {
   "cell_type": "code",
   "execution_count": null,
   "id": "ffb6c4ea",
   "metadata": {},
   "outputs": [],
   "source": []
  },
  {
   "cell_type": "code",
   "execution_count": null,
   "id": "9feffc3d",
   "metadata": {},
   "outputs": [],
   "source": []
  },
  {
   "cell_type": "code",
   "execution_count": null,
   "id": "e5ff2248",
   "metadata": {},
   "outputs": [],
   "source": []
  },
  {
   "cell_type": "code",
   "execution_count": null,
   "id": "930707ea",
   "metadata": {},
   "outputs": [],
   "source": []
  },
  {
   "cell_type": "code",
   "execution_count": null,
   "id": "cd2025b9",
   "metadata": {},
   "outputs": [],
   "source": []
  },
  {
   "cell_type": "code",
   "execution_count": null,
   "id": "5f674e0f",
   "metadata": {},
   "outputs": [],
   "source": []
  },
  {
   "cell_type": "code",
   "execution_count": null,
   "id": "d70b16f4",
   "metadata": {},
   "outputs": [],
   "source": []
  },
  {
   "cell_type": "code",
   "execution_count": null,
   "id": "5afa3df7",
   "metadata": {},
   "outputs": [],
   "source": []
  },
  {
   "cell_type": "code",
   "execution_count": null,
   "id": "eb0da561",
   "metadata": {},
   "outputs": [],
   "source": []
  },
  {
   "cell_type": "code",
   "execution_count": null,
   "id": "30c60357",
   "metadata": {},
   "outputs": [],
   "source": []
  },
  {
   "cell_type": "code",
   "execution_count": null,
   "id": "f95d94d9",
   "metadata": {},
   "outputs": [],
   "source": []
  },
  {
   "cell_type": "code",
   "execution_count": null,
   "id": "8ae34757",
   "metadata": {},
   "outputs": [],
   "source": []
  },
  {
   "cell_type": "code",
   "execution_count": null,
   "id": "68e62433",
   "metadata": {},
   "outputs": [],
   "source": []
  },
  {
   "cell_type": "code",
   "execution_count": null,
   "id": "58dca76d",
   "metadata": {},
   "outputs": [],
   "source": []
  },
  {
   "cell_type": "code",
   "execution_count": null,
   "id": "002ed37c",
   "metadata": {},
   "outputs": [],
   "source": []
  },
  {
   "cell_type": "code",
   "execution_count": null,
   "id": "cca89b68",
   "metadata": {},
   "outputs": [],
   "source": []
  },
  {
   "cell_type": "code",
   "execution_count": null,
   "id": "fdeaf3ae",
   "metadata": {},
   "outputs": [],
   "source": []
  },
  {
   "cell_type": "code",
   "execution_count": null,
   "id": "666f556e",
   "metadata": {},
   "outputs": [],
   "source": []
  },
  {
   "cell_type": "code",
   "execution_count": null,
   "id": "92c1ad3b",
   "metadata": {},
   "outputs": [],
   "source": []
  },
  {
   "cell_type": "code",
   "execution_count": null,
   "id": "56a172e9",
   "metadata": {},
   "outputs": [],
   "source": []
  },
  {
   "cell_type": "code",
   "execution_count": null,
   "id": "ae56b79b",
   "metadata": {},
   "outputs": [],
   "source": []
  },
  {
   "cell_type": "code",
   "execution_count": null,
   "id": "d0ef1136",
   "metadata": {},
   "outputs": [],
   "source": []
  }
 ],
 "metadata": {
  "kernelspec": {
   "display_name": "Python 3 (ipykernel)",
   "language": "python",
   "name": "python3"
  },
  "language_info": {
   "codemirror_mode": {
    "name": "ipython",
    "version": 3
   },
   "file_extension": ".py",
   "mimetype": "text/x-python",
   "name": "python",
   "nbconvert_exporter": "python",
   "pygments_lexer": "ipython3",
   "version": "3.9.9"
  }
 },
 "nbformat": 4,
 "nbformat_minor": 5
}
