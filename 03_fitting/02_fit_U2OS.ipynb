{
 "cells": [
  {
   "cell_type": "code",
   "execution_count": 1,
   "id": "61262111",
   "metadata": {},
   "outputs": [],
   "source": [
    "import os\n",
    "os.environ['OMP_NUM_THREADS'] = '1'\n",
    "\n",
    "import time\n",
    "from multiprocessing import Pool\n",
    "from tqdm.auto import tqdm\n",
    "import re\n",
    "from copy import deepcopy\n",
    "\n",
    "import numpy as np\n",
    "from scipy import integrate\n",
    "from matplotlib import pyplot as plt\n",
    "\n",
    "import noctiluca as nl\n",
    "import bayesmsd"
   ]
  },
  {
   "cell_type": "code",
   "execution_count": 2,
   "id": "41d09c6d",
   "metadata": {},
   "outputs": [],
   "source": [
    "filename = '../data/20250411_chromatin_dynamics_all_data.h5'\n",
    "data       = nl.io.load.hdf5(filename)['data']"
   ]
  },
  {
   "cell_type": "code",
   "execution_count": 3,
   "id": "69cbf592",
   "metadata": {},
   "outputs": [],
   "source": [
    "n_subsample = 4 # cut off the \"kink\" at the beginning of MINFLUX data\n",
    "def subsample(traj):\n",
    "    out = nl.Trajectory(traj[::n_subsample])\n",
    "    out.meta['Δt'] = n_subsample*traj.meta['Δt']\n",
    "    return out"
   ]
  },
  {
   "cell_type": "code",
   "execution_count": 4,
   "id": "984e632f",
   "metadata": {},
   "outputs": [],
   "source": [
    "data.makeSelection('minflux')\n",
    "data.apply(subsample, inplace=True)"
   ]
  },
  {
   "cell_type": "markdown",
   "id": "8dac2a44",
   "metadata": {},
   "source": [
    "# Fits"
   ]
  },
  {
   "cell_type": "code",
   "execution_count": 5,
   "id": "6afab8a7",
   "metadata": {},
   "outputs": [],
   "source": [
    "def chop(traj, dt=None, L=200, Fmin=2):\n",
    "    if dt is None:\n",
    "        dt = traj.meta['Δt']\n",
    "    \n",
    "    def chop_traj(traj, dt=dt):\n",
    "        if 'Δt' in traj.meta:\n",
    "            dt = traj.meta['Δt']\n",
    "            \n",
    "        chops = []\n",
    "        i0 = 0\n",
    "        while i0 < len(traj):\n",
    "            i1 = i0+L\n",
    "            chop = traj.data[:, i0:min(i1, len(traj)), :]\n",
    "            try:\n",
    "                t_start = np.nonzero(~np.any(np.isnan(chop), axis=(0, 2)))[0][0]\n",
    "            except IndexError: # no valid entries in this chop\n",
    "                new_traj = nl.Trajectory(chop[:, [0]])\n",
    "            else:\n",
    "                new_traj = nl.Trajectory(chop[:, t_start:])\n",
    "                \n",
    "            new_traj.meta['Δt'] = dt\n",
    "            chops.append(new_traj)\n",
    "\n",
    "            i0 = i1\n",
    "            \n",
    "        return chops\n",
    "    \n",
    "    chops = chop_traj(traj)\n",
    "    out = nl.TaggedSet(chops, hasTags=False)\n",
    "    while len(chops) > 1:\n",
    "        cg_traj = nl.Trajectory(np.stack([traj.data[:, 0] for traj in chops], axis=1))\n",
    "        cg_traj.meta['Δt'] = L*chops[0].meta['Δt']\n",
    "        chops = chop_traj(cg_traj)\n",
    "        for traj in chops:\n",
    "            out.add(traj)\n",
    "    \n",
    "    # Clean out useless trajectories\n",
    "    out.makeSelection(lambda traj, _: traj.F < Fmin)\n",
    "    out.deleteSelection()\n",
    "    return out"
   ]
  },
  {
   "cell_type": "code",
   "execution_count": 6,
   "id": "3937db00",
   "metadata": {},
   "outputs": [
    {
     "data": {
      "application/vnd.jupyter.widget-view+json": {
       "model_id": "7580c5d2f0314541b06861a54f94dbac",
       "version_major": 2,
       "version_minor": 0
      },
      "text/plain": [
       "0it [00:00, ?it/s]"
      ]
     },
     "metadata": {},
     "output_type": "display_data"
    },
    {
     "data": {
      "application/vnd.jupyter.widget-view+json": {
       "model_id": "2e89f735d83c452faba56a63a28fee57",
       "version_major": 2,
       "version_minor": 0
      },
      "text/plain": [
       "  0%|          | 0/7352 [00:00<?, ?it/s]"
      ]
     },
     "metadata": {},
     "output_type": "display_data"
    },
    {
     "data": {
      "application/vnd.jupyter.widget-view+json": {
       "model_id": "04d09ebc5aed4eb59bc4e597b0689079",
       "version_major": 2,
       "version_minor": 0
      },
      "text/plain": [
       "  0%|          | 0/6199 [00:00<?, ?it/s]"
      ]
     },
     "metadata": {},
     "output_type": "display_data"
    },
    {
     "data": {
      "application/vnd.jupyter.widget-view+json": {
       "model_id": "cd3111a54442422ba0ce308b01f93675",
       "version_major": 2,
       "version_minor": 0
      },
      "text/plain": [
       "  0%|          | 0/7096 [00:00<?, ?it/s]"
      ]
     },
     "metadata": {},
     "output_type": "display_data"
    },
    {
     "data": {
      "application/vnd.jupyter.widget-view+json": {
       "model_id": "e126ba57c0e346ed98cee8aa17811d9a",
       "version_major": 2,
       "version_minor": 0
      },
      "text/plain": [
       "  0%|          | 0/6534 [00:00<?, ?it/s]"
      ]
     },
     "metadata": {},
     "output_type": "display_data"
    }
   ],
   "source": [
    "ct = 'U2OS'\n",
    "bar = tqdm()\n",
    "\n",
    "fits = {}\n",
    "for treatment in ['ctrl', 'DRB', 'TSA', 'ICRF']:\n",
    "\n",
    "    cond = ', '.join(['H2B', ct, treatment])\n",
    "    fits[treatment] = {\n",
    "        'single' : {},\n",
    "        'joints' : {},\n",
    "    }\n",
    "\n",
    "    # Minflux\n",
    "    data.makeSelection(['minflux', cond], logic=all)\n",
    "    dt = data[0].meta['Δt']\n",
    "\n",
    "    fitdata = nl.TaggedSet()\n",
    "    for traj in data:\n",
    "        fitdata |= chop(traj.rescale(1e6, keepmeta=['Δt']))\n",
    "\n",
    "    with nl.Parallelize():\n",
    "        _ = nl.analysis.MSD(fitdata, chunksize=10, show_progress=True)\n",
    "\n",
    "    fit = bayesmsd.lib.NPFit(fitdata, motion_blur_f=dt/n_subsample, parametrization='(log(αΓ), α)')\n",
    "    fit.parameters['log(σ²) (dim 1)'].fix_to = 'log(σ²) (dim 0)'\n",
    "    fit.likelihood_chunksize = 200\n",
    "\n",
    "    fits[treatment]['single'][f'minflux'] = fit\n",
    "\n",
    "    bar.update()\n",
    "\n",
    "    # Conventional\n",
    "    for dt_tag in ['100ms', '2s']:\n",
    "        data.makeSelection(['SPT', dt_tag, cond], logic=all)\n",
    "        dt = data[0].meta['Δt']\n",
    "        tau_e = 0.08671 # same exposure for both conditions\n",
    "\n",
    "        fitdata = data.apply(lambda traj : traj.relative(keepmeta=['MSD', 'Δt']), inplace=False)\n",
    "\n",
    "        fit = bayesmsd.lib.NPFit(fitdata, motion_blur_f=tau_e, parametrization='(log(αΓ), α)')\n",
    "        fit.parameters['log(σ²) (dim 1)'].fix_to = 'log(σ²) (dim 0)'\n",
    "        fit.likelihood_chunksize = 100\n",
    "\n",
    "        fits[treatment]['single'][f'SPT-{dt_tag}'] = fit\n",
    "\n",
    "        bar.update()\n",
    "\n",
    "    # Assemble list of fit(group)s to run\n",
    "    groups = {\n",
    "        'minflux'       : ['minflux'],\n",
    "        'SPT 100ms'     : ['SPT-100ms'],\n",
    "        'SPT 2s'        : ['SPT-2s'],\n",
    "        'SPT'           : ['SPT-100ms', 'SPT-2s'],\n",
    "        'minflux + SPT' : ['minflux', 'SPT-100ms', 'SPT-2s'],\n",
    "    }\n",
    "\n",
    "    for groupname in groups:\n",
    "        fits_dict = fits[treatment]['single']\n",
    "\n",
    "        fit = bayesmsd.FitGroup({name : fits_dict[name] for name in groups[groupname]})\n",
    "        fit.parameters['α']       = deepcopy(fits_dict['minflux'].parameters[      'α (dim 0)'])\n",
    "        fit.parameters['log(αΓ)'] = deepcopy(fits_dict['minflux'].parameters['log(αΓ) (dim 0)'])\n",
    "\n",
    "        # hacky...\n",
    "        def patch_initial_params(self=fit):\n",
    "            params = type(self).initial_params(self)\n",
    "            a    = [val for key, val in params.items() if      'α' in key][0]\n",
    "            logG = [val for key, val in params.items() if 'log(αΓ)' in key][0]\n",
    "            params['α'] = a\n",
    "            params['log(αΓ)'] = logG\n",
    "            return params\n",
    "        fit.initial_params = patch_initial_params\n",
    "\n",
    "        for fitname in fit.fits_dict:\n",
    "            fit.parameters[fitname+f' α (dim 0)'].fix_to = 'α'\n",
    "            if fitname == 'minflux':\n",
    "                fit.parameters[fitname+f' log(αΓ) (dim 0)'].fix_to = 'log(αΓ)'\n",
    "            else: # not minflux, so correct for 2-loc\n",
    "                def twoGref(params): return params['log(αΓ)']+np.log(2)\n",
    "                fit.parameters[fitname+f' log(αΓ) (dim 0)'].fix_to = twoGref\n",
    "\n",
    "        fits[treatment]['joints'][groupname] = fit\n",
    "\n",
    "        bar.update()\n",
    "\n",
    "bar.close()"
   ]
  },
  {
   "cell_type": "code",
   "execution_count": 7,
   "id": "3ba04e23",
   "metadata": {},
   "outputs": [
    {
     "name": "stdout",
     "output_type": "stream",
     "text": [
      "\n",
      "=================\n",
      "||  U2OS ctrl  ||\n",
      "=================\n",
      "\n",
      "minflux\n",
      "====================\n"
     ]
    },
    {
     "data": {
      "application/vnd.jupyter.widget-view+json": {
       "model_id": "203ecc0bc72240d1873f3a9b5d8e0bd1",
       "version_major": 2,
       "version_minor": 0
      },
      "text/plain": [
       "fit iterations: 0it [00:00, ?it/s]"
      ]
     },
     "metadata": {},
     "output_type": "display_data"
    },
    {
     "name": "stdout",
     "output_type": "stream",
     "text": [
      "minflux log(σ²) (dim 0) -8.568080618413742\n",
      "α 0.3290621973683439\n",
      "log(αΓ) -5.6140300321076015\n",
      "minflux α (dim 0) 0.3290621973683439\n",
      "minflux log(αΓ) (dim 0) -5.6140300321076015\n",
      "\n",
      "SPT 100ms\n",
      "====================\n"
     ]
    },
    {
     "data": {
      "application/vnd.jupyter.widget-view+json": {
       "model_id": "a7d7717ce1b842d0b57e1c75b4e9a285",
       "version_major": 2,
       "version_minor": 0
      },
      "text/plain": [
       "fit iterations: 0it [00:00, ?it/s]"
      ]
     },
     "metadata": {},
     "output_type": "display_data"
    },
    {
     "name": "stdout",
     "output_type": "stream",
     "text": [
      "SPT-100ms log(σ²) (dim 0) -7.4198098863866555\n",
      "α 0.35189445529692565\n",
      "log(αΓ) -5.744069801513546\n",
      "SPT-100ms α (dim 0) 0.35189445529692565\n",
      "SPT-100ms log(αΓ) (dim 0) -5.0509226209536005\n",
      "\n",
      "SPT 2s\n",
      "====================\n"
     ]
    },
    {
     "data": {
      "application/vnd.jupyter.widget-view+json": {
       "model_id": "a84a227c8cf5493d8cc03be9b80e05c3",
       "version_major": 2,
       "version_minor": 0
      },
      "text/plain": [
       "fit iterations: 0it [00:00, ?it/s]"
      ]
     },
     "metadata": {},
     "output_type": "display_data"
    },
    {
     "name": "stdout",
     "output_type": "stream",
     "text": [
      "SPT-2s log(σ²) (dim 0) -6.5809232839039105\n",
      "α 0.3345756428327056\n",
      "log(αΓ) -5.943490575883245\n",
      "SPT-2s α (dim 0) 0.3345756428327056\n",
      "SPT-2s log(αΓ) (dim 0) -5.250343395323299\n",
      "\n",
      "SPT\n",
      "====================\n"
     ]
    },
    {
     "data": {
      "application/vnd.jupyter.widget-view+json": {
       "model_id": "dfd76acdf1164176907988844a0267f7",
       "version_major": 2,
       "version_minor": 0
      },
      "text/plain": [
       "fit iterations: 0it [00:00, ?it/s]"
      ]
     },
     "metadata": {},
     "output_type": "display_data"
    },
    {
     "name": "stdout",
     "output_type": "stream",
     "text": [
      "SPT-100ms log(σ²) (dim 0) -7.631419355609323\n",
      "SPT-2s log(σ²) (dim 0) -8.406247819684591\n",
      "α 0.29823379293465524\n",
      "log(αΓ) -5.842887529980649\n",
      "SPT-100ms α (dim 0) 0.29823379293465524\n",
      "SPT-2s α (dim 0) 0.29823379293465524\n",
      "SPT-100ms log(αΓ) (dim 0) -5.1497403494207035\n",
      "SPT-2s log(αΓ) (dim 0) -5.1497403494207035\n",
      "\n",
      "minflux + SPT\n",
      "====================\n"
     ]
    },
    {
     "data": {
      "application/vnd.jupyter.widget-view+json": {
       "model_id": "5e5f3f1fa36048c195de7d2a8d7587f3",
       "version_major": 2,
       "version_minor": 0
      },
      "text/plain": [
       "fit iterations: 0it [00:00, ?it/s]"
      ]
     },
     "metadata": {},
     "output_type": "display_data"
    },
    {
     "name": "stdout",
     "output_type": "stream",
     "text": [
      "minflux log(σ²) (dim 0) -8.731302120803768\n",
      "SPT-100ms log(σ²) (dim 0) -7.740276128370338\n",
      "SPT-2s log(σ²) (dim 0) -12.946667856342088\n",
      "α 0.2939633728941035\n",
      "log(αΓ) -5.822654687382995\n",
      "minflux α (dim 0) 0.2939633728941035\n",
      "minflux log(αΓ) (dim 0) -5.822654687382995\n",
      "SPT-100ms α (dim 0) 0.2939633728941035\n",
      "SPT-2s α (dim 0) 0.2939633728941035\n",
      "SPT-100ms log(αΓ) (dim 0) -5.12950750682305\n",
      "SPT-2s log(αΓ) (dim 0) -5.12950750682305\n",
      "\n",
      "\n",
      "=================\n",
      "||  U2OS DRB   ||\n",
      "=================\n",
      "\n",
      "minflux\n",
      "====================\n"
     ]
    },
    {
     "data": {
      "application/vnd.jupyter.widget-view+json": {
       "model_id": "5d2e0cb12ee0442d8b6927e48ad099b1",
       "version_major": 2,
       "version_minor": 0
      },
      "text/plain": [
       "fit iterations: 0it [00:00, ?it/s]"
      ]
     },
     "metadata": {},
     "output_type": "display_data"
    },
    {
     "name": "stdout",
     "output_type": "stream",
     "text": [
      "minflux log(σ²) (dim 0) -8.6304840804662\n",
      "α 0.35185703844024085\n",
      "log(αΓ) -5.353760882859745\n",
      "minflux α (dim 0) 0.35185703844024085\n",
      "minflux log(αΓ) (dim 0) -5.353760882859745\n",
      "\n",
      "SPT 100ms\n",
      "====================\n"
     ]
    },
    {
     "data": {
      "application/vnd.jupyter.widget-view+json": {
       "model_id": "b539fcf8ae9449389b65a561d3eb7b4a",
       "version_major": 2,
       "version_minor": 0
      },
      "text/plain": [
       "fit iterations: 0it [00:00, ?it/s]"
      ]
     },
     "metadata": {},
     "output_type": "display_data"
    },
    {
     "name": "stdout",
     "output_type": "stream",
     "text": [
      "SPT-100ms log(σ²) (dim 0) -7.495122298255232\n",
      "α 0.3151283357086272\n",
      "log(αΓ) -5.490651400195042\n",
      "SPT-100ms α (dim 0) 0.3151283357086272\n",
      "SPT-100ms log(αΓ) (dim 0) -4.797504219635097\n",
      "\n",
      "SPT 2s\n",
      "====================\n"
     ]
    },
    {
     "data": {
      "application/vnd.jupyter.widget-view+json": {
       "model_id": "dabebd8bdfe94e66849be0db6c163b5d",
       "version_major": 2,
       "version_minor": 0
      },
      "text/plain": [
       "fit iterations: 0it [00:00, ?it/s]"
      ]
     },
     "metadata": {},
     "output_type": "display_data"
    },
    {
     "name": "stdout",
     "output_type": "stream",
     "text": [
      "SPT-2s log(σ²) (dim 0) -6.137293453898108\n",
      "α 0.3431881854597694\n",
      "log(αΓ) -5.828673378014537\n",
      "SPT-2s α (dim 0) 0.3431881854597694\n",
      "SPT-2s log(αΓ) (dim 0) -5.135526197454592\n",
      "\n",
      "SPT\n",
      "====================\n"
     ]
    },
    {
     "data": {
      "application/vnd.jupyter.widget-view+json": {
       "model_id": "8ef4796aff80459597a3ffde1571d726",
       "version_major": 2,
       "version_minor": 0
      },
      "text/plain": [
       "fit iterations: 0it [00:00, ?it/s]"
      ]
     },
     "metadata": {},
     "output_type": "display_data"
    },
    {
     "name": "stdout",
     "output_type": "stream",
     "text": [
      "SPT-100ms log(σ²) (dim 0) -7.638439689413831\n",
      "SPT-2s log(σ²) (dim 0) -19.230261130459247\n",
      "α 0.2574419221380648\n",
      "log(αΓ) -5.6497201575836895\n",
      "SPT-100ms α (dim 0) 0.2574419221380648\n",
      "SPT-2s α (dim 0) 0.2574419221380648\n",
      "SPT-100ms log(αΓ) (dim 0) -4.956572977023744\n",
      "SPT-2s log(αΓ) (dim 0) -4.956572977023744\n",
      "\n",
      "minflux + SPT\n",
      "====================\n"
     ]
    },
    {
     "data": {
      "application/vnd.jupyter.widget-view+json": {
       "model_id": "a7fbeb2acfd84383857de93c48167e03",
       "version_major": 2,
       "version_minor": 0
      },
      "text/plain": [
       "fit iterations: 0it [00:00, ?it/s]"
      ]
     },
     "metadata": {},
     "output_type": "display_data"
    },
    {
     "name": "stdout",
     "output_type": "stream",
     "text": [
      "minflux log(σ²) (dim 0) -8.882697308445117\n",
      "SPT-100ms log(σ²) (dim 0) -7.238263209439675\n",
      "SPT-2s log(σ²) (dim 0) -18.313674196931387\n",
      "α 0.30979368692239373\n",
      "log(αΓ) -5.595878647648554\n",
      "minflux α (dim 0) 0.30979368692239373\n",
      "minflux log(αΓ) (dim 0) -5.595878647648554\n",
      "SPT-100ms α (dim 0) 0.30979368692239373\n",
      "SPT-2s α (dim 0) 0.30979368692239373\n",
      "SPT-100ms log(αΓ) (dim 0) -4.902731467088609\n",
      "SPT-2s log(αΓ) (dim 0) -4.902731467088609\n",
      "\n",
      "\n",
      "=================\n",
      "||  U2OS TSA   ||\n",
      "=================\n",
      "\n",
      "minflux\n",
      "====================\n"
     ]
    },
    {
     "data": {
      "application/vnd.jupyter.widget-view+json": {
       "model_id": "c65ad510beac486696b940cb5c47f354",
       "version_major": 2,
       "version_minor": 0
      },
      "text/plain": [
       "fit iterations: 0it [00:00, ?it/s]"
      ]
     },
     "metadata": {},
     "output_type": "display_data"
    },
    {
     "name": "stdout",
     "output_type": "stream",
     "text": [
      "minflux log(σ²) (dim 0) -8.633831539474476\n",
      "α 0.3160850856984596\n",
      "log(αΓ) -5.678456700389107\n",
      "minflux α (dim 0) 0.3160850856984596\n",
      "minflux log(αΓ) (dim 0) -5.678456700389107\n",
      "\n",
      "SPT 100ms\n",
      "====================\n"
     ]
    },
    {
     "data": {
      "application/vnd.jupyter.widget-view+json": {
       "model_id": "03577ad3f274457da401077cbb18edaf",
       "version_major": 2,
       "version_minor": 0
      },
      "text/plain": [
       "fit iterations: 0it [00:00, ?it/s]"
      ]
     },
     "metadata": {},
     "output_type": "display_data"
    },
    {
     "name": "stdout",
     "output_type": "stream",
     "text": [
      "SPT-100ms log(σ²) (dim 0) -7.4652625292309835\n",
      "α 0.3171543486241498\n",
      "log(αΓ) -5.758675900329884\n",
      "SPT-100ms α (dim 0) 0.3171543486241498\n",
      "SPT-100ms log(αΓ) (dim 0) -5.065528719769938\n",
      "\n",
      "SPT 2s\n",
      "====================\n"
     ]
    },
    {
     "data": {
      "application/vnd.jupyter.widget-view+json": {
       "model_id": "c79aefc89050423ead20936f896d1219",
       "version_major": 2,
       "version_minor": 0
      },
      "text/plain": [
       "fit iterations: 0it [00:00, ?it/s]"
      ]
     },
     "metadata": {},
     "output_type": "display_data"
    },
    {
     "name": "stdout",
     "output_type": "stream",
     "text": [
      "SPT-2s log(σ²) (dim 0) -5.9463720030538365\n",
      "α 0.4055444479654826\n",
      "log(αΓ) -5.983107338471989\n",
      "SPT-2s α (dim 0) 0.4055444479654826\n",
      "SPT-2s log(αΓ) (dim 0) -5.289960157912043\n",
      "\n",
      "SPT\n",
      "====================\n"
     ]
    },
    {
     "data": {
      "application/vnd.jupyter.widget-view+json": {
       "model_id": "068b10a4384d426cba3493b661a31dff",
       "version_major": 2,
       "version_minor": 0
      },
      "text/plain": [
       "fit iterations: 0it [00:00, ?it/s]"
      ]
     },
     "metadata": {},
     "output_type": "display_data"
    },
    {
     "name": "stdout",
     "output_type": "stream",
     "text": [
      "SPT-100ms log(σ²) (dim 0) -7.485594096228442\n",
      "SPT-2s log(σ²) (dim 0) -8.308355325803014\n",
      "α 0.3057138023081887\n",
      "log(αΓ) -5.78938867496729\n",
      "SPT-100ms α (dim 0) 0.3057138023081887\n",
      "SPT-2s α (dim 0) 0.3057138023081887\n",
      "SPT-100ms log(αΓ) (dim 0) -5.096241494407344\n",
      "SPT-2s log(αΓ) (dim 0) -5.096241494407344\n",
      "\n",
      "minflux + SPT\n",
      "====================\n"
     ]
    },
    {
     "data": {
      "application/vnd.jupyter.widget-view+json": {
       "model_id": "23d1f343357f4f499c9040217ab1d656",
       "version_major": 2,
       "version_minor": 0
      },
      "text/plain": [
       "fit iterations: 0it [00:00, ?it/s]"
      ]
     },
     "metadata": {},
     "output_type": "display_data"
    },
    {
     "name": "stdout",
     "output_type": "stream",
     "text": [
      "minflux log(σ²) (dim 0) -8.712317682660343\n",
      "SPT-100ms log(σ²) (dim 0) -7.578844757459832\n",
      "SPT-2s log(σ²) (dim 0) -9.591049222307001\n",
      "α 0.2996147015445656\n",
      "log(αΓ) -5.7771214418805705\n",
      "minflux α (dim 0) 0.2996147015445656\n",
      "minflux log(αΓ) (dim 0) -5.7771214418805705\n",
      "SPT-100ms α (dim 0) 0.2996147015445656\n",
      "SPT-2s α (dim 0) 0.2996147015445656\n",
      "SPT-100ms log(αΓ) (dim 0) -5.083974261320625\n",
      "SPT-2s log(αΓ) (dim 0) -5.083974261320625\n",
      "\n",
      "\n",
      "=================\n",
      "||  U2OS ICRF  ||\n",
      "=================\n",
      "\n",
      "minflux\n",
      "====================\n"
     ]
    },
    {
     "data": {
      "application/vnd.jupyter.widget-view+json": {
       "model_id": "816ea3a72dd94b788cb84557c89b149d",
       "version_major": 2,
       "version_minor": 0
      },
      "text/plain": [
       "fit iterations: 0it [00:00, ?it/s]"
      ]
     },
     "metadata": {},
     "output_type": "display_data"
    },
    {
     "name": "stdout",
     "output_type": "stream",
     "text": [
      "minflux log(σ²) (dim 0) -8.608466122005193\n",
      "α 0.31025174706847924\n",
      "log(αΓ) -5.7794295890575995\n",
      "minflux α (dim 0) 0.31025174706847924\n",
      "minflux log(αΓ) (dim 0) -5.7794295890575995\n",
      "\n",
      "SPT 100ms\n",
      "====================\n"
     ]
    },
    {
     "data": {
      "application/vnd.jupyter.widget-view+json": {
       "model_id": "3aa33c23631a4c00912b2871f16597bf",
       "version_major": 2,
       "version_minor": 0
      },
      "text/plain": [
       "fit iterations: 0it [00:00, ?it/s]"
      ]
     },
     "metadata": {},
     "output_type": "display_data"
    },
    {
     "name": "stdout",
     "output_type": "stream",
     "text": [
      "SPT-100ms log(σ²) (dim 0) -7.423759462961594\n",
      "α 0.3286490235587158\n",
      "log(αΓ) -6.044421011603674\n",
      "SPT-100ms α (dim 0) 0.3286490235587158\n",
      "SPT-100ms log(αΓ) (dim 0) -5.351273831043729\n",
      "\n",
      "SPT 2s\n",
      "====================\n"
     ]
    },
    {
     "data": {
      "application/vnd.jupyter.widget-view+json": {
       "model_id": "1627967873a7438fb977fda0d70acf80",
       "version_major": 2,
       "version_minor": 0
      },
      "text/plain": [
       "fit iterations: 0it [00:00, ?it/s]"
      ]
     },
     "metadata": {},
     "output_type": "display_data"
    },
    {
     "name": "stdout",
     "output_type": "stream",
     "text": [
      "SPT-2s log(σ²) (dim 0) -6.799328583888659\n",
      "α 0.3219077459534748\n",
      "log(αΓ) -6.219392558364268\n",
      "SPT-2s α (dim 0) 0.3219077459534748\n",
      "SPT-2s log(αΓ) (dim 0) -5.526245377804322\n",
      "\n",
      "SPT\n",
      "====================\n"
     ]
    },
    {
     "data": {
      "application/vnd.jupyter.widget-view+json": {
       "model_id": "e2add7e3f1554274828c880b16aa4c76",
       "version_major": 2,
       "version_minor": 0
      },
      "text/plain": [
       "fit iterations: 0it [00:00, ?it/s]"
      ]
     },
     "metadata": {},
     "output_type": "display_data"
    },
    {
     "name": "stdout",
     "output_type": "stream",
     "text": [
      "SPT-100ms log(σ²) (dim 0) -7.5561351342433865\n",
      "SPT-2s log(σ²) (dim 0) -8.346976067072045\n",
      "α 0.286226237329936\n",
      "log(αΓ) -6.121496914769338\n",
      "SPT-100ms α (dim 0) 0.286226237329936\n",
      "SPT-2s α (dim 0) 0.286226237329936\n",
      "SPT-100ms log(αΓ) (dim 0) -5.428349734209393\n",
      "SPT-2s log(αΓ) (dim 0) -5.428349734209393\n",
      "\n",
      "minflux + SPT\n",
      "====================\n"
     ]
    },
    {
     "data": {
      "application/vnd.jupyter.widget-view+json": {
       "model_id": "aad622a14fc448b9a9c3646e67c2c79c",
       "version_major": 2,
       "version_minor": 0
      },
      "text/plain": [
       "fit iterations: 0it [00:00, ?it/s]"
      ]
     },
     "metadata": {},
     "output_type": "display_data"
    },
    {
     "name": "stdout",
     "output_type": "stream",
     "text": [
      "minflux log(σ²) (dim 0) -8.87807574687922\n",
      "SPT-100ms log(σ²) (dim 0) -7.856396950532863\n",
      "SPT-2s log(σ²) (dim 0) -17.493412855447602\n",
      "α 0.25513873828257716\n",
      "log(αΓ) -6.114631891813091\n",
      "minflux α (dim 0) 0.25513873828257716\n",
      "minflux log(αΓ) (dim 0) -6.114631891813091\n",
      "SPT-100ms α (dim 0) 0.25513873828257716\n",
      "SPT-2s α (dim 0) 0.25513873828257716\n",
      "SPT-100ms log(αΓ) (dim 0) -5.421484711253146\n",
      "SPT-2s log(αΓ) (dim 0) -5.421484711253146\n",
      "\n"
     ]
    }
   ],
   "source": [
    "fitres = {}\n",
    "for treatment in ['ctrl', 'DRB', 'TSA', 'ICRF']:\n",
    "    print()\n",
    "    print(17*'=')\n",
    "    print(f'|| {ct:>5s} {treatment:<5s} ||')\n",
    "    print(17*'=')\n",
    "    print()\n",
    "    \n",
    "    fitres[treatment] = {}\n",
    "    for name in fits[treatment]['joints']:\n",
    "        print(name)\n",
    "        print('='*20)\n",
    "\n",
    "        with nl.Parallelize():\n",
    "            fitres[treatment][name] = fits[treatment]['joints'][name].run(show_progress=True)\n",
    "\n",
    "        for key in fitres[treatment][name]['params']:\n",
    "            print(key, fitres[treatment][name]['params'][key])\n",
    "        print()"
   ]
  },
  {
   "cell_type": "code",
   "execution_count": 8,
   "id": "5daa4512",
   "metadata": {},
   "outputs": [],
   "source": [
    "nl.io.write.hdf5(fitres, f'../data/20250327_fitres_NPFit-aGparam_{ct}.h5')"
   ]
  },
  {
   "cell_type": "markdown",
   "id": "889e287e",
   "metadata": {},
   "source": [
    "## Profiler\n",
    "Estimate credible intervals for point estimates from profile likelihood. __Attention: computationally expensive__\n",
    "\n",
    "This can also move the point estimate, if we find better parameters while exploring"
   ]
  },
  {
   "cell_type": "code",
   "execution_count": null,
   "id": "02867791",
   "metadata": {},
   "outputs": [
    {
     "name": "stdout",
     "output_type": "stream",
     "text": [
      "\n",
      "=================\n",
      "||  U2OS ctrl  ||\n",
      "=================\n",
      "\n",
      "minflux\n",
      "====================\n"
     ]
    },
    {
     "data": {
      "application/vnd.jupyter.widget-view+json": {
       "model_id": "0433b6dd32ce41c4b359c1f82185ed4c",
       "version_major": 2,
       "version_minor": 0
      },
      "text/plain": [
       "profiler iterations: 0it [00:00, ?it/s]"
      ]
     },
     "metadata": {},
     "output_type": "display_data"
    },
    {
     "name": "stdout",
     "output_type": "stream",
     "text": [
      "  minflux log(σ²) (dim 0) = -8.568 [-8.594, -8.542]\n",
      "                        α =  0.329 [ 0.324,  0.334]\n",
      "                  log(αΓ) = -5.614 [-5.643, -5.585]\n",
      "\n",
      "SPT 100ms\n",
      "====================\n"
     ]
    },
    {
     "data": {
      "application/vnd.jupyter.widget-view+json": {
       "model_id": "898f1da2411d40b1b827a5e510007d96",
       "version_major": 2,
       "version_minor": 0
      },
      "text/plain": [
       "profiler iterations: 0it [00:00, ?it/s]"
      ]
     },
     "metadata": {},
     "output_type": "display_data"
    },
    {
     "name": "stdout",
     "output_type": "stream",
     "text": [
      "SPT-100ms log(σ²) (dim 0) = -7.420 [-7.479, -7.365]\n",
      "                        α =  0.352 [ 0.340,  0.364]\n",
      "                  log(αΓ) = -5.744 [-5.766, -5.722]\n",
      "\n",
      "SPT 2s\n",
      "====================\n"
     ]
    },
    {
     "data": {
      "application/vnd.jupyter.widget-view+json": {
       "model_id": "435523d0ead6430a847712529b665283",
       "version_major": 2,
       "version_minor": 0
      },
      "text/plain": [
       "profiler iterations: 0it [00:00, ?it/s]"
      ]
     },
     "metadata": {},
     "output_type": "display_data"
    },
    {
     "name": "stdout",
     "output_type": "stream",
     "text": [
      "   SPT-2s log(σ²) (dim 0) = -6.581 [-6.995, -6.288]\n",
      "                        α =  0.335 [ 0.313,  0.356]\n",
      "                  log(αΓ) = -5.943 [-5.984, -5.903]\n",
      "\n",
      "SPT\n",
      "====================\n"
     ]
    },
    {
     "data": {
      "application/vnd.jupyter.widget-view+json": {
       "model_id": "c710ede3cb934de7898c9a95b68940bc",
       "version_major": 2,
       "version_minor": 0
      },
      "text/plain": [
       "profiler iterations: 0it [00:00, ?it/s]"
      ]
     },
     "metadata": {},
     "output_type": "display_data"
    },
    {
     "name": "stdout",
     "output_type": "stream",
     "text": [
      "SPT-100ms log(σ²) (dim 0) = -7.631 [-7.680, -7.585]\n",
      "   SPT-2s log(σ²) (dim 0) = -8.406 [-9.017, -8.029]\n",
      "                        α =  0.298 [ 0.293,  0.304]\n",
      "                  log(αΓ) = -5.843 [-5.850, -5.835]\n",
      "\n",
      "minflux + SPT\n",
      "====================\n"
     ]
    },
    {
     "data": {
      "application/vnd.jupyter.widget-view+json": {
       "model_id": "39e76be0cf6941628855f311c4f1b270",
       "version_major": 2,
       "version_minor": 0
      },
      "text/plain": [
       "profiler iterations: 0it [00:00, ?it/s]"
      ]
     },
     "metadata": {},
     "output_type": "display_data"
    },
    {
     "name": "stdout",
     "output_type": "stream",
     "text": [
      "[bayesmsd.Profiler @ 1]  Warning: Found a better point estimate (3508443.900076883 > 3508443.8987627607)\n",
      "[bayesmsd.Profiler @ 1]  Will restart from there (50 remaining)\n"
     ]
    },
    {
     "data": {
      "application/vnd.jupyter.widget-view+json": {
       "model_id": "be827cb3099d4193aed8674935fa00ff",
       "version_major": 2,
       "version_minor": 0
      },
      "text/plain": [
       "fit iterations: 0it [00:00, ?it/s]"
      ]
     },
     "metadata": {},
     "output_type": "display_data"
    },
    {
     "name": "stdout",
     "output_type": "stream",
     "text": [
      "  minflux log(σ²) (dim 0) = -8.731 [-8.752, -8.711]\n",
      "SPT-100ms log(σ²) (dim 0) = -7.740 [-7.770, -7.712]\n",
      "   SPT-2s log(σ²) (dim 0) = -13.947 [  -inf, -9.275]\n",
      "                        α =  0.294 [ 0.293,  0.295]\n",
      "                  log(αΓ) = -5.823 [-5.829, -5.816]\n",
      "\n",
      "\n",
      "=================\n",
      "||  U2OS DRB   ||\n",
      "=================\n",
      "\n",
      "minflux\n",
      "====================\n"
     ]
    },
    {
     "data": {
      "application/vnd.jupyter.widget-view+json": {
       "model_id": "8966f6ce6d6f46f9a900f73ff14e5d85",
       "version_major": 2,
       "version_minor": 0
      },
      "text/plain": [
       "profiler iterations: 0it [00:00, ?it/s]"
      ]
     },
     "metadata": {},
     "output_type": "display_data"
    },
    {
     "name": "stdout",
     "output_type": "stream",
     "text": [
      "SPT-100ms log(σ²) (dim 0) = -7.495 [-7.588, -7.411]\n",
      "                        α =  0.315 [ 0.303,  0.327]\n",
      "                  log(αΓ) = -5.491 [-5.513, -5.468]\n",
      "\n",
      "SPT 2s\n",
      "====================\n"
     ]
    },
    {
     "data": {
      "application/vnd.jupyter.widget-view+json": {
       "model_id": "19e8bc8e964640fe8562c51ca72d64d3",
       "version_major": 2,
       "version_minor": 0
      },
      "text/plain": [
       "profiler iterations: 0it [00:00, ?it/s]"
      ]
     },
     "metadata": {},
     "output_type": "display_data"
    },
    {
     "name": "stdout",
     "output_type": "stream",
     "text": [
      "   SPT-2s log(σ²) (dim 0) = -6.137 [-6.539, -5.870]\n",
      "                        α =  0.343 [ 0.315,  0.371]\n",
      "                  log(αΓ) = -5.829 [-5.881, -5.777]\n",
      "\n",
      "SPT\n",
      "====================\n"
     ]
    },
    {
     "data": {
      "application/vnd.jupyter.widget-view+json": {
       "model_id": "59d02a2d05894de386b4db065b78c210",
       "version_major": 2,
       "version_minor": 0
      },
      "text/plain": [
       "profiler iterations: 0it [00:00, ?it/s]"
      ]
     },
     "metadata": {},
     "output_type": "display_data"
    },
    {
     "name": "stdout",
     "output_type": "stream",
     "text": [
      "SPT-100ms log(σ²) (dim 0) = -7.638 [-7.713, -7.569]\n",
      "   SPT-2s log(σ²) (dim 0) = -19.230 [  -inf, -11.527]\n",
      "                        α =  0.257 [ 0.252,  0.263]\n",
      "                  log(αΓ) = -5.650 [-5.659, -5.641]\n",
      "\n",
      "minflux + SPT\n",
      "====================\n"
     ]
    },
    {
     "data": {
      "application/vnd.jupyter.widget-view+json": {
       "model_id": "59dd3dfbe8bd42fa8f92b4ed284c55be",
       "version_major": 2,
       "version_minor": 0
      },
      "text/plain": [
       "profiler iterations: 0it [00:00, ?it/s]"
      ]
     },
     "metadata": {},
     "output_type": "display_data"
    },
    {
     "name": "stdout",
     "output_type": "stream",
     "text": [
      "[bayesmsd.Profiler @ 1]  Warning: Found a better point estimate (2961726.6248392183 > 2961726.6230789674)\n",
      "[bayesmsd.Profiler @ 1]  Will restart from there (50 remaining)\n"
     ]
    },
    {
     "data": {
      "application/vnd.jupyter.widget-view+json": {
       "model_id": "eed5df4030d64d7ba693c896c45661e5",
       "version_major": 2,
       "version_minor": 0
      },
      "text/plain": [
       "fit iterations: 0it [00:00, ?it/s]"
      ]
     },
     "metadata": {},
     "output_type": "display_data"
    }
   ],
   "source": [
    "fitres = nl.io.load.hdf5(f'../data/20250327_fitres_NPFit-aGparam_{ct}.h5')\n",
    "mci = {}\n",
    "for treatment in ['ctrl', 'DRB', 'TSA', 'ICRF']:\n",
    "    print()\n",
    "    print(17*'=')\n",
    "    print(f'|| {ct:>5s} {treatment:<5s} ||')\n",
    "    print(17*'=')\n",
    "    print()\n",
    "    \n",
    "    mci[treatment] = {}\n",
    "    for name in fits[treatment]['joints']:\n",
    "        print(name)\n",
    "        print('='*20)\n",
    "        \n",
    "        profiler = bayesmsd.Profiler(fits[treatment]['joints'][name], max_restarts=50)\n",
    "        profiler.point_estimate = fitres[treatment][name]\n",
    "\n",
    "        with nl.Parallelize():\n",
    "            mci[treatment][name] = profiler.find_MCI(show_progress=True)\n",
    "\n",
    "        for key in mci[treatment][name]:\n",
    "            m, (cil, cih) = mci[treatment][name][key]\n",
    "            print(f\"{key:>25s} = {m:>6.3f} [{cil:>6.3f}, {cih:>6.3f}]\")\n",
    "        print()"
   ]
  },
  {
   "cell_type": "code",
   "execution_count": null,
   "id": "8d1852c6",
   "metadata": {},
   "outputs": [],
   "source": [
    "nl.io.write.hdf5(mci, f'../data/20250327_mci_NPFit-aGparam_{ct}.h5')"
   ]
  },
  {
   "cell_type": "code",
   "execution_count": null,
   "id": "8083b563",
   "metadata": {},
   "outputs": [],
   "source": []
  },
  {
   "cell_type": "code",
   "execution_count": null,
   "id": "01f3cb83",
   "metadata": {},
   "outputs": [],
   "source": []
  },
  {
   "cell_type": "code",
   "execution_count": null,
   "id": "1c9229ce",
   "metadata": {},
   "outputs": [],
   "source": []
  },
  {
   "cell_type": "code",
   "execution_count": null,
   "id": "ffb6c4ea",
   "metadata": {},
   "outputs": [],
   "source": []
  },
  {
   "cell_type": "code",
   "execution_count": null,
   "id": "9feffc3d",
   "metadata": {},
   "outputs": [],
   "source": []
  },
  {
   "cell_type": "code",
   "execution_count": null,
   "id": "e5ff2248",
   "metadata": {},
   "outputs": [],
   "source": []
  },
  {
   "cell_type": "code",
   "execution_count": null,
   "id": "930707ea",
   "metadata": {},
   "outputs": [],
   "source": []
  },
  {
   "cell_type": "code",
   "execution_count": null,
   "id": "cd2025b9",
   "metadata": {},
   "outputs": [],
   "source": []
  },
  {
   "cell_type": "code",
   "execution_count": null,
   "id": "5f674e0f",
   "metadata": {},
   "outputs": [],
   "source": []
  },
  {
   "cell_type": "code",
   "execution_count": null,
   "id": "d70b16f4",
   "metadata": {},
   "outputs": [],
   "source": []
  },
  {
   "cell_type": "code",
   "execution_count": null,
   "id": "5afa3df7",
   "metadata": {},
   "outputs": [],
   "source": []
  },
  {
   "cell_type": "code",
   "execution_count": null,
   "id": "eb0da561",
   "metadata": {},
   "outputs": [],
   "source": []
  },
  {
   "cell_type": "code",
   "execution_count": null,
   "id": "30c60357",
   "metadata": {},
   "outputs": [],
   "source": []
  },
  {
   "cell_type": "code",
   "execution_count": null,
   "id": "f95d94d9",
   "metadata": {},
   "outputs": [],
   "source": []
  },
  {
   "cell_type": "code",
   "execution_count": null,
   "id": "8ae34757",
   "metadata": {},
   "outputs": [],
   "source": []
  },
  {
   "cell_type": "code",
   "execution_count": null,
   "id": "68e62433",
   "metadata": {},
   "outputs": [],
   "source": []
  },
  {
   "cell_type": "code",
   "execution_count": null,
   "id": "58dca76d",
   "metadata": {},
   "outputs": [],
   "source": []
  },
  {
   "cell_type": "code",
   "execution_count": null,
   "id": "002ed37c",
   "metadata": {},
   "outputs": [],
   "source": []
  },
  {
   "cell_type": "code",
   "execution_count": null,
   "id": "cca89b68",
   "metadata": {},
   "outputs": [],
   "source": []
  },
  {
   "cell_type": "code",
   "execution_count": null,
   "id": "fdeaf3ae",
   "metadata": {},
   "outputs": [],
   "source": []
  },
  {
   "cell_type": "code",
   "execution_count": null,
   "id": "666f556e",
   "metadata": {},
   "outputs": [],
   "source": []
  },
  {
   "cell_type": "code",
   "execution_count": null,
   "id": "92c1ad3b",
   "metadata": {},
   "outputs": [],
   "source": []
  },
  {
   "cell_type": "code",
   "execution_count": null,
   "id": "56a172e9",
   "metadata": {},
   "outputs": [],
   "source": []
  },
  {
   "cell_type": "code",
   "execution_count": null,
   "id": "ae56b79b",
   "metadata": {},
   "outputs": [],
   "source": []
  },
  {
   "cell_type": "code",
   "execution_count": null,
   "id": "d0ef1136",
   "metadata": {},
   "outputs": [],
   "source": []
  }
 ],
 "metadata": {
  "kernelspec": {
   "display_name": "Python 3 (ipykernel)",
   "language": "python",
   "name": "python3"
  },
  "language_info": {
   "codemirror_mode": {
    "name": "ipython",
    "version": 3
   },
   "file_extension": ".py",
   "mimetype": "text/x-python",
   "name": "python",
   "nbconvert_exporter": "python",
   "pygments_lexer": "ipython3",
   "version": "3.9.9"
  }
 },
 "nbformat": 4,
 "nbformat_minor": 5
}
